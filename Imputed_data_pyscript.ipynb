{
 "cells": [
  {
   "cell_type": "markdown",
   "metadata": {},
   "source": [
    "# <span style=\"color:green\"> Import libraries<span style=\"color:green\">"
   ]
  },
  {
   "cell_type": "code",
   "execution_count": 1,
   "metadata": {},
   "outputs": [
    {
     "name": "stderr",
     "output_type": "stream",
     "text": [
      "2024-05-17 13:15:55.249102: E external/local_xla/xla/stream_executor/cuda/cuda_dnn.cc:9261] Unable to register cuDNN factory: Attempting to register factory for plugin cuDNN when one has already been registered\n",
      "2024-05-17 13:15:55.249170: E external/local_xla/xla/stream_executor/cuda/cuda_fft.cc:607] Unable to register cuFFT factory: Attempting to register factory for plugin cuFFT when one has already been registered\n",
      "2024-05-17 13:15:55.250400: E external/local_xla/xla/stream_executor/cuda/cuda_blas.cc:1515] Unable to register cuBLAS factory: Attempting to register factory for plugin cuBLAS when one has already been registered\n",
      "2024-05-17 13:15:55.260350: I tensorflow/core/platform/cpu_feature_guard.cc:182] This TensorFlow binary is optimized to use available CPU instructions in performance-critical operations.\n",
      "To enable the following instructions: AVX2 FMA, in other operations, rebuild TensorFlow with the appropriate compiler flags.\n",
      "2024-05-17 13:15:56.279396: W tensorflow/compiler/tf2tensorrt/utils/py_utils.cc:38] TF-TRT Warning: Could not find TensorRT\n"
     ]
    }
   ],
   "source": [
    "#Import all the required libraries\n",
    "import seaborn as sns\n",
    "import pandas as pd\n",
    "import matplotlib.pyplot as plt\n",
    "import numpy as np\n",
    "import sklearn \n",
    "import random\n",
    "from sklearn import linear_model\n",
    "from sklearn.linear_model import LinearRegression\n",
    "from sklearn.feature_selection import SelectKBest\n",
    "from sklearn.feature_selection import mutual_info_regression\n",
    "from sklearn.linear_model import Lasso, LassoCV, Ridge, RidgeCV\n",
    "from sklearn.model_selection import cross_val_score\n",
    "from sklearn.model_selection import train_test_split\n",
    "from sklearn.preprocessing import StandardScaler\n",
    "from sklearn.feature_selection import SelectFromModel\n",
    "from sklearn.metrics import mean_squared_error\n",
    "from sklearn.metrics import r2_score\n",
    "import tensorflow as tf\n",
    "from tensorflow import keras\n",
    "from keras import layers\n",
    "from tensorflow.keras.layers import Input, Dense, LeakyReLU, ReLU\n",
    "from sklearn.preprocessing import MinMaxScaler\n",
    "from tensorflow.keras.models import Model\n",
    "from sklearn.metrics import mean_absolute_error, mean_squared_error, explained_variance_score\n",
    "from sklearn.feature_selection import f_regression\n",
    "from sklearn.ensemble import RandomForestRegressor\n",
    "from sklearn.svm import SVR\n",
    "import pybiomart\n",
    "from biomart import BiomartServer\n",
    "from sklearn.feature_selection import RFECV\n",
    "import xgboost as xgb"
   ]
  },
  {
   "cell_type": "code",
   "execution_count": null,
   "metadata": {},
   "outputs": [],
   "source": []
  },
  {
   "cell_type": "code",
   "execution_count": null,
   "metadata": {},
   "outputs": [],
   "source": []
  },
  {
   "cell_type": "markdown",
   "metadata": {},
   "source": [
    "# <span style=\"color:green\"> ML for Feature Selection and Association <span style=\"color:green\">"
   ]
  },
  {
   "cell_type": "code",
   "execution_count": 2,
   "metadata": {},
   "outputs": [
    {
     "name": "stdout",
     "output_type": "stream",
     "text": [
      "     FID  IID  PAT  MAT  SEX  PHENOTYPE  rs11253478_C  rs2436029:269101:C:T_T  \\\n",
      "0  10004    1    0    0    2         75             2                       2   \n",
      "1  10005    1    0    0    1         69             2                       2   \n",
      "2  10007    1    0    0    1        108             2                       2   \n",
      "3  10008    1    0    0    1         94             1                       2   \n",
      "4  10009    1    0    0    1         92             2                       2   \n",
      "\n",
      "   rs2448378_T  rs2060138_A  ...  rs11137278_C  rs6559242_G  rs1110146_T  \\\n",
      "0            2            1  ...             0            2            2   \n",
      "1            2            2  ...             2            0            2   \n",
      "2            2            2  ...             2            1            1   \n",
      "3            2            1  ...             2            1            2   \n",
      "4            2            2  ...             2            0            1   \n",
      "\n",
      "   rs6559257_A  rs7865267_C  rs1378954:141005656:G:A_A  \\\n",
      "0            2            2                          2   \n",
      "1            1            2                          2   \n",
      "2            1            2                          2   \n",
      "3            2            2                          2   \n",
      "4            2            2                          2   \n",
      "\n",
      "   rs766373:141005772:A:G_G  rs2739258_T  rs9777369_C  \\\n",
      "0                         2            1            2   \n",
      "1                         2            0            2   \n",
      "2                         2            0            2   \n",
      "3                         2            0            2   \n",
      "4                         1            1            2   \n",
      "\n",
      "   rs7863719:141071475:C:G_G  \n",
      "0                          2  \n",
      "1                          2  \n",
      "2                          2  \n",
      "3                          2  \n",
      "4                          2  \n",
      "\n",
      "[5 rows x 150131 columns]\n",
      "Shape of file (1282, 150131)\n"
     ]
    }
   ],
   "source": [
    "#Read the file \n",
    "df= pd.read_table(\"/home/Vaishnavi/Imputeted_data/GWAStutorialldlraw.raw\", delim_whitespace= True)\n",
    "print(df.head())\n",
    "print(\"Shape of file\", df.shape)"
   ]
  },
  {
   "cell_type": "code",
   "execution_count": null,
   "metadata": {},
   "outputs": [],
   "source": []
  },
  {
   "cell_type": "code",
   "execution_count": 3,
   "metadata": {},
   "outputs": [
    {
     "name": "stdout",
     "output_type": "stream",
     "text": [
      "Shape of X (1282, 150125)\n",
      "Shape of y (1282,)\n"
     ]
    }
   ],
   "source": [
    "#X is Independent feature and y is dependent feature\n",
    "X= df.iloc[:, 6:]\n",
    "print(\"Shape of X\", X.shape)\n",
    "y= df.PHENOTYPE\n",
    "print(\"Shape of y\", y.shape)"
   ]
  },
  {
   "cell_type": "code",
   "execution_count": 4,
   "metadata": {},
   "outputs": [
    {
     "data": {
      "text/plain": [
       "0        75\n",
       "1        69\n",
       "2       108\n",
       "3        94\n",
       "4        92\n",
       "       ... \n",
       "1277    174\n",
       "1278     89\n",
       "1279     77\n",
       "1280     41\n",
       "1281     96\n",
       "Name: PHENOTYPE, Length: 1282, dtype: int64"
      ]
     },
     "execution_count": 4,
     "metadata": {},
     "output_type": "execute_result"
    }
   ],
   "source": [
    "y"
   ]
  },
  {
   "cell_type": "code",
   "execution_count": 5,
   "metadata": {},
   "outputs": [
    {
     "name": "stdout",
     "output_type": "stream",
     "text": [
      "The dimension of X_train is (897, 150125)\n",
      "The dimension of X_test is (385, 150125)\n"
     ]
    }
   ],
   "source": [
    "#Train test data split\n",
    "X_train, X_test, y_train, y_test= train_test_split(X, y, test_size=0.3, random_state=2000)\n",
    "print(\"The dimension of X_train is {}\".format(X_train.shape))\n",
    "print(\"The dimension of X_test is {}\".format(X_test.shape))"
   ]
  },
  {
   "cell_type": "code",
   "execution_count": 6,
   "metadata": {},
   "outputs": [],
   "source": [
    "#Standardization of X_train and X_test data by Standard Scaler\n",
    "scaler= StandardScaler()\n",
    "X_train= scaler.fit_transform(X_train)\n",
    "X_test= scaler.transform(X_test)"
   ]
  },
  {
   "cell_type": "markdown",
   "metadata": {},
   "source": [
    "## <span style=\"color:green\"> LASSO <span style=\"color:green\">"
   ]
  },
  {
   "cell_type": "code",
   "execution_count": 7,
   "metadata": {},
   "outputs": [
    {
     "name": "stderr",
     "output_type": "stream",
     "text": [
      "/apps/compiler/anaconda3/lib/python3.9/site-packages/sklearn/linear_model/_coordinate_descent.py:628: ConvergenceWarning: Objective did not converge. You might want to increase the number of iterations, check the scale of the features or consider increasing regularisation. Duality gap: 5.057e+02, tolerance: 1.336e+02\n",
      "  model = cd_fast.enet_coordinate_descent(\n",
      "/apps/compiler/anaconda3/lib/python3.9/site-packages/sklearn/linear_model/_coordinate_descent.py:628: ConvergenceWarning: Objective did not converge. You might want to increase the number of iterations, check the scale of the features or consider increasing regularisation. Duality gap: 4.817e+02, tolerance: 1.342e+02\n",
      "  model = cd_fast.enet_coordinate_descent(\n",
      "/apps/compiler/anaconda3/lib/python3.9/site-packages/sklearn/linear_model/_coordinate_descent.py:628: ConvergenceWarning: Objective did not converge. You might want to increase the number of iterations, check the scale of the features or consider increasing regularisation. Duality gap: 4.600e+02, tolerance: 1.252e+02\n",
      "  model = cd_fast.enet_coordinate_descent(\n",
      "/apps/compiler/anaconda3/lib/python3.9/site-packages/sklearn/linear_model/_coordinate_descent.py:628: ConvergenceWarning: Objective did not converge. You might want to increase the number of iterations, check the scale of the features or consider increasing regularisation. Duality gap: 4.725e+02, tolerance: 1.270e+02\n",
      "  model = cd_fast.enet_coordinate_descent(\n",
      "/apps/compiler/anaconda3/lib/python3.9/site-packages/sklearn/linear_model/_coordinate_descent.py:628: ConvergenceWarning: Objective did not converge. You might want to increase the number of iterations, check the scale of the features or consider increasing regularisation. Duality gap: 4.725e+02, tolerance: 1.218e+02\n",
      "  model = cd_fast.enet_coordinate_descent(\n",
      "/apps/compiler/anaconda3/lib/python3.9/site-packages/sklearn/linear_model/_coordinate_descent.py:628: ConvergenceWarning: Objective did not converge. You might want to increase the number of iterations, check the scale of the features or consider increasing regularisation. Duality gap: 5.943e+02, tolerance: 1.605e+02\n",
      "  model = cd_fast.enet_coordinate_descent(\n"
     ]
    },
    {
     "name": "stdout",
     "output_type": "stream",
     "text": [
      "Optimal alpha: 0.00062\n",
      "5000 selected SNPs\n",
      "print shape of selected snps by lasso (1282, 5000)\n"
     ]
    }
   ],
   "source": [
    "# Create and fit the LASSOCV model select 5000 SNP\n",
    "lasso_cv = linear_model.LassoCV(alphas= [0.00062], cv=5, random_state=2000)\n",
    "\n",
    "# Fit the model to the data\n",
    "lasso_cv.fit(X,y)\n",
    "\n",
    "#Print the optimal alpha value\n",
    "print (\"Optimal alpha:\", lasso_cv.alpha_)\n",
    "\n",
    "# Indices of the SNPs with non-zero coefficients\n",
    "lasso_snps_ldl = np.where(lasso_cv.coef_)[0]\n",
    "\n",
    "# See how many SNPs have a non-zero coefficient\n",
    "print(len(lasso_snps_ldl), \"selected SNPs\")\n",
    "\n",
    "#Final SNPs\n",
    "l1= X.iloc[:,lasso_snps_ldl]\n",
    "print(\"print shape of selected snps by lasso\",l1.shape)\n"
   ]
  },
  {
   "cell_type": "markdown",
   "metadata": {},
   "source": [
    "### Linear regression"
   ]
  },
  {
   "cell_type": "code",
   "execution_count": 8,
   "metadata": {},
   "outputs": [
    {
     "name": "stdout",
     "output_type": "stream",
     "text": [
      "Y.shape (1282,)\n",
      "x_train=(897, 5000), x_test=(385, 5000), Y_train= (897,), Y_test= (385,)\n",
      "r2 is  0.23303138085329378\n",
      "mean_absolute_error 14.699557894419062\n",
      "mean_squared_error  340.5430770142561\n",
      "explained_variance_score 0.6843293027084176\n",
      "Selected p-values:\n",
      "[2.01676452e-04 1.43949853e-04 4.38703206e-04 3.21844145e-04\n",
      " 9.87836007e-06 3.59090408e-04 2.82080791e-04 2.30512913e-04\n",
      " 4.15229151e-04 8.81470583e-05 3.83731430e-04 2.60801415e-04\n",
      " 3.16260510e-04 2.92275193e-04 3.00579096e-04 2.10538444e-04\n",
      " 5.40026007e-05 1.53164088e-04 2.76729956e-04 9.00736338e-05\n",
      " 4.47945643e-05 3.21715747e-04 8.62655316e-05 1.93547690e-04\n",
      " 2.59327281e-04 9.53972096e-06 2.12254426e-04 3.32753155e-04\n",
      " 4.71543554e-05 3.60610538e-04 4.61565241e-04 5.48284776e-05]\n",
      "Number of selected features: 32\n",
      "Selected F-values:\n",
      "[13.89567645 14.5373109  12.42442843 13.00950171 19.69236686 12.80245387\n",
      " 13.2591343  13.64190431 12.5281647  15.47377989 12.67707877 13.40775707\n",
      " 13.04261236 13.19189851 13.13885838 13.8139839  16.41285031 14.41911068\n",
      " 13.2954135  15.4324209  16.77201684 13.01025656 15.51506052 13.97385957\n",
      " 13.41850213 19.76006143 13.79856706 12.94645322 16.67333484 12.79447129\n",
      " 12.3286534  16.38371133]\n",
      "Indices of selected features with top F-values:\n",
      "[25  4 20 28 16 31 22  9 19  1 17 23  0 15 26  7 24 11 18  6 13 14 12 21\n",
      "  3 27  5 29 10  8  2 30]\n",
      "Top selected features:\n",
      "      rs17583962_C  rs2921336:70680871:C:T_T  rs10937477_G  rs12531826_C  \\\n",
      "0                0                         0             2             2   \n",
      "1                1                         1             1             1   \n",
      "2                2                         2             1             0   \n",
      "3                1                         2             2             1   \n",
      "4                0                         0             1             1   \n",
      "...            ...                       ...           ...           ...   \n",
      "1277             2                         1             2             2   \n",
      "1278             1                         2             2             2   \n",
      "1279             1                         0             1             1   \n",
      "1280             1                         1             2             2   \n",
      "1281             2                         0             2             2   \n",
      "\n",
      "      rs1290943_G  rs4736162_G  rs4690001_G  rs12709295_G  \\\n",
      "0               2            2            2             2   \n",
      "1               1            2            2             2   \n",
      "2               2            1            2             2   \n",
      "3               2            1            1             2   \n",
      "4               1            2            2             2   \n",
      "...           ...          ...          ...           ...   \n",
      "1277            2            2            1             1   \n",
      "1278            2            2            2             2   \n",
      "1279            1            2            2             2   \n",
      "1280            2            1            1             2   \n",
      "1281            2            1            1             2   \n",
      "\n",
      "      rs9848819:74123221:C:T_T  rs1412922_G  ...  rs17655474:76495486:C:G_G  \\\n",
      "0                            2            2  ...                          2   \n",
      "1                            1            2  ...                          2   \n",
      "2                            2            2  ...                          2   \n",
      "3                            1            2  ...                          0   \n",
      "4                            1            2  ...                          1   \n",
      "...                        ...          ...  ...                        ...   \n",
      "1277                         0            2  ...                          2   \n",
      "1278                         1            2  ...                          1   \n",
      "1279                         0            2  ...                          1   \n",
      "1280                         0            2  ...                          2   \n",
      "1281                         1            2  ...                          2   \n",
      "\n",
      "      rs9877345_A  rs1545693_T  rs4976445_A  rs10895555_A  rs749538_T  \\\n",
      "0               0            2            1             2           2   \n",
      "1               1            2            1             2           2   \n",
      "2               0            2            2             2           1   \n",
      "3               1            0            0             2           1   \n",
      "4               1            1            2             2           1   \n",
      "...           ...          ...          ...           ...         ...   \n",
      "1277            1            0            2             2           0   \n",
      "1278            2            1            1             1           1   \n",
      "1279            1            2            1             1           2   \n",
      "1280            1            2            1             1           1   \n",
      "1281            2            1            1             2           1   \n",
      "\n",
      "      rs7218430_C  rs12708799:15687854:A:T_T  rs2463148:122215516:G:C_C  \\\n",
      "0               0                          2                          1   \n",
      "1               2                          2                          2   \n",
      "2               2                          2                          2   \n",
      "3               1                          1                          1   \n",
      "4               1                          2                          2   \n",
      "...           ...                        ...                        ...   \n",
      "1277            2                          2                          2   \n",
      "1278            2                          2                          1   \n",
      "1279            2                          2                          2   \n",
      "1280            1                          1                          2   \n",
      "1281            0                          1                          1   \n",
      "\n",
      "      rs3860832_G  \n",
      "0               1  \n",
      "1               1  \n",
      "2               0  \n",
      "3               0  \n",
      "4               2  \n",
      "...           ...  \n",
      "1277            1  \n",
      "1278            1  \n",
      "1279            1  \n",
      "1280            0  \n",
      "1281            1  \n",
      "\n",
      "[1282 rows x 32 columns]\n"
     ]
    },
    {
     "data": {
      "text/plain": [
       "['rs10692334:8486910:C:CTT_CTT',\n",
       " 'rs1412922_G',\n",
       " 'rs2463148:122215516:G:C_C',\n",
       " 'rs1545693_T',\n",
       " 'rs2921336:70680871:C:T_T',\n",
       " 'rs10895555_A',\n",
       " 'rs1543933_T',\n",
       " 'rs7973648_G',\n",
       " 'rs12708799:15687854:A:T_T',\n",
       " 'rs12709295_G',\n",
       " 'rs7218430_C',\n",
       " 'rs271645_A',\n",
       " 'rs17655474:76495486:C:G_G',\n",
       " 'rs663178_G',\n",
       " 'rs12606093_T',\n",
       " 'rs2335629_C',\n",
       " 'rs1290943_G',\n",
       " 'rs741283_G',\n",
       " 'rs735931_T',\n",
       " 'rs9848819:74123221:C:T_T',\n",
       " 'rs10937477_G',\n",
       " 'rs9877345_A',\n",
       " 'rs4690001_G',\n",
       " 'rs4054037_A',\n",
       " 'rs10434313_A',\n",
       " 'rs17583962_C',\n",
       " 'rs1705392_C',\n",
       " 'rs4976445_A',\n",
       " 'rs12531826_C',\n",
       " 'rs749538_T',\n",
       " 'rs3860832_G',\n",
       " 'rs4736162_G']"
      ]
     },
     "execution_count": 8,
     "metadata": {},
     "output_type": "execute_result"
    }
   ],
   "source": [
    "Y= df.PHENOTYPE.values\n",
    "print(\"Y.shape\",Y.shape)\n",
    "x_train, x_test, Y_train, Y_test= train_test_split(l1, Y, test_size=0.3, random_state=2000)\n",
    "print(f\"x_train={x_train.shape}, x_test={x_test.shape}, Y_train= {Y_train.shape}, Y_test= {Y_test.shape}\")\n",
    "scaler= StandardScaler()\n",
    "x_train= scaler.fit_transform(x_train)\n",
    "x_test= scaler.transform(x_test)\n",
    "\n",
    "random.seed(2000)\n",
    "model = linear_model.LinearRegression()\n",
    "model.fit(x_train, Y_train)\n",
    "y_pred = model.predict(x_test)\n",
    "score= r2_score(y_pred, Y_test)\n",
    "print(\"r2 is \", score)\n",
    "h= mean_absolute_error(y_pred,Y_test)\n",
    "print(\"mean_absolute_error\", h)\n",
    "print(\"mean_squared_error \", mean_squared_error(y_pred, Y_test))\n",
    "print(\"explained_variance_score\", explained_variance_score(Y_test, y_pred))\n",
    "\n",
    "f_statistic, p_value = f_regression(l1, Y)\n",
    "selected_p_indices = np.where(p_value < 5e-04)[0]\n",
    "selected_p_values = p_value[selected_p_indices]\n",
    "print(\"Selected p-values:\")\n",
    "print(selected_p_values)\n",
    "print(\"Number of selected features:\", len(selected_p_indices))\n",
    "selected_f_values = f_statistic[selected_p_indices]\n",
    "print(\"Selected F-values:\")\n",
    "print(selected_f_values)\n",
    "top_f_indices = np.argsort(-selected_f_values)\n",
    "print(\"Indices of selected features with top F-values:\")\n",
    "print(top_f_indices)\n",
    "top_f_features = l1.iloc[:, selected_p_indices[top_f_indices]]\n",
    "print(\"Top selected features:\")\n",
    "print(top_f_features)\n",
    "lasso_LR_sigSNP=l1.iloc[:, selected_p_indices]\n",
    "lasso_LR_sigSNP\n",
    "lasso_LR_sig_col= list(lasso_LR_sigSNP.columns)\n",
    "lasso_LR_sig_col"
   ]
  },
  {
   "cell_type": "markdown",
   "metadata": {},
   "source": [
    "### Random Forest"
   ]
  },
  {
   "cell_type": "code",
   "execution_count": 9,
   "metadata": {},
   "outputs": [
    {
     "name": "stdout",
     "output_type": "stream",
     "text": [
      "r2 is  -61.32219859003727\n",
      "mean_absolute_error 26.107939565289787\n",
      "mean_squared_error  1022.7131461065229\n",
      "explained_variance_score 0.053657661042911586\n"
     ]
    }
   ],
   "source": [
    "# Create a Random Forest Regressor\n",
    "# Create a Random Forest Regressor\n",
    "rf_regressor = RandomForestRegressor(n_estimators=100, max_depth=9, min_samples_leaf=4, min_samples_split=2, \n",
    "                                     n_jobs=70,random_state=2000)\n",
    "\n",
    "rf_regressor.fit(x_train, Y_train)\n",
    "\n",
    "\n",
    "# Make predictions on the test set using the model with selected features\n",
    "y_pred= rf_regressor.predict(x_test)\n",
    "\n",
    "score= r2_score(y_pred, Y_test)\n",
    "print(\"r2 is \", score)\n",
    "h= mean_absolute_error(y_pred,Y_test)\n",
    "print(\"mean_absolute_error\", h)\n",
    "print(\"mean_squared_error \", mean_squared_error(y_pred, Y_test))\n",
    "print(\"explained_variance_score\", explained_variance_score(Y_test, y_pred))"
   ]
  },
  {
   "cell_type": "code",
   "execution_count": null,
   "metadata": {},
   "outputs": [],
   "source": []
  },
  {
   "cell_type": "markdown",
   "metadata": {},
   "source": [
    "### Support Vector Machine"
   ]
  },
  {
   "cell_type": "code",
   "execution_count": 10,
   "metadata": {},
   "outputs": [
    {
     "name": "stdout",
     "output_type": "stream",
     "text": [
      "r2 is  0.5091640763071101\n",
      "mean_absolute_error 14.318335398926672\n",
      "mean_squared_error  319.1810746441081\n",
      "explained_variance_score 0.7042333593187404\n"
     ]
    }
   ],
   "source": [
    "from sklearn.inspection import permutation_importance\n",
    "\n",
    "svr = SVR(kernel = 'sigmoid' , C=100, epsilon= 0.01, gamma= 'scale', cache_size=800)\n",
    "svr.fit(x_train, Y_train)\n",
    "y_pred= svr.predict(x_test)\n",
    "score= r2_score(y_pred, Y_test)\n",
    "print(\"r2 is \", score)\n",
    "h= mean_absolute_error(y_pred,Y_test)\n",
    "print(\"mean_absolute_error\", h)\n",
    "print(\"mean_squared_error \", mean_squared_error(y_pred, Y_test))\n",
    "print(\"explained_variance_score\", explained_variance_score(Y_test, y_pred))\n"
   ]
  },
  {
   "cell_type": "markdown",
   "metadata": {},
   "source": [
    "### XGBOOST"
   ]
  },
  {
   "cell_type": "code",
   "execution_count": 11,
   "metadata": {},
   "outputs": [
    {
     "name": "stdout",
     "output_type": "stream",
     "text": [
      "r2 score -10.44686615458688\n",
      "mean_absolute_error 26.652027932699625\n",
      "mean_squared_error  1112.8437869098063\n",
      "explained_variance_score -0.0317069362126432\n"
     ]
    }
   ],
   "source": [
    "regressor=xgb.XGBRegressor(learning_rate= 0.01, n_estimators=900,  max_depth=10, eval_metric='rmsle', random_state=2000)\n",
    "regressor.fit(x_train, Y_train)\n",
    "y_pred= regressor.predict(x_test)\n",
    "score= r2_score(y_pred, Y_test)\n",
    "print(\"r2 score\",score)\n",
    "h= mean_absolute_error(Y_test, y_pred)\n",
    "print(\"mean_absolute_error\", h)\n",
    "print(\"mean_squared_error \", mean_squared_error(Y_test, y_pred))\n",
    "print(\"explained_variance_score\", explained_variance_score(Y_test, y_pred))"
   ]
  },
  {
   "cell_type": "markdown",
   "metadata": {},
   "source": [
    "## <span style=\"color:green\"> Ridge<span style=\"color:green\">"
   ]
  },
  {
   "cell_type": "code",
   "execution_count": 12,
   "metadata": {},
   "outputs": [
    {
     "name": "stdout",
     "output_type": "stream",
     "text": [
      "Optimal alpha: 0.005\n",
      "Selected SNPs indices based on top coefficients: [108972  11284  94133 ...  17089 134652  72090]\n",
      "5000 selected SNPs\n",
      "Maximum value of coefficient 0.09102136750922467\n",
      "print shape of selected snps by Ridge (1282, 5000)\n"
     ]
    }
   ],
   "source": [
    "# Create and fit the RidgeCV model select 5000 SNP\n",
    "ridge_cv = linear_model.RidgeCV(alphas=[0.005], cv=5, scoring='neg_mean_squared_error')\n",
    "ridge_cv.fit(X, y)\n",
    "\n",
    "# Optimal alpha value\n",
    "print(\"Optimal alpha:\", ridge_cv.alpha_)\n",
    "\n",
    "# Indices of the SNPs with non-zero coefficients\n",
    "ridge_snps_ldl = np.where(ridge_cv.coef_)[0]\n",
    "\n",
    "# Select coefficients with non-zero values\n",
    "selected_features = ridge_cv.coef_ != 0\n",
    "\n",
    "# Select coefficients of selected SNPs\n",
    "coefficients = ridge_cv.coef_[selected_features]\n",
    "\n",
    "# Get the indices of the top 5000 SNPs based on descending coefficients\n",
    "top_n = 5000\n",
    "sorted_indices = np.argsort(-coefficients)\n",
    "selected_indices = sorted_indices[:top_n]\n",
    "\n",
    "# Print the indices of selected SNPs and the number of selected SNPs\n",
    "print(\"Selected SNPs indices based on top coefficients:\", selected_indices)\n",
    "print(len(selected_indices), \"selected SNPs\")\n",
    "\n",
    "#Maximum Coefficient\n",
    "print(\"Maximum value of coefficient\", coefficients.max())\n",
    "\n",
    "#Final SNPs\n",
    "R1= X.iloc[:,selected_indices]\n",
    "print(\"print shape of selected snps by Ridge\",R1.shape)\n"
   ]
  },
  {
   "cell_type": "code",
   "execution_count": null,
   "metadata": {},
   "outputs": [],
   "source": []
  },
  {
   "cell_type": "code",
   "execution_count": null,
   "metadata": {},
   "outputs": [],
   "source": [
    "\n"
   ]
  },
  {
   "cell_type": "markdown",
   "metadata": {},
   "source": [
    "### Linear Regression"
   ]
  },
  {
   "cell_type": "code",
   "execution_count": 13,
   "metadata": {},
   "outputs": [
    {
     "name": "stdout",
     "output_type": "stream",
     "text": [
      "Y.shape (1282,)\n",
      "x_train=(897, 5000), x_test=(385, 5000), Y_train= (897,), Y_test= (385,)\n"
     ]
    }
   ],
   "source": [
    "Y= df.PHENOTYPE.values\n",
    "print(\"Y.shape\",Y.shape)\n",
    "x_train, x_test, Y_train, Y_test= train_test_split(R1, Y, test_size=0.3, random_state=2000)\n",
    "print(f\"x_train={x_train.shape}, x_test={x_test.shape}, Y_train= {Y_train.shape}, Y_test= {Y_test.shape}\")\n",
    "scaler= StandardScaler()\n",
    "x_train= scaler.fit_transform(x_train)\n",
    "x_test= scaler.transform(x_test)"
   ]
  },
  {
   "cell_type": "code",
   "execution_count": 14,
   "metadata": {},
   "outputs": [
    {
     "name": "stdout",
     "output_type": "stream",
     "text": [
      "r2 is  0.7549066637586196\n",
      "mean_absolute_error 10.274421623556924\n",
      "mean_squared_error  160.69797683601143\n",
      "explained_variance_score 0.8507279185220166\n",
      "Selected p-values:\n",
      "[9.53972096e-06 9.87836007e-06 9.00736338e-05 1.93547690e-04\n",
      " 3.21715747e-04 2.81399239e-04 4.61565241e-04 4.02337062e-04\n",
      " 2.92275193e-04 4.71543554e-05 2.82080791e-04 3.83214248e-04\n",
      " 3.83731430e-04 2.94186599e-04 2.01676452e-04 4.60821220e-04\n",
      " 3.00579096e-04 8.62655316e-05 2.60801415e-04 8.58780621e-05\n",
      " 2.59327281e-04 3.32753155e-04 2.06875977e-04 4.85307366e-04\n",
      " 3.59090408e-04 1.53164088e-04 3.99750776e-04 4.12958057e-04\n",
      " 2.72387786e-04 2.30512913e-04 4.15229151e-04 5.63300490e-05]\n",
      "Number of selected features: 32\n",
      "Selected F-values:\n",
      "[19.76006143 19.69236686 15.4324209  13.97385957 13.01025656 13.2637165\n",
      " 12.3286534  12.58768808 13.19189851 16.67333484 13.2591343  12.67962567\n",
      " 12.67707877 13.17955606 13.89567645 12.33169412 13.13885838 15.51506052\n",
      " 13.40775707 15.52367418 13.41850213 12.94645322 13.84731701 12.23413791\n",
      " 12.80245387 14.41911068 12.59986094 12.53851375 13.32537821 13.64190431\n",
      " 12.5281647  16.33184705]\n",
      "Indices of selected features with top F-values:\n",
      "[ 0  1  9 31 19 17  2 25  3 14 22 29 20 18 28  5 10  8 13 16  4 21 24 11\n",
      " 12 26  7 27 30 15  6 23]\n",
      "Top selected features:\n",
      "      rs17583962_C  rs2921336:70680871:C:T_T  rs12531826_C  \\\n",
      "0                0                         0             2   \n",
      "1                1                         1             1   \n",
      "2                2                         2             0   \n",
      "3                1                         2             1   \n",
      "4                0                         0             1   \n",
      "...            ...                       ...           ...   \n",
      "1277             2                         1             2   \n",
      "1278             1                         2             2   \n",
      "1279             1                         0             1   \n",
      "1280             1                         1             2   \n",
      "1281             2                         0             2   \n",
      "\n",
      "      rs147731462:142598726:A:G_G  rs815583_T  rs4690001_G  \\\n",
      "0                               0           2            2   \n",
      "1                               0           2            2   \n",
      "2                               0           2            2   \n",
      "3                               0           1            1   \n",
      "4                               0           2            2   \n",
      "...                           ...         ...          ...   \n",
      "1277                            0           2            1   \n",
      "1278                            0           2            2   \n",
      "1279                            0           2            2   \n",
      "1280                            0           1            1   \n",
      "1281                            0           1            1   \n",
      "\n",
      "      rs9848819:74123221:C:T_T  rs741283_G  rs4054037_A  \\\n",
      "0                            2           2            2   \n",
      "1                            1           2            1   \n",
      "2                            2           2            1   \n",
      "3                            1           2            0   \n",
      "4                            1           2            2   \n",
      "...                        ...         ...          ...   \n",
      "1277                         0           2            2   \n",
      "1278                         1           2            0   \n",
      "1279                         0           1            1   \n",
      "1280                         0           2            0   \n",
      "1281                         1           2            1   \n",
      "\n",
      "      rs10692334:8486910:C:CTT_CTT  ...  rs10895555_A  \\\n",
      "0                                1  ...             2   \n",
      "1                                2  ...             2   \n",
      "2                                1  ...             2   \n",
      "3                                1  ...             2   \n",
      "4                                2  ...             2   \n",
      "...                            ...  ...           ...   \n",
      "1277                             2  ...             2   \n",
      "1278                             2  ...             1   \n",
      "1279                             1  ...             1   \n",
      "1280                             2  ...             1   \n",
      "1281                             2  ...             2   \n",
      "\n",
      "      rs12505610:171302543:G:T_T  rs7218430_C  rs228516_T  rs6089240_C  \\\n",
      "0                              1            0           0            2   \n",
      "1                              2            2           2            1   \n",
      "2                              2            2           2            2   \n",
      "3                              2            1           1            1   \n",
      "4                              1            1           2            1   \n",
      "...                          ...          ...         ...          ...   \n",
      "1277                           2            2           2            0   \n",
      "1278                           2            2           1            0   \n",
      "1279                           2            2           1            0   \n",
      "1280                           1            1           2            2   \n",
      "1281                           1            0           2            1   \n",
      "\n",
      "      rs9882701_A  rs12708799:15687854:A:T_T  rs11946808_A  rs3860832_G  \\\n",
      "0               2                          2             0            1   \n",
      "1               2                          2             2            1   \n",
      "2               2                          2             1            0   \n",
      "3               1                          1             2            0   \n",
      "4               2                          2             1            2   \n",
      "...           ...                        ...           ...          ...   \n",
      "1277            2                          2             1            1   \n",
      "1278            2                          2             0            1   \n",
      "1279            2                          2             0            1   \n",
      "1280            2                          1             1            0   \n",
      "1281            2                          1             2            1   \n",
      "\n",
      "      rs13267681_T  \n",
      "0                1  \n",
      "1                1  \n",
      "2                1  \n",
      "3                2  \n",
      "4                2  \n",
      "...            ...  \n",
      "1277             2  \n",
      "1278             0  \n",
      "1279             1  \n",
      "1280             1  \n",
      "1281             0  \n",
      "\n",
      "[1282 rows x 32 columns]\n"
     ]
    },
    {
     "data": {
      "text/plain": [
       "['rs17583962_C',\n",
       " 'rs2921336:70680871:C:T_T',\n",
       " 'rs9848819:74123221:C:T_T',\n",
       " 'rs4054037_A',\n",
       " 'rs9877345_A',\n",
       " 'rs950968_G',\n",
       " 'rs3860832_G',\n",
       " 'rs6089240_C',\n",
       " 'rs663178_G',\n",
       " 'rs12531826_C',\n",
       " 'rs1543933_T',\n",
       " 'rs12505610:171302543:G:T_T',\n",
       " 'rs7218430_C',\n",
       " 'rs41421445_C',\n",
       " 'rs10692334:8486910:C:CTT_CTT',\n",
       " 'rs11946808_A',\n",
       " 'rs12606093_T',\n",
       " 'rs4690001_G',\n",
       " 'rs271645_A',\n",
       " 'rs815583_T',\n",
       " 'rs10434313_A',\n",
       " 'rs4976445_A',\n",
       " 'rs4919870_C',\n",
       " 'rs13267681_T',\n",
       " 'rs10895555_A',\n",
       " 'rs741283_G',\n",
       " 'rs228516_T',\n",
       " 'rs9882701_A',\n",
       " 'rs10868511_T',\n",
       " 'rs7973648_G',\n",
       " 'rs12708799:15687854:A:T_T',\n",
       " 'rs147731462:142598726:A:G_G']"
      ]
     },
     "execution_count": 14,
     "metadata": {},
     "output_type": "execute_result"
    }
   ],
   "source": [
    "random.seed(2000)\n",
    "model = linear_model.LinearRegression()\n",
    "model.fit(x_train, Y_train)\n",
    "y_pred = model.predict(x_test)\n",
    "score= r2_score(y_pred, Y_test)\n",
    "print(\"r2 is \", score)\n",
    "h= mean_absolute_error(y_pred,Y_test)\n",
    "print(\"mean_absolute_error\", h)\n",
    "print(\"mean_squared_error \", mean_squared_error(y_pred, Y_test))\n",
    "print(\"explained_variance_score\", explained_variance_score(Y_test, y_pred))\n",
    "\n",
    "f_statistic, p_value = f_regression(R1, Y)\n",
    "selected_p_indices = np.where(p_value < 5e-04)[0]\n",
    "selected_p_values = p_value[selected_p_indices]\n",
    "print(\"Selected p-values:\")\n",
    "print(selected_p_values)\n",
    "print(\"Number of selected features:\", len(selected_p_indices))\n",
    "selected_f_values = f_statistic[selected_p_indices]\n",
    "print(\"Selected F-values:\")\n",
    "print(selected_f_values)\n",
    "top_f_indices = np.argsort(-selected_f_values)\n",
    "print(\"Indices of selected features with top F-values:\")\n",
    "print(top_f_indices)\n",
    "top_f_features = R1.iloc[:, selected_p_indices[top_f_indices]]\n",
    "print(\"Top selected features:\")\n",
    "print(top_f_features)\n",
    "Ridge_LR_sigSNP=R1.iloc[:, selected_p_indices]\n",
    "Ridge_LR_sigSNP\n",
    "Ridge_LR_sig_col= list(Ridge_LR_sigSNP.columns)\n",
    "Ridge_LR_sig_col"
   ]
  },
  {
   "cell_type": "markdown",
   "metadata": {},
   "source": [
    "### Random Forest"
   ]
  },
  {
   "cell_type": "code",
   "execution_count": 15,
   "metadata": {},
   "outputs": [
    {
     "name": "stdout",
     "output_type": "stream",
     "text": [
      "r2 is  -54.97620720460577\n",
      "mean_absolute_error 25.76589827826682\n",
      "mean_squared_error  1002.4261863259691\n",
      "explained_variance_score 0.075142883876264\n"
     ]
    }
   ],
   "source": [
    "# Create a Random Forest Regressor\n",
    "# Create a Random Forest Regressor\n",
    "rf_regressor = RandomForestRegressor(n_estimators=100, max_depth=9, min_samples_leaf=4, min_samples_split=2, \n",
    "                                     n_jobs=70,random_state=2000)\n",
    "\n",
    "rf_regressor.fit(x_train, Y_train)\n",
    "\n",
    "\n",
    "# Make predictions on the test set using the model with selected features\n",
    "y_pred= rf_regressor.predict(x_test)\n",
    "\n",
    "score= r2_score(y_pred, Y_test)\n",
    "print(\"r2 is \", score)\n",
    "h= mean_absolute_error(y_pred,Y_test)\n",
    "print(\"mean_absolute_error\", h)\n",
    "print(\"mean_squared_error \", mean_squared_error(y_pred, Y_test))\n",
    "print(\"explained_variance_score\", explained_variance_score(Y_test, y_pred))"
   ]
  },
  {
   "cell_type": "markdown",
   "metadata": {},
   "source": [
    "### Support Vector Machine"
   ]
  },
  {
   "cell_type": "code",
   "execution_count": 16,
   "metadata": {},
   "outputs": [
    {
     "name": "stdout",
     "output_type": "stream",
     "text": [
      "r2 is  0.7851991165907694\n",
      "mean_absolute_error 10.647254491629846\n",
      "mean_squared_error  171.3323010367937\n",
      "explained_variance_score 0.8408442684719689\n",
      "Selected feature indices are [ 453 4670  582 ... 3719 3521 4867]\n",
      "Top 100 fearure indices are [ 453 4670  582 ... 3719 3521 4867]\n",
      "Top 100 fearures permutation scores are [ 0.00135808  0.00118914  0.0011486   0.00113551  0.00111324  0.00109869\n",
      "  0.00109789  0.00107073  0.00104309  0.00102265  0.00102138  0.00098674\n",
      "  0.00093106  0.0009192   0.00091295  0.00091067  0.00089312  0.00088733\n",
      "  0.00088486  0.00087776  0.00087263  0.00087115  0.00086704  0.0008651\n",
      " -0.00086444  0.00086329  0.00086205  0.00085873  0.00085678  0.0008484\n",
      " -0.00084743 -0.00084332 -0.00084152  0.00082874  0.00082802  0.00082798\n",
      " -0.00082038  0.00081875  0.00081845  0.00079776  0.00079566 -0.00078964\n",
      " -0.00078592  0.00077974  0.00077974  0.00077883 -0.0007786  -0.00077189\n",
      " -0.00077159  0.00076795  0.0007673  -0.0007638   0.00075543  0.0007534\n",
      "  0.00075242 -0.00075111  0.00074007  0.00073857  0.0007345   0.00073006\n",
      "  0.00072561  0.00072498  0.0007215   0.0007173   0.00071606  0.00071451\n",
      "  0.0007118   0.00070581  0.00070131  0.00070073 -0.00070021  0.0006992\n",
      " -0.00069918  0.0006968  -0.0006902   0.00068986  0.00068811  0.00068717\n",
      "  0.00068556  0.0006815   0.00067714 -0.00067679  0.00067627  0.00067415\n",
      " -0.00067371  0.0006639  -0.00066188  0.0006617   0.00066086  0.00066069\n",
      "  0.00065919  0.00065899 -0.00065216 -0.00065001  0.00064987  0.00064931\n",
      "  0.00064752  0.00064538  0.00064275 -0.0006418 ]\n"
     ]
    },
    {
     "data": {
      "text/plain": [
       "['rs6651479_T',\n",
       " 'rs1377374_G',\n",
       " 'rs2361019:22729613:T:A_A',\n",
       " 'rs8037591:93702884:C:T_T',\n",
       " 'rs11209761:71764175:T:C_C',\n",
       " 'rs852027:17082332:G:C_C',\n",
       " 'rs13258014_A',\n",
       " 'rs3770911_G',\n",
       " 'rs1047721_T',\n",
       " 'rs627857_A',\n",
       " 'rs135067_C',\n",
       " 'rs5759855_T',\n",
       " 'rs228288:36926181:T:A_A',\n",
       " 'rs7992848_G',\n",
       " 'rs2254544_G',\n",
       " 'rs2875149_C',\n",
       " 'rs8026827_G',\n",
       " 'rs9516597_A',\n",
       " 'rs4823615_A',\n",
       " 'rs1012534_A',\n",
       " 'rs1648168:109923392:A:G_G',\n",
       " 'rs34692537:24542339:AT:A_A',\n",
       " 'rs1327665_C',\n",
       " 'rs3867263_A',\n",
       " 'rs1181996:26505806:G:C_C',\n",
       " 'rs6480502:73007215:T:A_A',\n",
       " 'rs6754583:31007792:C:G_G',\n",
       " 'rs741283_G',\n",
       " 'rs2833440_A',\n",
       " 'rs11084919_C',\n",
       " 'rs2944540_A',\n",
       " 'rs1549288:81060761:T:C_C',\n",
       " 'rs6597545_G',\n",
       " 'rs1744065_G',\n",
       " 'rs10425874_A',\n",
       " 'rs10746257_A',\n",
       " 'rs10983088_G',\n",
       " 'rs1903863_C',\n",
       " 'rs396693_T',\n",
       " 'rs2952518_G',\n",
       " 'rs675257_G',\n",
       " 'rs17719860_C',\n",
       " 'rs7231686_A',\n",
       " 'rs6665853_G',\n",
       " 'rs10230715_T',\n",
       " 'rs10184249:34546822:G:A_A',\n",
       " 'rs264114_T',\n",
       " 'rs4339899:55474476:C:G_G',\n",
       " 'rs62365662:95801967:T:C_C',\n",
       " 'rs16882852_C',\n",
       " 'rs7452823_A',\n",
       " 'rs10104726:6260430:C:T_T',\n",
       " 'rs927099_G',\n",
       " 'rs6981779:143071927:G:A_A',\n",
       " 'rs11677042_C',\n",
       " 'rs10934511:119867927:T:C_C',\n",
       " 'rs2157697_G',\n",
       " 'rs11629663:29892225:C:T_T',\n",
       " 'rs10169953:19264614:G:C_C',\n",
       " 'rs2642913_T',\n",
       " 'rs6876369_A',\n",
       " 'rs11017702_C',\n",
       " 'rs12923611_A',\n",
       " 'rs2482579_A',\n",
       " 'rs4141719:26078175:G:C_C',\n",
       " 'rs4911536_C',\n",
       " 'rs2532660_A',\n",
       " 'rs17732541_A',\n",
       " 'rs11950911_G',\n",
       " 'rs7250261:57601457:G:C_C',\n",
       " 'rs2949929_C',\n",
       " 'rs12043473_A',\n",
       " 'rs12297604_G',\n",
       " 'rs7613933_G',\n",
       " 'rs4804750:7654988:T:A_A',\n",
       " 'rs546302_T',\n",
       " 'rs10846753_A',\n",
       " 'rs921089_C',\n",
       " 'rs7083541_A',\n",
       " 'rs12650760:88705132:C:T_T',\n",
       " 'rs10138173:22599308:A:G_G',\n",
       " 'rs7767344_C',\n",
       " 'rs55755730:5249026:T:TA_TA',\n",
       " 'rs7296859:6894164:C:G_G',\n",
       " 'rs17533538_C',\n",
       " 'rs3769833:201525882:G:A_A',\n",
       " 'rs961687_G',\n",
       " 'rs4596200_T',\n",
       " 'rs1123697_G',\n",
       " 'rs7983420_G',\n",
       " 'rs10157110_A',\n",
       " 'rs1272951_T',\n",
       " 'rs11201292_T',\n",
       " 'rs2806465_G',\n",
       " 'rs7077238_C',\n",
       " 'rs9534595:47882157:G:C_C',\n",
       " 'rs9877345_A',\n",
       " 'rs1386748_G',\n",
       " 'rs4507442_C',\n",
       " 'rs9408724:8015596:G:C_C']"
      ]
     },
     "execution_count": 16,
     "metadata": {},
     "output_type": "execute_result"
    }
   ],
   "source": [
    "from sklearn.inspection import permutation_importance\n",
    "\n",
    "svr = SVR(kernel = 'sigmoid' , C=100, epsilon= 0.01, gamma= 'scale', cache_size=800)\n",
    "svr.fit(x_train, Y_train)\n",
    "y_pred= svr.predict(x_test)\n",
    "score= r2_score(y_pred, Y_test)\n",
    "print(\"r2 is \", score)\n",
    "h= mean_absolute_error(y_pred,Y_test)\n",
    "print(\"mean_absolute_error\", h)\n",
    "print(\"mean_squared_error \", mean_squared_error(y_pred, Y_test))\n",
    "print(\"explained_variance_score\", explained_variance_score(Y_test, y_pred))\n",
    "perm_importance= permutation_importance(svr, x_test, Y_test, n_repeats=10, random_state=2000, n_jobs=70)\n",
    "\n",
    "\n",
    "imp_score=perm_importance.importances_mean\n",
    "feature_indices = np.argsort(np.abs(imp_score))[::-1]\n",
    "print(f\"Selected feature indices are {feature_indices}\")\n",
    "\n",
    "# # Specify the number of features you want to select based on magnitude\n",
    "num_selected_features = 100\n",
    "top_100=feature_indices[:num_selected_features]\n",
    "print(f\"Top 100 fearure indices are {feature_indices}\")\n",
    "imp_score_100=imp_score[top_100]\n",
    "print(f\"Top 100 fearures permutation scores are {imp_score_100}\")\n",
    "\n",
    "Ridge_SVR_sigSNP= R1.iloc[:,top_100]\n",
    "Ridge_SVR_sig_col= list(Ridge_SVR_sigSNP.columns)\n",
    "Ridge_SVR_sig_col"
   ]
  },
  {
   "cell_type": "markdown",
   "metadata": {},
   "source": [
    "### XGBoost"
   ]
  },
  {
   "cell_type": "code",
   "execution_count": 17,
   "metadata": {},
   "outputs": [
    {
     "name": "stdout",
     "output_type": "stream",
     "text": [
      "r2 score -6.266538067944728\n",
      "mean_absolute_error 27.09141607903815\n",
      "mean_squared_error  1123.1760152126865\n",
      "explained_variance_score -0.03338318094447423\n"
     ]
    }
   ],
   "source": [
    "regressor=xgb.XGBRegressor(learning_rate= 0.01, n_estimators=900,  max_depth=10, eval_metric='rmsle', random_state=2000)\n",
    "regressor.fit(x_train, Y_train)\n",
    "y_pred= regressor.predict(x_test)\n",
    "score= r2_score(y_pred, Y_test)\n",
    "print(\"r2 score\",score)\n",
    "h= mean_absolute_error(Y_test, y_pred)\n",
    "print(\"mean_absolute_error\", h)\n",
    "print(\"mean_squared_error \", mean_squared_error(Y_test, y_pred))\n",
    "print(\"explained_variance_score\", explained_variance_score(Y_test, y_pred))"
   ]
  },
  {
   "cell_type": "markdown",
   "metadata": {},
   "source": [
    "## <span style=\"color:green\"> Elastic net<span style=\"color:green\">"
   ]
  },
  {
   "cell_type": "code",
   "execution_count": 18,
   "metadata": {},
   "outputs": [
    {
     "name": "stderr",
     "output_type": "stream",
     "text": [
      "/apps/compiler/anaconda3/lib/python3.9/site-packages/sklearn/linear_model/_coordinate_descent.py:628: ConvergenceWarning: Objective did not converge. You might want to increase the number of iterations, check the scale of the features or consider increasing regularisation. Duality gap: 1.742e+02, tolerance: 1.336e+02\n",
      "  model = cd_fast.enet_coordinate_descent(\n",
      "/apps/compiler/anaconda3/lib/python3.9/site-packages/sklearn/linear_model/_coordinate_descent.py:628: ConvergenceWarning: Objective did not converge. You might want to increase the number of iterations, check the scale of the features or consider increasing regularisation. Duality gap: 1.666e+02, tolerance: 1.342e+02\n",
      "  model = cd_fast.enet_coordinate_descent(\n",
      "/apps/compiler/anaconda3/lib/python3.9/site-packages/sklearn/linear_model/_coordinate_descent.py:628: ConvergenceWarning: Objective did not converge. You might want to increase the number of iterations, check the scale of the features or consider increasing regularisation. Duality gap: 1.689e+02, tolerance: 1.252e+02\n",
      "  model = cd_fast.enet_coordinate_descent(\n",
      "/apps/compiler/anaconda3/lib/python3.9/site-packages/sklearn/linear_model/_coordinate_descent.py:628: ConvergenceWarning: Objective did not converge. You might want to increase the number of iterations, check the scale of the features or consider increasing regularisation. Duality gap: 2.646e+02, tolerance: 1.270e+02\n",
      "  model = cd_fast.enet_coordinate_descent(\n",
      "/apps/compiler/anaconda3/lib/python3.9/site-packages/sklearn/linear_model/_coordinate_descent.py:628: ConvergenceWarning: Objective did not converge. You might want to increase the number of iterations, check the scale of the features or consider increasing regularisation. Duality gap: 2.351e+02, tolerance: 1.218e+02\n",
      "  model = cd_fast.enet_coordinate_descent(\n"
     ]
    },
    {
     "name": "stdout",
     "output_type": "stream",
     "text": [
      "Optimal alpha: 0.045\n",
      "Optimal l1_ratio:  0.5\n",
      "5000 selected SNPs\n",
      "print shape of selected snps by Elastic net (1282, 5000)\n"
     ]
    }
   ],
   "source": [
    "# Create and fit the Elasticnet model\n",
    "elastic_cv = linear_model.ElasticNetCV(l1_ratio=[0.5],alphas=[0.045], cv=5, random_state= 2000)\n",
    "elastic_cv.fit(X, y)\n",
    "\n",
    "# Print the optimal alpha value\n",
    "print (\"Optimal alpha:\", elastic_cv.alpha_)\n",
    "print(\"Optimal l1_ratio: \", elastic_cv.l1_ratio_)\n",
    "\n",
    "# Indices of the SNPs with non-zero coefficients\n",
    "elastic_snps_ldl = np.where(elastic_cv.coef_)[0]\n",
    "\n",
    "# See how many SNPs have a non-zero coefficient\n",
    "print(len(elastic_snps_ldl), \"selected SNPs\")\n",
    "\n",
    "#Final SNPs\n",
    "E1= X.iloc[:,elastic_snps_ldl]\n",
    "print(\"print shape of selected snps by Elastic net\",E1.shape)"
   ]
  },
  {
   "cell_type": "markdown",
   "metadata": {},
   "source": [
    "### Linear Regression"
   ]
  },
  {
   "cell_type": "code",
   "execution_count": 19,
   "metadata": {},
   "outputs": [
    {
     "name": "stdout",
     "output_type": "stream",
     "text": [
      "Y.shape (1282,)\n",
      "x_train=(897, 5000), x_test=(385, 5000), Y_train= (897,), Y_test= (385,)\n"
     ]
    }
   ],
   "source": [
    "Y= df.PHENOTYPE.values\n",
    "print(\"Y.shape\",Y.shape)\n",
    "x_train, x_test, Y_train, Y_test= train_test_split(E1, Y, test_size=0.3, random_state=2000)\n",
    "print(f\"x_train={x_train.shape}, x_test={x_test.shape}, Y_train= {Y_train.shape}, Y_test= {Y_test.shape}\")\n",
    "scaler= StandardScaler()\n",
    "x_train= scaler.fit_transform(x_train)\n",
    "x_test= scaler.transform(x_test)"
   ]
  },
  {
   "cell_type": "code",
   "execution_count": 20,
   "metadata": {},
   "outputs": [
    {
     "name": "stdout",
     "output_type": "stream",
     "text": [
      "r2 is  0.8837170121582624\n",
      "mean_absolute_error 7.2949537183920246\n",
      "mean_squared_error  78.98733507654364\n",
      "explained_variance_score 0.9266095503165738\n",
      "Selected p-values:\n",
      "[2.01676452e-04 4.38703206e-04 3.21844145e-04 9.87836007e-06\n",
      " 3.59090408e-04 2.82080791e-04 2.30512913e-04 4.15229151e-04\n",
      " 4.23459355e-04 8.81470583e-05 3.83731430e-04 2.60801415e-04\n",
      " 3.16260510e-04 2.92275193e-04 3.00579096e-04 2.06875977e-04\n",
      " 2.10538444e-04 1.48493427e-04 3.99750776e-04 1.26153756e-04\n",
      " 1.88917447e-06 4.02337062e-04 3.86573098e-04 2.81399239e-04\n",
      " 1.96069811e-04 4.73626876e-04 5.40026007e-05 1.53164088e-04\n",
      " 7.51106623e-06 2.76729956e-04 9.00736338e-05 9.63650962e-05\n",
      " 4.12958057e-04 4.20318472e-04 4.39223499e-04 4.47945643e-05\n",
      " 3.21715747e-04 8.62655316e-05 1.93547690e-04 4.60821220e-04\n",
      " 1.26692210e-04 3.83214248e-04 2.59327281e-04 9.53972096e-06\n",
      " 5.59941263e-05 2.12254426e-04 3.32753155e-04 4.13214069e-04\n",
      " 8.58780621e-05 1.43274401e-04 2.82846263e-04 2.94186599e-04\n",
      " 4.71543554e-05 4.14577984e-04 3.18303962e-04 3.60610538e-04\n",
      " 4.99106842e-04 4.61565241e-04 4.85307366e-04 8.33893634e-06\n",
      " 4.41330297e-04 5.48284776e-05 2.72387786e-04 4.71174962e-04]\n",
      "Number of selected features: 64\n",
      "Selected F-values:\n",
      "[13.89567645 12.42442843 13.00950171 19.69236686 12.80245387 13.2591343\n",
      " 13.64190431 12.5281647  12.49113414 15.47377989 12.67707877 13.40775707\n",
      " 13.04261236 13.19189851 13.13885838 13.84731701 13.8139839  14.47810156\n",
      " 12.59986094 14.78891498 22.91615433 12.58768808 12.66314628 13.2637165\n",
      " 13.94925257 12.28003847 16.41285031 14.41911068 20.2243956  13.2954135\n",
      " 15.4324209  15.30331202 12.53851375 12.50517956 12.42219322 16.77201684\n",
      " 13.01025656 15.51506052 13.97385957 12.33169412 14.78079013 12.67962567\n",
      " 13.41850213 19.76006143 16.34332789 13.79856706 12.94645322 12.53734427\n",
      " 15.52367418 14.54627361 13.2540012  13.17955606 16.67333484 12.53112612\n",
      " 13.03042681 12.79447129 12.18132798 12.3286534  12.23413791 20.0212571\n",
      " 12.41316954 16.38371133 13.32537821 12.2898189 ]\n",
      "Indices of selected features with top F-values:\n",
      "[20 28 59 43  3 35 52 26 61 44 48 37  9 30 31 19 40 49 17 27 38 24  0 15\n",
      " 16 45  6 42 11 62 29 23  5 50 13 51 14 12 54 36  2 46  4 55 41 10 22 18\n",
      " 21 32 47 53  7 33  8  1 34 60 39 57 63 25 58 56]\n",
      "Top selected features:\n",
      "      rs12034420_A  rs7580907_A  rs6988375_A  rs17583962_C  \\\n",
      "0                2            2            2             0   \n",
      "1                2            2            2             1   \n",
      "2                2            2            2             2   \n",
      "3                2            1            2             1   \n",
      "4                2            2            2             0   \n",
      "...            ...          ...          ...           ...   \n",
      "1277             1            2            2             2   \n",
      "1278             2            1            2             1   \n",
      "1279             2            2            2             1   \n",
      "1280             2            2            2             1   \n",
      "1281             2            2            2             2   \n",
      "\n",
      "      rs2921336:70680871:C:T_T  rs10937477_G  rs12531826_C  rs1290943_G  \\\n",
      "0                            0             2             2            2   \n",
      "1                            1             1             1            1   \n",
      "2                            2             1             0            2   \n",
      "3                            2             2             1            2   \n",
      "4                            0             1             1            1   \n",
      "...                        ...           ...           ...          ...   \n",
      "1277                         1             2             2            2   \n",
      "1278                         2             2             2            2   \n",
      "1279                         0             1             1            1   \n",
      "1280                         1             2             2            2   \n",
      "1281                         0             2             2            2   \n",
      "\n",
      "      rs4736162_G  rs16872244_A  ...  rs1974492_G  rs2463148:122215516:G:C_C  \\\n",
      "0               2             2  ...            1                          1   \n",
      "1               2             2  ...            2                          2   \n",
      "2               1             2  ...            0                          2   \n",
      "3               1             2  ...            1                          1   \n",
      "4               2             2  ...            1                          2   \n",
      "...           ...           ...  ...          ...                        ...   \n",
      "1277            2             2  ...            1                          2   \n",
      "1278            2             2  ...            1                          1   \n",
      "1279            2             1  ...            1                          2   \n",
      "1280            1             2  ...            1                          2   \n",
      "1281            1             2  ...            0                          1   \n",
      "\n",
      "      rs7629245_G  rs283735_G  rs11946808_A  rs3860832_G  rs10776810_C  \\\n",
      "0               1           2             0            1             2   \n",
      "1               2           1             2            1             0   \n",
      "2               2           2             1            0             2   \n",
      "3               2           1             2            0             2   \n",
      "4               1           2             1            2             2   \n",
      "...           ...         ...           ...          ...           ...   \n",
      "1277            2           1             1            1             0   \n",
      "1278            2           2             0            1             1   \n",
      "1279            2           2             0            1             2   \n",
      "1280            2           2             1            0             1   \n",
      "1281            2           2             2            1             1   \n",
      "\n",
      "      rs7580273_G  rs13267681_T  rs1242780_A  \n",
      "0               2             1            2  \n",
      "1               1             1            1  \n",
      "2               1             1            1  \n",
      "3               1             2            2  \n",
      "4               1             2            2  \n",
      "...           ...           ...          ...  \n",
      "1277            2             2            1  \n",
      "1278            2             0            1  \n",
      "1279            1             1            2  \n",
      "1280            2             1            2  \n",
      "1281            2             0            1  \n",
      "\n",
      "[1282 rows x 64 columns]\n"
     ]
    },
    {
     "data": {
      "text/plain": [
       "['rs10692334:8486910:C:CTT_CTT',\n",
       " 'rs2463148:122215516:G:C_C',\n",
       " 'rs1545693_T',\n",
       " 'rs2921336:70680871:C:T_T',\n",
       " 'rs10895555_A',\n",
       " 'rs1543933_T',\n",
       " 'rs7973648_G',\n",
       " 'rs12708799:15687854:A:T_T',\n",
       " 'rs1974492_G',\n",
       " 'rs12709295_G',\n",
       " 'rs7218430_C',\n",
       " 'rs271645_A',\n",
       " 'rs17655474:76495486:C:G_G',\n",
       " 'rs663178_G',\n",
       " 'rs12606093_T',\n",
       " 'rs4919870_C',\n",
       " 'rs2335629_C',\n",
       " 'rs2207074:63800969:A:G_G',\n",
       " 'rs228516_T',\n",
       " 'rs6428517_A',\n",
       " 'rs12034420_A',\n",
       " 'rs6089240_C',\n",
       " 'rs9983361_A',\n",
       " 'rs950968_G',\n",
       " 'rs11684629:12727091:G:C_C',\n",
       " 'rs7580273_G',\n",
       " 'rs1290943_G',\n",
       " 'rs741283_G',\n",
       " 'rs7580907_A',\n",
       " 'rs735931_T',\n",
       " 'rs9848819:74123221:C:T_T',\n",
       " 'rs11718972_G',\n",
       " 'rs9882701_A',\n",
       " 'rs9810603:184986743:T:C_C',\n",
       " 'rs7629245_G',\n",
       " 'rs10937477_G',\n",
       " 'rs9877345_A',\n",
       " 'rs4690001_G',\n",
       " 'rs4054037_A',\n",
       " 'rs11946808_A',\n",
       " 'rs7683638_G',\n",
       " 'rs12505610:171302543:G:T_T',\n",
       " 'rs10434313_A',\n",
       " 'rs17583962_C',\n",
       " 'rs16872244_A',\n",
       " 'rs1705392_C',\n",
       " 'rs4976445_A',\n",
       " 'rs2028268_T',\n",
       " 'rs815583_T',\n",
       " 'rs510420_C',\n",
       " 'rs2817798_T',\n",
       " 'rs41421445_C',\n",
       " 'rs12531826_C',\n",
       " 'rs17647278_G',\n",
       " 'rs965854_C',\n",
       " 'rs749538_T',\n",
       " 'rs1242780_A',\n",
       " 'rs3860832_G',\n",
       " 'rs13267681_T',\n",
       " 'rs6988375_A',\n",
       " 'rs283735_G',\n",
       " 'rs4736162_G',\n",
       " 'rs10868511_T',\n",
       " 'rs10776810_C']"
      ]
     },
     "execution_count": 20,
     "metadata": {},
     "output_type": "execute_result"
    }
   ],
   "source": [
    "random.seed(2000)\n",
    "model = linear_model.LinearRegression()\n",
    "model.fit(x_train, Y_train)\n",
    "y_pred = model.predict(x_test)\n",
    "score= r2_score(y_pred, Y_test)\n",
    "print(\"r2 is \", score)\n",
    "h= mean_absolute_error(y_pred,Y_test)\n",
    "print(\"mean_absolute_error\", h)\n",
    "print(\"mean_squared_error \", mean_squared_error(y_pred, Y_test))\n",
    "print(\"explained_variance_score\", explained_variance_score(Y_test, y_pred))\n",
    "\n",
    "f_statistic, p_value = f_regression(E1, Y)\n",
    "selected_p_indices = np.where(p_value < 5e-04)[0]\n",
    "selected_p_values = p_value[selected_p_indices]\n",
    "print(\"Selected p-values:\")\n",
    "print(selected_p_values)\n",
    "print(\"Number of selected features:\", len(selected_p_indices))\n",
    "selected_f_values = f_statistic[selected_p_indices]\n",
    "print(\"Selected F-values:\")\n",
    "print(selected_f_values)\n",
    "top_f_indices = np.argsort(-selected_f_values)\n",
    "print(\"Indices of selected features with top F-values:\")\n",
    "print(top_f_indices)\n",
    "top_f_features = E1.iloc[:, selected_p_indices[top_f_indices]]\n",
    "print(\"Top selected features:\")\n",
    "print(top_f_features)\n",
    "Elasticnet_LR_sigSNP=E1.iloc[:, selected_p_indices]\n",
    "Elasticnet_LR_sigSNP\n",
    "Elasticnet_LR_sig_col= list(Elasticnet_LR_sigSNP.columns)\n",
    "Elasticnet_LR_sig_col"
   ]
  },
  {
   "cell_type": "markdown",
   "metadata": {},
   "source": [
    "### Random Forest"
   ]
  },
  {
   "cell_type": "code",
   "execution_count": 21,
   "metadata": {},
   "outputs": [
    {
     "name": "stdout",
     "output_type": "stream",
     "text": [
      "r2 is  -55.69183183869946\n",
      "mean_absolute_error 25.43497567580952\n",
      "mean_squared_error  968.0317815957836\n",
      "explained_variance_score 0.10187381796567085\n"
     ]
    }
   ],
   "source": [
    "# Create a Random Forest Regressor\n",
    "# Create a Random Forest Regressor\n",
    "rf_regressor = RandomForestRegressor(n_estimators=100, max_depth=9, min_samples_leaf=4, min_samples_split=2, \n",
    "                                     n_jobs=70,random_state=2000)\n",
    "\n",
    "rf_regressor.fit(x_train, Y_train)\n",
    "\n",
    "\n",
    "# Make predictions on the test set using the model with selected features\n",
    "y_pred= rf_regressor.predict(x_test)\n",
    "\n",
    "score= r2_score(y_pred, Y_test)\n",
    "print(\"r2 is \", score)\n",
    "h= mean_absolute_error(y_pred,Y_test)\n",
    "print(\"mean_absolute_error\", h)\n",
    "print(\"mean_squared_error \", mean_squared_error(y_pred, Y_test))\n",
    "print(\"explained_variance_score\", explained_variance_score(Y_test, y_pred))"
   ]
  },
  {
   "cell_type": "code",
   "execution_count": null,
   "metadata": {},
   "outputs": [],
   "source": []
  },
  {
   "cell_type": "markdown",
   "metadata": {},
   "source": [
    "### Support Vector Regression"
   ]
  },
  {
   "cell_type": "code",
   "execution_count": 22,
   "metadata": {},
   "outputs": [
    {
     "name": "stdout",
     "output_type": "stream",
     "text": [
      "r2 is  0.9340401179214342\n",
      "mean_absolute_error 6.00284057179963\n",
      "mean_squared_error  54.90851571126669\n",
      "explained_variance_score 0.9489864488835495\n"
     ]
    }
   ],
   "source": [
    "from sklearn.inspection import permutation_importance\n",
    "\n",
    "svr = SVR(kernel = 'sigmoid' , C=100, epsilon= 0.01, gamma= 'scale', cache_size=800)\n",
    "svr.fit(x_train, Y_train)\n",
    "y_pred= svr.predict(x_test)\n",
    "score= r2_score(y_pred, Y_test)\n",
    "print(\"r2 is \", score)\n",
    "h= mean_absolute_error(y_pred,Y_test)\n",
    "print(\"mean_absolute_error\", h)\n",
    "print(\"mean_squared_error \", mean_squared_error(y_pred, Y_test))\n",
    "print(\"explained_variance_score\", explained_variance_score(Y_test, y_pred))\n"
   ]
  },
  {
   "cell_type": "markdown",
   "metadata": {},
   "source": [
    "# XGBoost"
   ]
  },
  {
   "cell_type": "code",
   "execution_count": 23,
   "metadata": {},
   "outputs": [
    {
     "name": "stdout",
     "output_type": "stream",
     "text": [
      "r2 score -5.873291210364336\n",
      "mean_absolute_error 26.06981248731737\n",
      "mean_squared_error  1024.6088976078202\n",
      "explained_variance_score 0.050348135679062156\n"
     ]
    }
   ],
   "source": [
    "regressor=xgb.XGBRegressor(learning_rate= 0.01, n_estimators=900,  max_depth=10, eval_metric='rmsle', random_state=2000)\n",
    "regressor.fit(x_train, Y_train)\n",
    "y_pred= regressor.predict(x_test)\n",
    "score= r2_score(y_pred, Y_test)\n",
    "print(\"r2 score\",score)\n",
    "h= mean_absolute_error(Y_test, y_pred)\n",
    "print(\"mean_absolute_error\", h)\n",
    "print(\"mean_squared_error \", mean_squared_error(Y_test, y_pred))\n",
    "print(\"explained_variance_score\", explained_variance_score(Y_test, y_pred))"
   ]
  },
  {
   "cell_type": "code",
   "execution_count": null,
   "metadata": {},
   "outputs": [],
   "source": []
  },
  {
   "cell_type": "markdown",
   "metadata": {},
   "source": [
    "## <span style=\"color:green\"> Mutual information <span style=\"color:green\">"
   ]
  },
  {
   "cell_type": "code",
   "execution_count": 24,
   "metadata": {},
   "outputs": [
    {
     "name": "stdout",
     "output_type": "stream",
     "text": [
      "Length of mutal info 150125\n",
      "Maximum value of mutualinfo <bound method NDFrame._add_numeric_operations.<locals>.max of rs2454962_T     8.227665e-02\n",
      "rs379387_C      7.688184e-02\n",
      "rs7116167_T     7.608883e-02\n",
      "rs2198207_C     7.377785e-02\n",
      "rs2581623_T     7.361112e-02\n",
      "                    ...     \n",
      "rs9315776_G     1.771523e-06\n",
      "rs11855700_T    1.480320e-06\n",
      "rs2251611_G     1.455906e-06\n",
      "rs8042116_T     8.360537e-07\n",
      "rs12128709_G    3.290196e-07\n",
      "Length: 74209, dtype: float64>\n",
      "Length of mutal info non zero 74209\n",
      "print shape of selected snps by Mutual_info (1282, 5000)\n"
     ]
    }
   ],
   "source": [
    "# Create and fit the Mutual_info model\n",
    "mutual_info= mutual_info_regression(X, y, random_state=2000)\n",
    "print(\"Length of mutal info\", len(mutual_info))\n",
    "mutual_info= pd.Series(mutual_info, index=df.columns[6:])\n",
    "\n",
    "#Sort mutual_info values descending order\n",
    "vdesc= mutual_info.sort_values(ascending=False)\n",
    "vdesc_nonzero= vdesc[vdesc!=0]\n",
    "print(\"Maximum value of mutualinfo\", vdesc_nonzero.max)\n",
    "print(\"Length of mutal info non zero\", len(vdesc_nonzero))\n",
    "k= np.where(vdesc_nonzero)\n",
    "first_col= k[0]\n",
    "\n",
    "#Selected 5000 SNPs\n",
    "top5000 = 5000\n",
    "mi_pos= first_col[:top5000]\n",
    "\n",
    "#Final SNPs\n",
    "M1= X.iloc[:,mi_pos]\n",
    "print(\"print shape of selected snps by Mutual_info\",M1.shape)"
   ]
  },
  {
   "cell_type": "code",
   "execution_count": null,
   "metadata": {},
   "outputs": [],
   "source": []
  },
  {
   "cell_type": "markdown",
   "metadata": {},
   "source": [
    "### Linear Regression"
   ]
  },
  {
   "cell_type": "code",
   "execution_count": 25,
   "metadata": {},
   "outputs": [
    {
     "name": "stdout",
     "output_type": "stream",
     "text": [
      "Y.shape (1282,)\n",
      "x_train=(897, 5000), x_test=(385, 5000), Y_train= (897,), Y_test= (385,)\n"
     ]
    }
   ],
   "source": [
    "Y= df.PHENOTYPE.values\n",
    "print(\"Y.shape\",Y.shape)\n",
    "x_train, x_test, Y_train, Y_test= train_test_split(M1, Y, test_size=0.3, random_state=2000)\n",
    "print(f\"x_train={x_train.shape}, x_test={x_test.shape}, Y_train= {Y_train.shape}, Y_test= {Y_test.shape}\")\n",
    "scaler= StandardScaler()\n",
    "x_train= scaler.fit_transform(x_train)\n",
    "x_test= scaler.transform(x_test)"
   ]
  },
  {
   "cell_type": "code",
   "execution_count": 26,
   "metadata": {},
   "outputs": [
    {
     "name": "stdout",
     "output_type": "stream",
     "text": [
      "r2 is  -2.588495031070614\n",
      "mean_absolute_error 30.88086267645026\n",
      "mean_squared_error  1458.162651310802\n",
      "explained_variance_score -0.3548642605452863\n",
      "Selected p-values:\n",
      "[0.00020168 0.00014395]\n",
      "Number of selected features: 2\n",
      "Selected F-values:\n",
      "[13.89567645 14.5373109 ]\n",
      "Indices of selected features with top F-values:\n",
      "[1 0]\n",
      "Top selected features:\n",
      "      rs1412922_G  rs10692334:8486910:C:CTT_CTT\n",
      "0               2                             1\n",
      "1               2                             2\n",
      "2               2                             1\n",
      "3               2                             1\n",
      "4               2                             2\n",
      "...           ...                           ...\n",
      "1277            2                             2\n",
      "1278            2                             2\n",
      "1279            2                             1\n",
      "1280            2                             2\n",
      "1281            2                             2\n",
      "\n",
      "[1282 rows x 2 columns]\n"
     ]
    },
    {
     "data": {
      "text/plain": [
       "['rs10692334:8486910:C:CTT_CTT', 'rs1412922_G']"
      ]
     },
     "execution_count": 26,
     "metadata": {},
     "output_type": "execute_result"
    }
   ],
   "source": [
    "random.seed(2000)\n",
    "model = linear_model.LinearRegression()\n",
    "model.fit(x_train, Y_train)\n",
    "y_pred = model.predict(x_test)\n",
    "score= r2_score(y_pred, Y_test)\n",
    "print(\"r2 is \", score)\n",
    "h= mean_absolute_error(y_pred,Y_test)\n",
    "print(\"mean_absolute_error\", h)\n",
    "print(\"mean_squared_error \", mean_squared_error(y_pred, Y_test))\n",
    "print(\"explained_variance_score\", explained_variance_score(Y_test, y_pred))\n",
    "\n",
    "f_statistic, p_value = f_regression(M1, Y)\n",
    "selected_p_indices = np.where(p_value < 5e-04)[0]\n",
    "selected_p_values = p_value[selected_p_indices]\n",
    "print(\"Selected p-values:\")\n",
    "print(selected_p_values)\n",
    "print(\"Number of selected features:\", len(selected_p_indices))\n",
    "selected_f_values = f_statistic[selected_p_indices]\n",
    "print(\"Selected F-values:\")\n",
    "print(selected_f_values)\n",
    "top_f_indices = np.argsort(-selected_f_values)\n",
    "print(\"Indices of selected features with top F-values:\")\n",
    "print(top_f_indices)\n",
    "top_f_features = M1.iloc[:, selected_p_indices[top_f_indices]]\n",
    "print(\"Top selected features:\")\n",
    "print(top_f_features)\n",
    "MI_LR_sigSNP=M1.iloc[:, selected_p_indices]\n",
    "MI_LR_sigSNP\n",
    "MI_LR_sig_col= list(MI_LR_sigSNP.columns)\n",
    "MI_LR_sig_col"
   ]
  },
  {
   "cell_type": "markdown",
   "metadata": {},
   "source": [
    "### Random Forest"
   ]
  },
  {
   "cell_type": "code",
   "execution_count": 27,
   "metadata": {},
   "outputs": [
    {
     "name": "stdout",
     "output_type": "stream",
     "text": [
      "r2 is  -68.71401794897369\n",
      "mean_absolute_error 26.826803813776582\n",
      "mean_squared_error  1088.4656644185425\n",
      "explained_variance_score -0.010302914736393998\n"
     ]
    }
   ],
   "source": [
    "# Create a Random Forest Regressor\n",
    "# Create a Random Forest Regressor\n",
    "rf_regressor = RandomForestRegressor(n_estimators=100, max_depth=9, min_samples_leaf=4, min_samples_split=2, \n",
    "                                     n_jobs=70,random_state=2000)\n",
    "\n",
    "rf_regressor.fit(x_train, Y_train)\n",
    "\n",
    "\n",
    "# Make predictions on the test set using the model with selected features\n",
    "y_pred= rf_regressor.predict(x_test)\n",
    "\n",
    "score= r2_score(y_pred, Y_test)\n",
    "print(\"r2 is \", score)\n",
    "h= mean_absolute_error(y_pred,Y_test)\n",
    "print(\"mean_absolute_error\", h)\n",
    "print(\"mean_squared_error \", mean_squared_error(y_pred, Y_test))\n",
    "print(\"explained_variance_score\", explained_variance_score(Y_test, y_pred))"
   ]
  },
  {
   "cell_type": "code",
   "execution_count": null,
   "metadata": {},
   "outputs": [],
   "source": []
  },
  {
   "cell_type": "markdown",
   "metadata": {},
   "source": [
    "### Support Vector Regressor"
   ]
  },
  {
   "cell_type": "code",
   "execution_count": 28,
   "metadata": {},
   "outputs": [
    {
     "name": "stdout",
     "output_type": "stream",
     "text": [
      "r2 is  -2.0225961905191903\n",
      "mean_absolute_error 31.411199609285006\n",
      "mean_squared_error  1561.448423717936\n",
      "explained_variance_score -0.4484188686735737\n"
     ]
    }
   ],
   "source": [
    "svr = SVR(kernel = 'sigmoid' , C=100, epsilon= 0.01, gamma= 'scale')\n",
    "svr.fit(x_train, Y_train)\n",
    "y_pred= svr.predict(x_test)\n",
    "\n",
    "score= r2_score(y_pred, Y_test)\n",
    "print(\"r2 is \", score)\n",
    "h= mean_absolute_error(y_pred,Y_test)\n",
    "print(\"mean_absolute_error\", h)\n",
    "print(\"mean_squared_error \", mean_squared_error(y_pred, Y_test))\n",
    "print(\"explained_variance_score\", explained_variance_score(Y_test, y_pred))\n"
   ]
  },
  {
   "cell_type": "markdown",
   "metadata": {},
   "source": [
    "### XGboost"
   ]
  },
  {
   "cell_type": "code",
   "execution_count": 29,
   "metadata": {},
   "outputs": [
    {
     "name": "stdout",
     "output_type": "stream",
     "text": [
      "r2 score -12.012368342137014\n",
      "mean_absolute_error 27.327849866198253\n",
      "mean_squared_error  1172.9832119347816\n",
      "explained_variance_score -0.08982811053637163\n"
     ]
    }
   ],
   "source": [
    "regressor=xgb.XGBRegressor(learning_rate= 0.01, n_estimators=900,  max_depth=10, eval_metric='rmsle', random_state=2000)\n",
    "regressor.fit(x_train, Y_train)\n",
    "y_pred= regressor.predict(x_test)\n",
    "score= r2_score(y_pred, Y_test)\n",
    "print(\"r2 score\",score)\n",
    "h= mean_absolute_error(Y_test, y_pred)\n",
    "print(\"mean_absolute_error\", h)\n",
    "print(\"mean_squared_error \", mean_squared_error(Y_test, y_pred))\n",
    "print(\"explained_variance_score\", explained_variance_score(Y_test, y_pred))\n"
   ]
  },
  {
   "cell_type": "code",
   "execution_count": null,
   "metadata": {},
   "outputs": [],
   "source": [
    "\n"
   ]
  },
  {
   "cell_type": "code",
   "execution_count": null,
   "metadata": {},
   "outputs": [],
   "source": []
  },
  {
   "cell_type": "code",
   "execution_count": null,
   "metadata": {},
   "outputs": [],
   "source": []
  },
  {
   "cell_type": "code",
   "execution_count": null,
   "metadata": {},
   "outputs": [],
   "source": []
  },
  {
   "cell_type": "code",
   "execution_count": null,
   "metadata": {},
   "outputs": [],
   "source": []
  },
  {
   "cell_type": "code",
   "execution_count": null,
   "metadata": {},
   "outputs": [],
   "source": []
  }
 ],
 "metadata": {
  "kernelspec": {
   "display_name": "Python 3 (ipykernel)",
   "language": "python",
   "name": "python3"
  },
  "language_info": {
   "codemirror_mode": {
    "name": "ipython",
    "version": 3
   },
   "file_extension": ".py",
   "mimetype": "text/x-python",
   "name": "python",
   "nbconvert_exporter": "python",
   "pygments_lexer": "ipython3",
   "version": "3.9.13"
  }
 },
 "nbformat": 4,
 "nbformat_minor": 4
}
