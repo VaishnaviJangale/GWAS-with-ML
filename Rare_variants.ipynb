{
 "cells": [
  {
   "cell_type": "markdown",
   "metadata": {},
   "source": [
    "# <span style=\"color:green\"> Import libraries<span style=\"color:green\">"
   ]
  },
  {
   "cell_type": "code",
   "execution_count": 1,
   "metadata": {},
   "outputs": [],
   "source": [
    "#Import all the required libraries\n",
    "import seaborn as sns\n",
    "import pandas as pd\n",
    "import matplotlib.pyplot as plt\n",
    "import numpy as np\n",
    "import sklearn \n",
    "import random\n",
    "from sklearn import linear_model\n",
    "from sklearn.linear_model import LinearRegression\n",
    "from sklearn.feature_selection import SelectKBest\n",
    "from sklearn.feature_selection import mutual_info_regression\n",
    "from sklearn.linear_model import Lasso, LassoCV, Ridge, RidgeCV\n",
    "from sklearn.model_selection import cross_val_score\n",
    "from sklearn.model_selection import train_test_split\n",
    "from sklearn.preprocessing import StandardScaler\n",
    "from sklearn.feature_selection import SelectFromModel\n",
    "from sklearn.metrics import mean_squared_error\n",
    "from sklearn.metrics import r2_score\n",
    "from sklearn.metrics import mean_absolute_error, mean_squared_error, explained_variance_score\n",
    "from sklearn.feature_selection import f_regression\n",
    "from sklearn.ensemble import RandomForestRegressor\n",
    "from sklearn.svm import SVR\n",
    "import pybiomart\n",
    "from biomart import BiomartServer\n",
    "from sklearn.feature_selection import RFECV\n",
    "import xgboost as xgb"
   ]
  },
  {
   "cell_type": "code",
   "execution_count": null,
   "metadata": {},
   "outputs": [],
   "source": []
  },
  {
   "cell_type": "code",
   "execution_count": null,
   "metadata": {},
   "outputs": [],
   "source": []
  },
  {
   "cell_type": "markdown",
   "metadata": {},
   "source": [
    "# <span style=\"color:green\"> ML for Feature Selection and Association <span style=\"color:green\">"
   ]
  },
  {
   "cell_type": "code",
   "execution_count": 2,
   "metadata": {},
   "outputs": [
    {
     "name": "stdout",
     "output_type": "stream",
     "text": [
      "     FID  IID  PAT  MAT  SEX  PHENOTYPE  rs2436029:269101:C:T_T  \\\n",
      "0  10004    1    0    0    2         75                       2   \n",
      "1  10005    1    0    0    1         69                       2   \n",
      "2  10007    1    0    0    1        108                       2   \n",
      "3  10008    1    0    0    1         94                       2   \n",
      "4  10009    1    0    0    1         92                       2   \n",
      "\n",
      "   rs117942522:320955:C:A_A  rs17158845_T  rs4881331:517451:C:G_G  ...  \\\n",
      "0                         0             2                       2  ...   \n",
      "1                         0             2                       2  ...   \n",
      "2                         0             2                       2  ...   \n",
      "3                         0             2                       2  ...   \n",
      "4                         0             2                       2  ...   \n",
      "\n",
      "   rs4880117_A  rs11137286_T  rs11137126_G  rs9410127_C  rs3125786_T  \\\n",
      "0            2             2             2            2            2   \n",
      "1            2             2             2            2            2   \n",
      "2            2             2             2            2            2   \n",
      "3            2             2             2            2            2   \n",
      "4            2             2             2            2            2   \n",
      "\n",
      "   rs11137198_G  rs7865267_C  rs1378954:141005656:G:A_A  rs9777369_C  \\\n",
      "0             2            2                          2            2   \n",
      "1             2            2                          2            2   \n",
      "2             2            2                          2            2   \n",
      "3             2            2                          2            2   \n",
      "4             2            2                          2            2   \n",
      "\n",
      "   9:141049179:C:T_T  \n",
      "0                  0  \n",
      "1                  0  \n",
      "2                  0  \n",
      "3                  0  \n",
      "4                  0  \n",
      "\n",
      "[5 rows x 38836 columns]\n",
      "Shape of file (804, 38836)\n"
     ]
    }
   ],
   "source": [
    "#Read the file \n",
    "df= pd.read_table(\"/home/Vaishnavi/Imputeted_data/Imputed_maf_0.01/GWAStutorialldlraw.raw\", delim_whitespace= True)\n",
    "print(df.head())\n",
    "print(\"Shape of file\", df.shape)"
   ]
  },
  {
   "cell_type": "code",
   "execution_count": 3,
   "metadata": {},
   "outputs": [
    {
     "data": {
      "text/plain": [
       "Index(['FID', 'IID', 'PAT', 'MAT', 'SEX', 'PHENOTYPE', 'rs2436029:269101:C:T',\n",
       "       'rs117942522:320955:C:A', 'rs17158845', 'rs4881331:517451:C:G',\n",
       "       ...\n",
       "       'rs4880117', 'rs11137286', 'rs11137126', 'rs9410127', 'rs3125786',\n",
       "       'rs11137198', 'rs7865267', 'rs1378954:141005656:G:A', 'rs9777369',\n",
       "       '9:141049179:C:T'],\n",
       "      dtype='object', length=38836)"
      ]
     },
     "execution_count": 3,
     "metadata": {},
     "output_type": "execute_result"
    }
   ],
   "source": [
    "new_col_names= list(df.columns[:6])\n",
    "new_col_names.extend([col_name[:-2] for col_name in df.columns[6:]])\n",
    "df.columns=new_col_names\n",
    "df.columns"
   ]
  },
  {
   "cell_type": "code",
   "execution_count": 4,
   "metadata": {},
   "outputs": [
    {
     "name": "stdout",
     "output_type": "stream",
     "text": [
      "Shape of X (804, 38830)\n",
      "Shape of y (804,)\n"
     ]
    }
   ],
   "source": [
    "#X is Independent feature and y is dependent feature\n",
    "X= df.iloc[:, 6:]\n",
    "print(\"Shape of X\", X.shape)\n",
    "y= df.PHENOTYPE\n",
    "print(\"Shape of y\", y.shape)"
   ]
  },
  {
   "cell_type": "code",
   "execution_count": null,
   "metadata": {},
   "outputs": [],
   "source": []
  },
  {
   "cell_type": "code",
   "execution_count": null,
   "metadata": {},
   "outputs": [],
   "source": []
  },
  {
   "cell_type": "markdown",
   "metadata": {},
   "source": [
    "## <span style=\"color:green\"> LASSO <span style=\"color:green\">"
   ]
  },
  {
   "cell_type": "code",
   "execution_count": 5,
   "metadata": {
    "scrolled": false
   },
   "outputs": [
    {
     "name": "stderr",
     "output_type": "stream",
     "text": [
      "/apps/compiler/anaconda3/lib/python3.9/site-packages/sklearn/linear_model/_coordinate_descent.py:628: ConvergenceWarning: Objective did not converge. You might want to increase the number of iterations, check the scale of the features or consider increasing regularisation. Duality gap: 1.538e+02, tolerance: 8.481e+01\n",
      "  model = cd_fast.enet_coordinate_descent(\n",
      "/apps/compiler/anaconda3/lib/python3.9/site-packages/sklearn/linear_model/_coordinate_descent.py:628: ConvergenceWarning: Objective did not converge. You might want to increase the number of iterations, check the scale of the features or consider increasing regularisation. Duality gap: 1.497e+02, tolerance: 8.188e+01\n",
      "  model = cd_fast.enet_coordinate_descent(\n",
      "/apps/compiler/anaconda3/lib/python3.9/site-packages/sklearn/linear_model/_coordinate_descent.py:628: ConvergenceWarning: Objective did not converge. You might want to increase the number of iterations, check the scale of the features or consider increasing regularisation. Duality gap: 1.400e+02, tolerance: 7.764e+01\n",
      "  model = cd_fast.enet_coordinate_descent(\n",
      "/apps/compiler/anaconda3/lib/python3.9/site-packages/sklearn/linear_model/_coordinate_descent.py:628: ConvergenceWarning: Objective did not converge. You might want to increase the number of iterations, check the scale of the features or consider increasing regularisation. Duality gap: 1.370e+02, tolerance: 7.790e+01\n",
      "  model = cd_fast.enet_coordinate_descent(\n",
      "/apps/compiler/anaconda3/lib/python3.9/site-packages/sklearn/linear_model/_coordinate_descent.py:628: ConvergenceWarning: Objective did not converge. You might want to increase the number of iterations, check the scale of the features or consider increasing regularisation. Duality gap: 1.366e+02, tolerance: 7.667e+01\n",
      "  model = cd_fast.enet_coordinate_descent(\n"
     ]
    },
    {
     "name": "stdout",
     "output_type": "stream",
     "text": [
      "Optimal alpha: 6.5e-05\n",
      "5055 selected SNPs\n",
      "print shape of selected snps by lasso (804, 5055)\n"
     ]
    },
    {
     "name": "stderr",
     "output_type": "stream",
     "text": [
      "/apps/compiler/anaconda3/lib/python3.9/site-packages/sklearn/linear_model/_coordinate_descent.py:628: ConvergenceWarning: Objective did not converge. You might want to increase the number of iterations, check the scale of the features or consider increasing regularisation. Duality gap: 1.909e+02, tolerance: 9.977e+01\n",
      "  model = cd_fast.enet_coordinate_descent(\n"
     ]
    }
   ],
   "source": [
    "# Create and fit the LASSOCV model select 10,000 SNP\n",
    "lasso_cv = linear_model.LassoCV(alphas= [0.000065], cv=5, random_state=2000)\n",
    "\n",
    "# Fit the model to the data\n",
    "lasso_cv.fit(X,y)\n",
    "\n",
    "#Print the optimal alpha value\n",
    "print (\"Optimal alpha:\", lasso_cv.alpha_)\n",
    "\n",
    "# Indices of the SNPs with non-zero coefficients\n",
    "lasso_snps_ldl = np.where(lasso_cv.coef_)[0]\n",
    "\n",
    "# See how many SNPs have a non-zero coefficient\n",
    "print(len(lasso_snps_ldl), \"selected SNPs\")\n",
    "\n",
    "#Final SNPs\n",
    "l1= X.iloc[:,lasso_snps_ldl]\n",
    "print(\"print shape of selected snps by lasso\",l1.shape)\n"
   ]
  },
  {
   "cell_type": "markdown",
   "metadata": {},
   "source": [
    "### Linear regression"
   ]
  },
  {
   "cell_type": "code",
   "execution_count": 6,
   "metadata": {},
   "outputs": [
    {
     "name": "stdout",
     "output_type": "stream",
     "text": [
      "Y.shape (804,)\n",
      "x_train=(562, 5055), x_test=(242, 5055), Y_train= (562,), Y_test= (242,)\n",
      "r2 is  -7.062706566016006\n",
      "mean_absolute_error 24.622159361950125\n",
      "mean_squared_error  1226.6967750084948\n",
      "explained_variance_score 0.21415028471685826\n",
      "Selected p-values:\n",
      "[1.01519932e-04 2.96074422e-04 3.61043914e-05 3.94177532e-04\n",
      " 1.85956925e-04 2.26316511e-04 2.23764587e-04 4.61215627e-04\n",
      " 3.92748510e-05 5.56941232e-05]\n",
      "Number of selected features: 10\n",
      "Selected F-values:\n",
      "[15.26101612 13.21084912 17.25964377 12.66639828 14.09911231 13.72347453\n",
      " 13.74514156 12.36832641 17.09631287 16.41964858]\n",
      "Indices of selected features with top F-values:\n",
      "[2 8 9 0 4 6 5 1 3 7]\n",
      "Top selected features:\n",
      "     rs1778332  rs9844297  rs114142749:60004623:C:T  rs17363282  rs1270640  \\\n",
      "0            2          2                         0           2          2   \n",
      "1            2          2                         0           2          2   \n",
      "2            2          2                         0           2          2   \n",
      "3            2          2                         0           2          2   \n",
      "4            2          2                         0           2          2   \n",
      "..         ...        ...                       ...         ...        ...   \n",
      "799          2          2                         0           2          2   \n",
      "800          2          2                         0           1          2   \n",
      "801          2          1                         0           2          2   \n",
      "802          2          2                         0           2          2   \n",
      "803          2          2                         0           2          2   \n",
      "\n",
      "     rs17046473  rs17368143  rs17148508  rs1337321  rs7580907  \n",
      "0             2           2           2          2          2  \n",
      "1             2           2           2          2          2  \n",
      "2             2           2           2          2          2  \n",
      "3             2           2           2          2          1  \n",
      "4             2           2           2          2          2  \n",
      "..          ...         ...         ...        ...        ...  \n",
      "799           2           2           2          2          2  \n",
      "800           2           2           2          2          2  \n",
      "801           2           2           2          1          2  \n",
      "802           2           2           2          2          2  \n",
      "803           2           2           2          2          2  \n",
      "\n",
      "[804 rows x 10 columns]\n"
     ]
    },
    {
     "data": {
      "text/plain": [
       "['rs17363282',\n",
       " 'rs17148508',\n",
       " 'rs1778332',\n",
       " 'rs1337321',\n",
       " 'rs1270640',\n",
       " 'rs17368143',\n",
       " 'rs17046473',\n",
       " 'rs7580907',\n",
       " 'rs9844297',\n",
       " 'rs114142749:60004623:C:T']"
      ]
     },
     "execution_count": 6,
     "metadata": {},
     "output_type": "execute_result"
    }
   ],
   "source": [
    "Y= df.PHENOTYPE.values\n",
    "print(\"Y.shape\",Y.shape)\n",
    "x_train, x_test, Y_train, Y_test= train_test_split(l1, Y, test_size=0.3, random_state=2000)\n",
    "print(f\"x_train={x_train.shape}, x_test={x_test.shape}, Y_train= {Y_train.shape}, Y_test= {Y_test.shape}\")\n",
    "scaler= StandardScaler()\n",
    "x_train= scaler.fit_transform(x_train)\n",
    "x_test= scaler.transform(x_test)\n",
    "\n",
    "random.seed(2000)\n",
    "model = linear_model.LinearRegression()\n",
    "model.fit(x_train, Y_train)\n",
    "y_pred = model.predict(x_test)\n",
    "score= r2_score(y_pred, Y_test)\n",
    "print(\"r2 is \", score)\n",
    "h= mean_absolute_error(y_pred,Y_test)\n",
    "print(\"mean_absolute_error\", h)\n",
    "print(\"mean_squared_error \", mean_squared_error(y_pred, Y_test))\n",
    "print(\"explained_variance_score\", explained_variance_score(Y_test, y_pred))\n",
    "\n",
    "f_statistic, p_value = f_regression(l1, Y)\n",
    "selected_p_indices = np.where(p_value < 5e-04)[0]\n",
    "selected_p_values = p_value[selected_p_indices]\n",
    "print(\"Selected p-values:\")\n",
    "print(selected_p_values)\n",
    "print(\"Number of selected features:\", len(selected_p_indices))\n",
    "selected_f_values = f_statistic[selected_p_indices]\n",
    "print(\"Selected F-values:\")\n",
    "print(selected_f_values)\n",
    "top_f_indices = np.argsort(-selected_f_values)\n",
    "print(\"Indices of selected features with top F-values:\")\n",
    "print(top_f_indices)\n",
    "top_f_features = l1.iloc[:, selected_p_indices[top_f_indices]]\n",
    "print(\"Top selected features:\")\n",
    "print(top_f_features)\n",
    "lasso_LR_sigSNP=l1.iloc[:, selected_p_indices]\n",
    "lasso_LR_sigSNP\n",
    "lasso_LR_sig_col= list(lasso_LR_sigSNP.columns)\n",
    "lasso_LR_sig_col"
   ]
  },
  {
   "cell_type": "markdown",
   "metadata": {},
   "source": [
    "### Random Forest"
   ]
  },
  {
   "cell_type": "code",
   "execution_count": 7,
   "metadata": {},
   "outputs": [
    {
     "name": "stdout",
     "output_type": "stream",
     "text": [
      "r2 is  -123.1850653760677\n",
      "mean_absolute_error 28.389087581374696\n",
      "mean_squared_error  1527.7362754472292\n"
     ]
    }
   ],
   "source": [
    "# Create a Random Forest Regressor\n",
    "rf_regressor = RandomForestRegressor(n_estimators=100, max_depth=9, min_samples_leaf=4, min_samples_split=2, \n",
    "                                     n_jobs=70,random_state=2000)\n",
    "\n",
    "\n",
    "# Fit RFECV on the training data\n",
    "rf_regressor.fit(x_train, Y_train)\n",
    "\n",
    "\n",
    "# Make predictions on the test set using the model with selected features\n",
    "y_pred= rf_regressor.predict(x_test)\n",
    "score= r2_score(y_pred, Y_test)\n",
    "print(\"r2 is \", score)\n",
    "h= mean_absolute_error(y_pred,Y_test)\n",
    "print(\"mean_absolute_error\", h)\n",
    "print(\"mean_squared_error \", mean_squared_error(y_pred, Y_test))\n"
   ]
  },
  {
   "cell_type": "code",
   "execution_count": null,
   "metadata": {},
   "outputs": [],
   "source": []
  },
  {
   "cell_type": "markdown",
   "metadata": {},
   "source": [
    "### Support Vector Machine"
   ]
  },
  {
   "cell_type": "code",
   "execution_count": 8,
   "metadata": {},
   "outputs": [
    {
     "name": "stdout",
     "output_type": "stream",
     "text": [
      "r2 is  -3.460697449509161\n",
      "mean_absolute_error 24.248212205770606\n",
      "mean_squared_error  1172.5364483292863\n",
      "explained_variance_score 0.2517321677242027\n"
     ]
    }
   ],
   "source": [
    "from sklearn.inspection import permutation_importance\n",
    "\n",
    "svr = SVR(kernel = 'sigmoid' , C=100, epsilon= 0.01, gamma= 'scale', cache_size=800)\n",
    "svr.fit(x_train, Y_train)\n",
    "y_pred= svr.predict(x_test)\n",
    "score= r2_score(y_pred, Y_test)\n",
    "print(\"r2 is \", score)\n",
    "h= mean_absolute_error(y_pred,Y_test)\n",
    "print(\"mean_absolute_error\", h)\n",
    "print(\"mean_squared_error \", mean_squared_error(y_pred, Y_test))\n",
    "print(\"explained_variance_score\", explained_variance_score(Y_test, y_pred))\n",
    "\n"
   ]
  },
  {
   "cell_type": "markdown",
   "metadata": {},
   "source": [
    "### XGBoost"
   ]
  },
  {
   "cell_type": "code",
   "execution_count": 9,
   "metadata": {},
   "outputs": [
    {
     "name": "stdout",
     "output_type": "stream",
     "text": [
      "r2 score -12.14543834478865\n",
      "mean_absolute_error 28.69527681208839\n",
      "mean_squared_error  1570.4655811551386\n",
      "explained_variance_score -0.007063029289272826\n"
     ]
    }
   ],
   "source": [
    "regressor=xgb.XGBRegressor(learning_rate= 0.01, n_estimators=900,  max_depth=10, eval_metric='rmsle', random_state=2000)\n",
    "regressor.fit(x_train, Y_train)\n",
    "y_pred= regressor.predict(x_test)\n",
    "score= r2_score(y_pred, Y_test)\n",
    "print(\"r2 score\",score)\n",
    "h= mean_absolute_error(Y_test, y_pred)\n",
    "print(\"mean_absolute_error\", h)\n",
    "print(\"mean_squared_error \", mean_squared_error(Y_test, y_pred))\n",
    "print(\"explained_variance_score\", explained_variance_score(Y_test, y_pred))"
   ]
  },
  {
   "cell_type": "markdown",
   "metadata": {},
   "source": [
    "## <span style=\"color:green\"> Ridge<span style=\"color:green\">"
   ]
  },
  {
   "cell_type": "code",
   "execution_count": 10,
   "metadata": {},
   "outputs": [
    {
     "name": "stdout",
     "output_type": "stream",
     "text": [
      "Optimal alpha: 0.005\n",
      "Selected SNPs indices based on top coefficients: [24344 11183 24683 ... 30323 11320 14165]\n",
      "5000 selected SNPs\n",
      "Maximum value of coefficient 0.43818829476400195\n",
      "print shape of selected snps by Ridge (804, 5000)\n"
     ]
    }
   ],
   "source": [
    "# Create and fit the RidgeCV model select 5000 SNP\n",
    "ridge_cv = linear_model.RidgeCV(alphas=[0.005], cv=5, scoring='neg_mean_squared_error')\n",
    "ridge_cv.fit(X, y)\n",
    "\n",
    "# Optimal alpha value\n",
    "print(\"Optimal alpha:\", ridge_cv.alpha_)\n",
    "\n",
    "# Indices of the SNPs with non-zero coefficients\n",
    "ridge_snps_ldl = np.where(ridge_cv.coef_)[0]\n",
    "\n",
    "# Select coefficients with non-zero values\n",
    "selected_features = ridge_cv.coef_ != 0\n",
    "\n",
    "# Select coefficients of selected SNPs\n",
    "coefficients = ridge_cv.coef_[selected_features]\n",
    "\n",
    "# Get the indices of the top 5000 SNPs based on descending coefficients\n",
    "top_n = 5000\n",
    "sorted_indices = np.argsort(-coefficients)\n",
    "selected_indices = sorted_indices[:top_n]\n",
    "\n",
    "# Print the indices of selected SNPs and the number of selected SNPs\n",
    "print(\"Selected SNPs indices based on top coefficients:\", selected_indices)\n",
    "print(len(selected_indices), \"selected SNPs\")\n",
    "\n",
    "#Maximum Coefficient\n",
    "print(\"Maximum value of coefficient\", coefficients.max())\n",
    "\n",
    "#Final SNPs\n",
    "R1= X.iloc[:,selected_indices]\n",
    "print(\"print shape of selected snps by Ridge\",R1.shape)\n"
   ]
  },
  {
   "cell_type": "code",
   "execution_count": null,
   "metadata": {},
   "outputs": [],
   "source": []
  },
  {
   "cell_type": "code",
   "execution_count": null,
   "metadata": {},
   "outputs": [],
   "source": [
    "\n"
   ]
  },
  {
   "cell_type": "markdown",
   "metadata": {},
   "source": [
    "### Linear Regression"
   ]
  },
  {
   "cell_type": "code",
   "execution_count": 11,
   "metadata": {},
   "outputs": [
    {
     "name": "stdout",
     "output_type": "stream",
     "text": [
      "Y.shape (804,)\n",
      "x_train=(562, 5000), x_test=(242, 5000), Y_train= (562,), Y_test= (242,)\n"
     ]
    }
   ],
   "source": [
    "Y= df.PHENOTYPE.values\n",
    "print(\"Y.shape\",Y.shape)\n",
    "x_train, x_test, Y_train, Y_test= train_test_split(R1, Y, test_size=0.3, random_state=2000)\n",
    "print(f\"x_train={x_train.shape}, x_test={x_test.shape}, Y_train= {Y_train.shape}, Y_test= {Y_test.shape}\")\n",
    "scaler= StandardScaler()\n",
    "x_train= scaler.fit_transform(x_train)\n",
    "x_test= scaler.transform(x_test)"
   ]
  },
  {
   "cell_type": "code",
   "execution_count": 12,
   "metadata": {},
   "outputs": [
    {
     "name": "stdout",
     "output_type": "stream",
     "text": [
      "r2 is  0.23516675371052276\n",
      "mean_absolute_error 14.901300123141873\n",
      "mean_squared_error  426.0674752708918\n",
      "explained_variance_score 0.7267570487324846\n",
      "Selected p-values:\n",
      "[0.00011675 0.00030055 0.0003986  0.00025274 0.00034545 0.0004939\n",
      " 0.00011867]\n",
      "Number of selected features: 7\n",
      "Selected F-values:\n",
      "[14.99217683 13.18225393 12.64520192 13.5125931  12.91722134 12.23854868\n",
      " 14.96076177]\n",
      "Indices of selected features with top F-values:\n",
      "[0 6 3 1 4 2 5]\n",
      "Top selected features:\n",
      "     rs114960359:117239408:C:A  rs10056040  rs429717:46317839:A:G  rs7250848  \\\n",
      "0                            0           2                      2          1   \n",
      "1                            0           2                      1          2   \n",
      "2                            0           2                      2          2   \n",
      "3                            0           2                      1          2   \n",
      "4                            0           2                      2          2   \n",
      "..                         ...         ...                    ...        ...   \n",
      "799                          0           2                      2          2   \n",
      "800                          0           2                      2          2   \n",
      "801                          0           2                      2          2   \n",
      "802                          0           2                      2          2   \n",
      "803                          0           2                      2          2   \n",
      "\n",
      "     4:142689553:G:A  rs10046533:75286795:C:G  rs17140133  \n",
      "0                  0                        0           2  \n",
      "1                  0                        0           2  \n",
      "2                  0                        0           2  \n",
      "3                  0                        0           2  \n",
      "4                  0                        0           2  \n",
      "..               ...                      ...         ...  \n",
      "799                1                        0           2  \n",
      "800                0                        0           2  \n",
      "801                0                        1           2  \n",
      "802                0                        1           2  \n",
      "803                0                        0           2  \n",
      "\n",
      "[804 rows x 7 columns]\n"
     ]
    },
    {
     "data": {
      "text/plain": [
       "['rs114960359:117239408:C:A',\n",
       " 'rs7250848',\n",
       " 'rs10046533:75286795:C:G',\n",
       " 'rs429717:46317839:A:G',\n",
       " '4:142689553:G:A',\n",
       " 'rs17140133',\n",
       " 'rs10056040']"
      ]
     },
     "execution_count": 12,
     "metadata": {},
     "output_type": "execute_result"
    }
   ],
   "source": [
    "random.seed(2000)\n",
    "model = linear_model.LinearRegression()\n",
    "model.fit(x_train, Y_train)\n",
    "y_pred = model.predict(x_test)\n",
    "score= r2_score(y_pred, Y_test)\n",
    "print(\"r2 is \", score)\n",
    "h= mean_absolute_error(y_pred,Y_test)\n",
    "print(\"mean_absolute_error\", h)\n",
    "print(\"mean_squared_error \", mean_squared_error(y_pred, Y_test))\n",
    "print(\"explained_variance_score\", explained_variance_score(Y_test, y_pred))\n",
    "\n",
    "f_statistic, p_value = f_regression(R1, Y)\n",
    "selected_p_indices = np.where(p_value < 5e-04)[0]\n",
    "selected_p_values = p_value[selected_p_indices]\n",
    "print(\"Selected p-values:\")\n",
    "print(selected_p_values)\n",
    "print(\"Number of selected features:\", len(selected_p_indices))\n",
    "selected_f_values = f_statistic[selected_p_indices]\n",
    "print(\"Selected F-values:\")\n",
    "print(selected_f_values)\n",
    "top_f_indices = np.argsort(-selected_f_values)\n",
    "print(\"Indices of selected features with top F-values:\")\n",
    "print(top_f_indices)\n",
    "top_f_features = R1.iloc[:, selected_p_indices[top_f_indices]]\n",
    "print(\"Top selected features:\")\n",
    "print(top_f_features)\n",
    "Ridge_LR_sigSNP=R1.iloc[:, selected_p_indices]\n",
    "Ridge_LR_sigSNP\n",
    "Ridge_LR_sig_col= list(Ridge_LR_sigSNP.columns)\n",
    "Ridge_LR_sig_col"
   ]
  },
  {
   "cell_type": "markdown",
   "metadata": {},
   "source": [
    "### Random Forest"
   ]
  },
  {
   "cell_type": "code",
   "execution_count": 13,
   "metadata": {},
   "outputs": [
    {
     "name": "stdout",
     "output_type": "stream",
     "text": [
      "r2 is  -69.57598214428167\n",
      "mean_absolute_error 29.072424524803633\n",
      "mean_squared_error  1550.744807350736\n"
     ]
    }
   ],
   "source": [
    "# Create a Random Forest Regressor\n",
    "rf_regressor = RandomForestRegressor(n_estimators=100, max_depth=9, min_samples_leaf=4, min_samples_split=2, \n",
    "                                     n_jobs=70,random_state=2000)\n",
    "\n",
    "\n",
    "# Fit RFECV on the training data\n",
    "rf_regressor.fit(x_train, Y_train)\n",
    "\n",
    "\n",
    "# Make predictions on the test set using the model with selected features\n",
    "y_pred= rf_regressor.predict(x_test)\n",
    "score= r2_score(y_pred, Y_test)\n",
    "print(\"r2 is \", score)\n",
    "h= mean_absolute_error(y_pred,Y_test)\n",
    "print(\"mean_absolute_error\", h)\n",
    "print(\"mean_squared_error \", mean_squared_error(y_pred, Y_test))"
   ]
  },
  {
   "cell_type": "markdown",
   "metadata": {},
   "source": [
    "### Support Vector Machine"
   ]
  },
  {
   "cell_type": "code",
   "execution_count": 14,
   "metadata": {},
   "outputs": [
    {
     "name": "stdout",
     "output_type": "stream",
     "text": [
      "r2 is  0.45221030716232424\n",
      "mean_absolute_error 13.916722121066252\n",
      "mean_squared_error  377.0827072063047\n",
      "explained_variance_score 0.7613266921803723\n"
     ]
    }
   ],
   "source": [
    "from sklearn.inspection import permutation_importance\n",
    "\n",
    "svr = SVR(kernel = 'sigmoid' , C=100, epsilon= 0.01, gamma= 'scale', cache_size=800)\n",
    "svr.fit(x_train, Y_train)\n",
    "y_pred= svr.predict(x_test)\n",
    "score= r2_score(y_pred, Y_test)\n",
    "print(\"r2 is \", score)\n",
    "h= mean_absolute_error(y_pred,Y_test)\n",
    "print(\"mean_absolute_error\", h)\n",
    "print(\"mean_squared_error \", mean_squared_error(y_pred, Y_test))\n",
    "print(\"explained_variance_score\", explained_variance_score(Y_test, y_pred))\n"
   ]
  },
  {
   "cell_type": "markdown",
   "metadata": {},
   "source": [
    "### XGBoost"
   ]
  },
  {
   "cell_type": "code",
   "execution_count": 15,
   "metadata": {},
   "outputs": [
    {
     "name": "stdout",
     "output_type": "stream",
     "text": [
      "r2 score -14.008014965332777\n",
      "mean_absolute_error 30.172190737133185\n",
      "mean_squared_error  1705.5436353245773\n",
      "explained_variance_score -0.09289767366345614\n"
     ]
    }
   ],
   "source": [
    "regressor=xgb.XGBRegressor(learning_rate= 0.01, n_estimators=900,  max_depth=10, eval_metric='rmsle', random_state=2000)\n",
    "regressor.fit(x_train, Y_train)\n",
    "y_pred= regressor.predict(x_test)\n",
    "score= r2_score(y_pred, Y_test)\n",
    "print(\"r2 score\",score)\n",
    "h= mean_absolute_error(Y_test, y_pred)\n",
    "print(\"mean_absolute_error\", h)\n",
    "print(\"mean_squared_error \", mean_squared_error(Y_test, y_pred))\n",
    "print(\"explained_variance_score\", explained_variance_score(Y_test, y_pred))"
   ]
  },
  {
   "cell_type": "markdown",
   "metadata": {},
   "source": [
    "## <span style=\"color:green\"> Elastic net<span style=\"color:green\">"
   ]
  },
  {
   "cell_type": "code",
   "execution_count": 16,
   "metadata": {},
   "outputs": [
    {
     "name": "stdout",
     "output_type": "stream",
     "text": [
      "Optimal alpha: 0.136\n",
      "Optimal l1_ratio:  0.5\n",
      "5000 selected SNPs\n",
      "print shape of selected snps by Elastic net (804, 5000)\n"
     ]
    }
   ],
   "source": [
    "# Create and fit the Elasticnet model\n",
    "elastic_cv = linear_model.ElasticNetCV(l1_ratio=[0.5],alphas=[0.136], cv=5, random_state= 2000)\n",
    "elastic_cv.fit(X, y)\n",
    "\n",
    "# Print the optimal alpha value\n",
    "print (\"Optimal alpha:\", elastic_cv.alpha_)\n",
    "print(\"Optimal l1_ratio: \", elastic_cv.l1_ratio_)\n",
    "\n",
    "# Indices of the SNPs with non-zero coefficients\n",
    "elastic_snps_ldl = np.where(elastic_cv.coef_)[0]\n",
    "\n",
    "# See how many SNPs have a non-zero coefficient\n",
    "print(len(elastic_snps_ldl), \"selected SNPs\")\n",
    "\n",
    "#Final SNPs\n",
    "E1= X.iloc[:,elastic_snps_ldl]\n",
    "print(\"print shape of selected snps by Elastic net\",E1.shape)"
   ]
  },
  {
   "cell_type": "code",
   "execution_count": null,
   "metadata": {},
   "outputs": [],
   "source": []
  },
  {
   "cell_type": "code",
   "execution_count": null,
   "metadata": {},
   "outputs": [],
   "source": []
  },
  {
   "cell_type": "markdown",
   "metadata": {},
   "source": [
    "### Linear Regression"
   ]
  },
  {
   "cell_type": "code",
   "execution_count": 17,
   "metadata": {},
   "outputs": [
    {
     "name": "stdout",
     "output_type": "stream",
     "text": [
      "Y.shape (804,)\n",
      "x_train=(562, 5000), x_test=(242, 5000), Y_train= (562,), Y_test= (242,)\n"
     ]
    }
   ],
   "source": [
    "Y= df.PHENOTYPE.values\n",
    "print(\"Y.shape\",Y.shape)\n",
    "x_train, x_test, Y_train, Y_test= train_test_split(E1, Y, test_size=0.3, random_state=2000)\n",
    "print(f\"x_train={x_train.shape}, x_test={x_test.shape}, Y_train= {Y_train.shape}, Y_test= {Y_test.shape}\")\n",
    "scaler= StandardScaler()\n",
    "x_train= scaler.fit_transform(x_train)\n",
    "x_test= scaler.transform(x_test)"
   ]
  },
  {
   "cell_type": "code",
   "execution_count": 18,
   "metadata": {},
   "outputs": [
    {
     "name": "stdout",
     "output_type": "stream",
     "text": [
      "r2 is  0.5884972895966444\n",
      "mean_absolute_error 10.754641248473234\n",
      "mean_squared_error  256.45290776741444\n",
      "explained_variance_score 0.8355334697053634\n",
      "Selected p-values:\n",
      "[1.01519932e-04 2.96074422e-04 3.61043914e-05 3.94177532e-04\n",
      " 1.85956925e-04 2.52742690e-04 1.60126498e-04 2.86448156e-04\n",
      " 3.77362185e-04 2.32562385e-04 3.00551798e-04 3.49989000e-05\n",
      " 1.67826003e-04 2.20980705e-04 3.01483324e-04 2.26316511e-04\n",
      " 1.34327091e-04 5.17290623e-05 2.17861807e-04 2.23764587e-04\n",
      " 2.03221057e-04 4.61215627e-04 4.20672054e-05 1.68016657e-04\n",
      " 9.95898777e-05 3.92748510e-05 5.56941232e-05 1.16746301e-04\n",
      " 3.45449460e-04 1.36877060e-04 1.18669783e-04 5.69937705e-05\n",
      " 8.08387343e-05 7.92374209e-07 4.93586322e-04 1.34742036e-04\n",
      " 1.50831357e-04 4.93902383e-04 7.94332590e-06 2.72921870e-04\n",
      " 3.88784056e-04 3.98601170e-04 3.34552347e-04 4.80749141e-04\n",
      " 1.68597540e-04 7.90462621e-05 4.77655973e-04]\n",
      "Number of selected features: 47\n",
      "Selected F-values:\n",
      "[15.26101612 13.21084912 17.25964377 12.66639828 14.09911231 13.5125931\n",
      " 14.38559688 13.27383712 12.74922629 13.67146821 13.18225393 17.32001515\n",
      " 14.29558794 13.76906451 13.17635876 13.72347453 14.72266187 16.56257008\n",
      " 13.79623061 13.74514156 13.92923875 12.36832641 16.96310947 14.2934124\n",
      " 15.29796745 17.09631287 16.41964858 14.99217683 12.91722134 14.6865565\n",
      " 14.96076177 16.37502666 15.69994357 24.76616759 12.23976147 14.71673972\n",
      " 14.50026848 12.23854868 20.21442821 13.36605636 12.69256953 12.64520192\n",
      " 12.97820278 12.28969585 14.28679935 15.74319465 12.30192938]\n",
      "Indices of selected features with top F-values:\n",
      "[33 38 11  2 25 22 17 26 31 45 32 24  0 27 30 16 35 29 36  6 12 23 44  4\n",
      " 20 18 13 19 15  9  5 39  7  1 10 14 42 28  8 40  3 41 21 46 43 34 37]\n",
      "Top selected features:\n",
      "     rs17061291  rs12673401  rs12565884  rs1778332  rs9844297  rs6431555  \\\n",
      "0             2           2           2          2          2          2   \n",
      "1             2           2           2          2          2          2   \n",
      "2             2           2           2          2          2          2   \n",
      "3             2           2           2          2          2          2   \n",
      "4             2           2           2          2          2          2   \n",
      "..          ...         ...         ...        ...        ...        ...   \n",
      "799           2           2           2          2          2          2   \n",
      "800           2           2           2          2          2          2   \n",
      "801           2           2           2          2          1          2   \n",
      "802           2           2           2          2          2          2   \n",
      "803           2           2           2          2          2          2   \n",
      "\n",
      "     rs6721324  rs114142749:60004623:C:T  rs10476900  rs7829831  ...  \\\n",
      "0            2                         0           2          2  ...   \n",
      "1            2                         0           2          2  ...   \n",
      "2            2                         0           2          2  ...   \n",
      "3            2                         0           2          2  ...   \n",
      "4            2                         0           2          2  ...   \n",
      "..         ...                       ...         ...        ...  ...   \n",
      "799          2                         0           2          2  ...   \n",
      "800          2                         0           2          2  ...   \n",
      "801          2                         0           2          2  ...   \n",
      "802          2                         0           2          2  ...   \n",
      "803          2                         0           2          2  ...   \n",
      "\n",
      "     4:142689553:G:A  rs9961679  rs11977502  rs1337321  \\\n",
      "0                  0          2           2          2   \n",
      "1                  0          2           2          2   \n",
      "2                  0          2           2          2   \n",
      "3                  0          2           2          2   \n",
      "4                  0          2           2          2   \n",
      "..               ...        ...         ...        ...   \n",
      "799                1          2           2          2   \n",
      "800                0          2           2          2   \n",
      "801                0          2           2          1   \n",
      "802                0          2           2          2   \n",
      "803                0          2           2          2   \n",
      "\n",
      "     rs10046533:75286795:C:G  rs7580907  rs4236776  rs3757557  rs7454060  \\\n",
      "0                          0          2          2          2          2   \n",
      "1                          0          2          2          2          2   \n",
      "2                          0          2          2          2          2   \n",
      "3                          0          1          2          2          2   \n",
      "4                          0          2          2          2          2   \n",
      "..                       ...        ...        ...        ...        ...   \n",
      "799                        0          2          2          2          2   \n",
      "800                        0          2          2          2          2   \n",
      "801                        1          2          2          2          2   \n",
      "802                        1          2          2          2          2   \n",
      "803                        0          2          1          1          2   \n",
      "\n",
      "     rs17140133  \n",
      "0             2  \n",
      "1             2  \n",
      "2             2  \n",
      "3             2  \n",
      "4             2  \n",
      "..          ...  \n",
      "799           2  \n",
      "800           2  \n",
      "801           2  \n",
      "802           2  \n",
      "803           2  \n",
      "\n",
      "[804 rows x 47 columns]\n"
     ]
    },
    {
     "data": {
      "text/plain": [
       "['rs17363282',\n",
       " 'rs17148508',\n",
       " 'rs1778332',\n",
       " 'rs1337321',\n",
       " 'rs1270640',\n",
       " 'rs429717:46317839:A:G',\n",
       " 'rs4390610',\n",
       " 'rs2111661',\n",
       " 'rs9961679',\n",
       " 'rs16979982',\n",
       " 'rs7250848',\n",
       " 'rs12565884',\n",
       " 'rs13433317',\n",
       " 'rs845984',\n",
       " 'rs9611598',\n",
       " 'rs17368143',\n",
       " 'rs17466952',\n",
       " 'rs6721324',\n",
       " 'rs13431528',\n",
       " 'rs17046473',\n",
       " 'rs7573764',\n",
       " 'rs7580907',\n",
       " 'rs6431555',\n",
       " 'rs11707474:26174707:A:T',\n",
       " 'rs11713930',\n",
       " 'rs9844297',\n",
       " 'rs114142749:60004623:C:T',\n",
       " 'rs114960359:117239408:C:A',\n",
       " '4:142689553:G:A',\n",
       " 'rs10045328',\n",
       " 'rs10056040',\n",
       " 'rs10476900',\n",
       " 'rs4840245',\n",
       " 'rs17061291',\n",
       " 'rs7454060',\n",
       " 'rs9968989',\n",
       " 'rs9498157:149102500:A:T',\n",
       " 'rs17140133',\n",
       " 'rs12673401',\n",
       " 'rs936857',\n",
       " 'rs11977502',\n",
       " 'rs10046533:75286795:C:G',\n",
       " 'rs17156252',\n",
       " 'rs3757557',\n",
       " 'rs17170216',\n",
       " 'rs7829831',\n",
       " 'rs4236776']"
      ]
     },
     "execution_count": 18,
     "metadata": {},
     "output_type": "execute_result"
    }
   ],
   "source": [
    "random.seed(2000)\n",
    "model = linear_model.LinearRegression()\n",
    "model.fit(x_train, Y_train)\n",
    "y_pred = model.predict(x_test)\n",
    "score= r2_score(y_pred, Y_test)\n",
    "print(\"r2 is \", score)\n",
    "h= mean_absolute_error(y_pred,Y_test)\n",
    "print(\"mean_absolute_error\", h)\n",
    "print(\"mean_squared_error \", mean_squared_error(y_pred, Y_test))\n",
    "print(\"explained_variance_score\", explained_variance_score(Y_test, y_pred))\n",
    "\n",
    "f_statistic, p_value = f_regression(E1, Y)\n",
    "selected_p_indices = np.where(p_value < 5e-04)[0]\n",
    "selected_p_values = p_value[selected_p_indices]\n",
    "print(\"Selected p-values:\")\n",
    "print(selected_p_values)\n",
    "print(\"Number of selected features:\", len(selected_p_indices))\n",
    "selected_f_values = f_statistic[selected_p_indices]\n",
    "print(\"Selected F-values:\")\n",
    "print(selected_f_values)\n",
    "top_f_indices = np.argsort(-selected_f_values)\n",
    "print(\"Indices of selected features with top F-values:\")\n",
    "print(top_f_indices)\n",
    "top_f_features = E1.iloc[:, selected_p_indices[top_f_indices]]\n",
    "print(\"Top selected features:\")\n",
    "print(top_f_features)\n",
    "Elasticnet_LR_sigSNP=E1.iloc[:, selected_p_indices]\n",
    "Elasticnet_LR_sigSNP\n",
    "Elasticnet_LR_sig_col= list(Elasticnet_LR_sigSNP.columns)\n",
    "Elasticnet_LR_sig_col"
   ]
  },
  {
   "cell_type": "markdown",
   "metadata": {},
   "source": [
    "### Random Forest"
   ]
  },
  {
   "cell_type": "code",
   "execution_count": 19,
   "metadata": {},
   "outputs": [
    {
     "name": "stdout",
     "output_type": "stream",
     "text": [
      "r2 is  -83.35238199831839\n",
      "mean_absolute_error 28.264004281554012\n",
      "mean_squared_error  1462.696816865877\n",
      "explained_variance_score 0.06239113068281965\n"
     ]
    }
   ],
   "source": [
    "# Create a Random Forest Regressor\n",
    "rf_regressor = RandomForestRegressor(n_estimators=100, max_depth=9, min_samples_leaf=4, min_samples_split=2, \n",
    "                                     n_jobs=70,random_state=2000)\n",
    "\n",
    "\n",
    "# Fit RFECV on the training data\n",
    "rf_regressor.fit(x_train, Y_train)\n",
    "\n",
    "\n",
    "# Make predictions on the test set using the model with selected features\n",
    "y_pred= rf_regressor.predict(x_test)\n",
    "score= r2_score(y_pred, Y_test)\n",
    "print(\"r2 is \", score)\n",
    "h= mean_absolute_error(y_pred,Y_test)\n",
    "print(\"mean_absolute_error\", h)\n",
    "print(\"mean_squared_error \", mean_squared_error(y_pred, Y_test))\n",
    "print(\"explained_variance_score\", explained_variance_score(Y_test, y_pred))\n"
   ]
  },
  {
   "cell_type": "code",
   "execution_count": null,
   "metadata": {},
   "outputs": [],
   "source": []
  },
  {
   "cell_type": "markdown",
   "metadata": {},
   "source": [
    "### Support Vector Regression"
   ]
  },
  {
   "cell_type": "code",
   "execution_count": 20,
   "metadata": {},
   "outputs": [
    {
     "name": "stdout",
     "output_type": "stream",
     "text": [
      "r2 is  0.788886164228993\n",
      "mean_absolute_error 8.658024483347209\n",
      "mean_squared_error  171.8369404477901\n",
      "explained_variance_score 0.8897983479276816\n",
      "Selected feature indices are [4048 2073 2436 ... 1984 1175 3505]\n",
      "Top 100 fearure indices are [4048 2073 2436 ... 1984 1175 3505]\n",
      "Top 100 fearures permutation scores are [ 0.00130108  0.00120506  0.00117774  0.00117456  0.0011215   0.00108006\n",
      "  0.00107939  0.00106489  0.00083367  0.00082445  0.00081813  0.00079621\n",
      "  0.0007887   0.00077276  0.0007641   0.00075778  0.00075758  0.00074712\n",
      "  0.00073069  0.00072727  0.00071748  0.00071204  0.0007059   0.00069548\n",
      "  0.00069486  0.0006945   0.00067777  0.00067501  0.00067143  0.00066202\n",
      "  0.00065973  0.00065951  0.00065563  0.00064964  0.00064494  0.00063843\n",
      "  0.00063713  0.00063529  0.00063403  0.00063223  0.00062565  0.0006178\n",
      "  0.00061678  0.00061621  0.00061439  0.00060744  0.00060443 -0.00059452\n",
      "  0.00059258 -0.00058944  0.00058609  0.00058195  0.00057295  0.00057166\n",
      "  0.00056874 -0.00056767  0.00056104  0.00056062  0.00055673  0.00055639\n",
      "  0.00055388  0.00055284  0.00055241  0.00055053 -0.00054493  0.00054029\n",
      "  0.00053778  0.00053629  0.00053477  0.00053275  0.00052743  0.0005274\n",
      "  0.00052504  0.0005219   0.00052066  0.00051632  0.00051093  0.00051059\n",
      "  0.00050977  0.00050339  0.00050138  0.00050061  0.00049857  0.00049474\n",
      "  0.00048936  0.0004881   0.00048696  0.00048558  0.00048443  0.00048442\n",
      "  0.00048267  0.00048263  0.00048181  0.00047836  0.0004754   0.00047478\n",
      "  0.00047428  0.00047421  0.00047293  0.00047234]\n"
     ]
    },
    {
     "data": {
      "text/plain": [
       "['rs4840245',\n",
       " 'rs12565884',\n",
       " 'rs9611598',\n",
       " 'rs11707474:26174707:A:T',\n",
       " 'rs4390610',\n",
       " 'rs9498157:149102500:A:T',\n",
       " 'rs11683778',\n",
       " 'rs6721324',\n",
       " 'rs16871601',\n",
       " 'rs16956998:82325795:A:T',\n",
       " 'rs4236776',\n",
       " 'rs936857',\n",
       " 'rs17046473',\n",
       " 'rs7250848',\n",
       " 'rs7007853',\n",
       " 'rs11114094',\n",
       " 'rs2111661',\n",
       " 'rs17466952',\n",
       " 'rs12576190:80938399:G:C',\n",
       " 'rs1778332',\n",
       " 'rs328016',\n",
       " 'rs7573764',\n",
       " 'rs17148508',\n",
       " 'rs17237145',\n",
       " 'rs12673401',\n",
       " 'rs10056040',\n",
       " 'rs4538947',\n",
       " 'rs75404656:181460531:G:A',\n",
       " 'rs968846',\n",
       " 'rs10046533:75286795:C:G',\n",
       " 'rs10045328',\n",
       " 'rs12595894:80105008:C:T',\n",
       " 'rs7454060',\n",
       " 'rs1412922',\n",
       " 'rs6502978',\n",
       " 'rs11863312',\n",
       " 'rs8102985',\n",
       " 'rs4987765',\n",
       " 'rs114142749:60004623:C:T',\n",
       " 'rs1532468:109684816:T:A',\n",
       " 'rs8006542',\n",
       " 'rs9844297',\n",
       " 'rs3757557',\n",
       " 'rs9479837',\n",
       " 'rs7829831',\n",
       " 'rs7580907',\n",
       " 'rs16845462',\n",
       " 'rs7404477',\n",
       " 'rs8192049',\n",
       " 'rs16837404',\n",
       " 'rs1516242',\n",
       " 'rs6485709',\n",
       " 'rs56390351:184996010:C:T',\n",
       " 'rs2301719',\n",
       " 'rs7599185:204583597:T:C',\n",
       " 'rs8055769',\n",
       " 'rs16882715',\n",
       " 'rs17368143',\n",
       " 'rs242764',\n",
       " 'rs845984',\n",
       " 'rs1077695',\n",
       " 'rs16866620',\n",
       " 'rs144409537:75022925:C:T',\n",
       " 'rs6985486',\n",
       " 'rs7629236',\n",
       " 'rs17111413',\n",
       " 'rs13012910',\n",
       " 'rs9647683',\n",
       " 'rs6875871',\n",
       " 'rs12554851',\n",
       " 'rs17089192',\n",
       " 'rs16930701',\n",
       " 'rs17447439',\n",
       " 'rs7005297',\n",
       " 'rs10503601:17525468:T:C',\n",
       " 'rs16920543',\n",
       " 'rs16885076',\n",
       " 'rs12684749',\n",
       " 'rs78437189:90838444:C:T',\n",
       " 'rs17839548',\n",
       " 'rs16870042',\n",
       " 'rs10507994',\n",
       " 'rs16909619',\n",
       " 'rs16978318',\n",
       " 'rs6605559',\n",
       " 'rs16835412:124146574:A:T',\n",
       " 'rs4081949',\n",
       " 'rs11713930',\n",
       " 'rs17055545',\n",
       " 'rs7762200',\n",
       " 'rs9777703:928836:C:T',\n",
       " 'rs562922:90092602:T:C',\n",
       " 'rs16826354',\n",
       " 'rs12554672',\n",
       " 'rs12613530',\n",
       " 'rs1725391',\n",
       " 'rs12952302',\n",
       " 'rs17156252',\n",
       " 'rs17038645',\n",
       " 'rs17045918']"
      ]
     },
     "execution_count": 20,
     "metadata": {},
     "output_type": "execute_result"
    }
   ],
   "source": [
    "from sklearn.inspection import permutation_importance\n",
    "\n",
    "svr = SVR(kernel = 'sigmoid' , C=100, epsilon= 0.01, gamma= 'scale', cache_size=800)\n",
    "svr.fit(x_train, Y_train)\n",
    "y_pred= svr.predict(x_test)\n",
    "score= r2_score(y_pred, Y_test)\n",
    "print(\"r2 is \", score)\n",
    "h= mean_absolute_error(y_pred,Y_test)\n",
    "print(\"mean_absolute_error\", h)\n",
    "print(\"mean_squared_error \", mean_squared_error(y_pred, Y_test))\n",
    "print(\"explained_variance_score\", explained_variance_score(Y_test, y_pred))\n",
    "perm_importance= permutation_importance(svr, x_test, Y_test, n_repeats=10, random_state=2000, n_jobs=70)\n",
    "\n",
    "\n",
    "imp_score=perm_importance.importances_mean\n",
    "feature_indices = np.argsort(np.abs(imp_score))[::-1]\n",
    "print(f\"Selected feature indices are {feature_indices}\")\n",
    "# # Specify the number of features you want to select based on magnitude\n",
    "num_selected_features = 100\n",
    "top_100=feature_indices[:num_selected_features]\n",
    "print(f\"Top 100 fearure indices are {feature_indices}\")\n",
    "imp_score_100=imp_score[top_100]\n",
    "print(f\"Top 100 fearures permutation scores are {imp_score_100}\")\n",
    "Elasticnet_SVR_sigSNP= E1.iloc[:,top_100]\n",
    "Elasticnet_SVR_sig_col= list(Elasticnet_SVR_sigSNP.columns)\n",
    "Elasticnet_SVR_sig_col"
   ]
  },
  {
   "cell_type": "markdown",
   "metadata": {},
   "source": [
    "### XGBoost for Elastic-net"
   ]
  },
  {
   "cell_type": "code",
   "execution_count": 21,
   "metadata": {},
   "outputs": [
    {
     "name": "stdout",
     "output_type": "stream",
     "text": [
      "r2 score -16.674891882959155\n",
      "mean_absolute_error 28.056912634983536\n",
      "mean_squared_error  1469.7270667198777\n",
      "explained_variance_score 0.05781458120083338\n"
     ]
    }
   ],
   "source": [
    "regressor=xgb.XGBRegressor(learning_rate= 0.01, n_estimators=900,  max_depth=10, eval_metric='rmsle', random_state=2000)\n",
    "regressor.fit(x_train, Y_train)\n",
    "y_pred= regressor.predict(x_test)\n",
    "score= r2_score(y_pred, Y_test)\n",
    "print(\"r2 score\",score)\n",
    "h= mean_absolute_error(Y_test, y_pred)\n",
    "print(\"mean_absolute_error\", h)\n",
    "print(\"mean_squared_error \", mean_squared_error(Y_test, y_pred))\n",
    "print(\"explained_variance_score\", explained_variance_score(Y_test, y_pred))"
   ]
  },
  {
   "cell_type": "code",
   "execution_count": null,
   "metadata": {},
   "outputs": [],
   "source": []
  },
  {
   "cell_type": "code",
   "execution_count": null,
   "metadata": {},
   "outputs": [],
   "source": []
  },
  {
   "cell_type": "code",
   "execution_count": null,
   "metadata": {},
   "outputs": [],
   "source": []
  },
  {
   "cell_type": "code",
   "execution_count": null,
   "metadata": {},
   "outputs": [],
   "source": []
  },
  {
   "cell_type": "code",
   "execution_count": null,
   "metadata": {},
   "outputs": [],
   "source": []
  },
  {
   "cell_type": "code",
   "execution_count": null,
   "metadata": {},
   "outputs": [],
   "source": []
  },
  {
   "cell_type": "code",
   "execution_count": null,
   "metadata": {},
   "outputs": [],
   "source": []
  },
  {
   "cell_type": "code",
   "execution_count": null,
   "metadata": {},
   "outputs": [],
   "source": []
  },
  {
   "cell_type": "markdown",
   "metadata": {},
   "source": [
    "## <span style=\"color:green\"> Mutual information <span style=\"color:green\">"
   ]
  },
  {
   "cell_type": "code",
   "execution_count": 22,
   "metadata": {},
   "outputs": [
    {
     "name": "stdout",
     "output_type": "stream",
     "text": [
      "Length of mutal info 38830\n",
      "Maximum value of mutualinfo <bound method NDFrame._add_numeric_operations.<locals>.max of rs9881090                  9.749381e-02\n",
      "rs12649176                 9.574809e-02\n",
      "rs16824778                 9.354285e-02\n",
      "rs17681524                 9.232919e-02\n",
      "rs1472491                  9.055629e-02\n",
      "                               ...     \n",
      "rs17029090                 2.040916e-06\n",
      "rs56002751:39625366:A:C    8.888933e-07\n",
      "rs12555893                 5.370780e-07\n",
      "rs966078                   5.363469e-07\n",
      "rs7523161                  2.856900e-07\n",
      "Length: 19050, dtype: float64>\n",
      "Length of mutal info non zero 19050\n",
      "print shape of selected snps by Mutual_info (804, 5000)\n"
     ]
    }
   ],
   "source": [
    "# Create and fit the Mutual_info model\n",
    "mutual_info= mutual_info_regression(X, y, random_state=2000)\n",
    "print(\"Length of mutal info\", len(mutual_info))\n",
    "mutual_info= pd.Series(mutual_info, index=df.columns[6:])\n",
    "\n",
    "#Sort mutual_info values descending order\n",
    "vdesc= mutual_info.sort_values(ascending=False)\n",
    "vdesc_nonzero= vdesc[vdesc!=0]\n",
    "print(\"Maximum value of mutualinfo\", vdesc_nonzero.max)\n",
    "print(\"Length of mutal info non zero\", len(vdesc_nonzero))\n",
    "k= np.where(vdesc_nonzero)\n",
    "first_col= k[0]\n",
    "\n",
    "#Selected 5000 SNPs\n",
    "top5000 = 5000\n",
    "mi_pos= first_col[:top5000]\n",
    "\n",
    "#Final SNPs\n",
    "M1= X.iloc[:,mi_pos]\n",
    "print(\"print shape of selected snps by Mutual_info\",M1.shape)"
   ]
  },
  {
   "cell_type": "code",
   "execution_count": null,
   "metadata": {},
   "outputs": [],
   "source": []
  },
  {
   "cell_type": "markdown",
   "metadata": {},
   "source": [
    "### Linear Regression"
   ]
  },
  {
   "cell_type": "code",
   "execution_count": 23,
   "metadata": {},
   "outputs": [
    {
     "name": "stdout",
     "output_type": "stream",
     "text": [
      "Y.shape (804,)\n",
      "x_train=(562, 5000), x_test=(242, 5000), Y_train= (562,), Y_test= (242,)\n"
     ]
    }
   ],
   "source": [
    "Y= df.PHENOTYPE.values\n",
    "print(\"Y.shape\",Y.shape)\n",
    "x_train, x_test, Y_train, Y_test= train_test_split(M1, Y, test_size=0.3, random_state=2000)\n",
    "print(f\"x_train={x_train.shape}, x_test={x_test.shape}, Y_train= {Y_train.shape}, Y_test= {Y_test.shape}\")\n",
    "scaler= StandardScaler()\n",
    "x_train= scaler.fit_transform(x_train)\n",
    "x_test= scaler.transform(x_test)"
   ]
  },
  {
   "cell_type": "code",
   "execution_count": 24,
   "metadata": {},
   "outputs": [
    {
     "name": "stdout",
     "output_type": "stream",
     "text": [
      "r2 is  -8.967661422136974\n",
      "mean_absolute_error 29.355031468962512\n",
      "mean_squared_error  1659.9338019869726\n",
      "explained_variance_score -0.06444087675509103\n",
      "Selected p-values:\n",
      "[1.01519932e-04 2.96074422e-04 3.61043914e-05 3.94177532e-04\n",
      " 1.85956925e-04]\n",
      "Number of selected features: 5\n",
      "Selected F-values:\n",
      "[15.26101612 13.21084912 17.25964377 12.66639828 14.09911231]\n",
      "Indices of selected features with top F-values:\n",
      "[2 0 4 1 3]\n",
      "Top selected features:\n",
      "     rs1778332  rs17363282  rs1270640  rs17148508  rs1337321\n",
      "0            2           2          2           2          2\n",
      "1            2           2          2           2          2\n",
      "2            2           2          2           2          2\n",
      "3            2           2          2           2          2\n",
      "4            2           2          2           2          2\n",
      "..         ...         ...        ...         ...        ...\n",
      "799          2           2          2           2          2\n",
      "800          2           1          2           2          2\n",
      "801          2           2          2           2          1\n",
      "802          2           2          2           2          2\n",
      "803          2           2          2           2          2\n",
      "\n",
      "[804 rows x 5 columns]\n"
     ]
    },
    {
     "data": {
      "text/plain": [
       "['rs17363282', 'rs17148508', 'rs1778332', 'rs1337321', 'rs1270640']"
      ]
     },
     "execution_count": 24,
     "metadata": {},
     "output_type": "execute_result"
    }
   ],
   "source": [
    "random.seed(2000)\n",
    "model = linear_model.LinearRegression()\n",
    "model.fit(x_train, Y_train)\n",
    "y_pred = model.predict(x_test)\n",
    "score= r2_score(y_pred, Y_test)\n",
    "print(\"r2 is \", score)\n",
    "h= mean_absolute_error(y_pred,Y_test)\n",
    "print(\"mean_absolute_error\", h)\n",
    "print(\"mean_squared_error \", mean_squared_error(y_pred, Y_test))\n",
    "print(\"explained_variance_score\", explained_variance_score(Y_test, y_pred))\n",
    "\n",
    "f_statistic, p_value = f_regression(M1, Y)\n",
    "selected_p_indices = np.where(p_value < 5e-04)[0]\n",
    "selected_p_values = p_value[selected_p_indices]\n",
    "print(\"Selected p-values:\")\n",
    "print(selected_p_values)\n",
    "print(\"Number of selected features:\", len(selected_p_indices))\n",
    "selected_f_values = f_statistic[selected_p_indices]\n",
    "print(\"Selected F-values:\")\n",
    "print(selected_f_values)\n",
    "top_f_indices = np.argsort(-selected_f_values)\n",
    "print(\"Indices of selected features with top F-values:\")\n",
    "print(top_f_indices)\n",
    "top_f_features = M1.iloc[:, selected_p_indices[top_f_indices]]\n",
    "print(\"Top selected features:\")\n",
    "print(top_f_features)\n",
    "MI_LR_sigSNP=M1.iloc[:, selected_p_indices]\n",
    "MI_LR_sigSNP\n",
    "MI_LR_sig_col= list(MI_LR_sigSNP.columns)\n",
    "MI_LR_sig_col"
   ]
  },
  {
   "cell_type": "markdown",
   "metadata": {},
   "source": [
    "### Random Forest"
   ]
  },
  {
   "cell_type": "code",
   "execution_count": 25,
   "metadata": {},
   "outputs": [
    {
     "name": "stdout",
     "output_type": "stream",
     "text": [
      "r2 is  -106.02197376783775\n",
      "mean_absolute_error 29.068933183934003\n",
      "mean_squared_error  1559.4023373704358\n",
      "explained_variance_score -3.932338212253583e-05\n"
     ]
    }
   ],
   "source": [
    "# Create a Random Forest Regressor\n",
    "rf_regressor = RandomForestRegressor(n_estimators=100, max_depth=9, min_samples_leaf=4, min_samples_split=2, \n",
    "                                     n_jobs=70,random_state=2000)\n",
    "\n",
    "rf_regressor.fit(x_train, Y_train)\n",
    "\n",
    "\n",
    "# Make predictions on the test set using the model with selected features\n",
    "y_pred= rf_regressor.predict(x_test)\n",
    "\n",
    "score= r2_score(y_pred, Y_test)\n",
    "print(\"r2 is \", score)\n",
    "h= mean_absolute_error(y_pred,Y_test)\n",
    "print(\"mean_absolute_error\", h)\n",
    "print(\"mean_squared_error \", mean_squared_error(y_pred, Y_test))\n",
    "print(\"explained_variance_score\", explained_variance_score(Y_test, y_pred))\n"
   ]
  },
  {
   "cell_type": "code",
   "execution_count": null,
   "metadata": {},
   "outputs": [],
   "source": []
  },
  {
   "cell_type": "markdown",
   "metadata": {},
   "source": [
    "### Support Vector Regressor"
   ]
  },
  {
   "cell_type": "code",
   "execution_count": 26,
   "metadata": {},
   "outputs": [
    {
     "name": "stdout",
     "output_type": "stream",
     "text": [
      "r2 is  -5.111672379202908\n",
      "mean_absolute_error 30.620929464937387\n",
      "mean_squared_error  1758.2542849613203\n",
      "explained_variance_score -0.1259701588287958\n"
     ]
    }
   ],
   "source": [
    "svr = SVR(kernel = 'sigmoid' , C=100, epsilon= 0.01, gamma= 'scale')\n",
    "svr.fit(x_train, Y_train)\n",
    "y_pred= svr.predict(x_test)\n",
    "score= r2_score(y_pred, Y_test)\n",
    "print(\"r2 is \", score)\n",
    "h= mean_absolute_error(y_pred,Y_test)\n",
    "print(\"mean_absolute_error\", h)\n",
    "print(\"mean_squared_error \", mean_squared_error(y_pred, Y_test))\n",
    "print(\"explained_variance_score\", explained_variance_score(Y_test, y_pred))\n"
   ]
  },
  {
   "cell_type": "markdown",
   "metadata": {},
   "source": [
    "### XGBoost "
   ]
  },
  {
   "cell_type": "code",
   "execution_count": 27,
   "metadata": {},
   "outputs": [
    {
     "name": "stdout",
     "output_type": "stream",
     "text": [
      "r2 score -12.253183018852267\n",
      "mean_absolute_error 30.78732646595348\n",
      "mean_squared_error  1683.8101853904764\n",
      "explained_variance_score -0.07982777063303526\n"
     ]
    }
   ],
   "source": [
    "regressor=xgb.XGBRegressor(learning_rate= 0.01, n_estimators=900,  max_depth=10, eval_metric='rmsle', random_state=2000)\n",
    "regressor.fit(x_train, Y_train)\n",
    "y_pred= regressor.predict(x_test)\n",
    "score= r2_score(y_pred, Y_test)\n",
    "print(\"r2 score\",score)\n",
    "h= mean_absolute_error(Y_test, y_pred)\n",
    "print(\"mean_absolute_error\", h)\n",
    "print(\"mean_squared_error \", mean_squared_error(Y_test, y_pred))\n",
    "print(\"explained_variance_score\", explained_variance_score(Y_test, y_pred))"
   ]
  },
  {
   "cell_type": "code",
   "execution_count": null,
   "metadata": {},
   "outputs": [],
   "source": []
  },
  {
   "cell_type": "code",
   "execution_count": null,
   "metadata": {},
   "outputs": [],
   "source": []
  },
  {
   "cell_type": "markdown",
   "metadata": {},
   "source": []
  },
  {
   "cell_type": "markdown",
   "metadata": {},
   "source": []
  },
  {
   "cell_type": "code",
   "execution_count": null,
   "metadata": {},
   "outputs": [],
   "source": []
  },
  {
   "cell_type": "code",
   "execution_count": null,
   "metadata": {},
   "outputs": [],
   "source": []
  },
  {
   "cell_type": "code",
   "execution_count": null,
   "metadata": {},
   "outputs": [],
   "source": []
  },
  {
   "cell_type": "code",
   "execution_count": null,
   "metadata": {},
   "outputs": [],
   "source": []
  },
  {
   "cell_type": "markdown",
   "metadata": {},
   "source": []
  },
  {
   "cell_type": "code",
   "execution_count": null,
   "metadata": {},
   "outputs": [],
   "source": []
  },
  {
   "cell_type": "code",
   "execution_count": null,
   "metadata": {},
   "outputs": [],
   "source": []
  },
  {
   "cell_type": "code",
   "execution_count": null,
   "metadata": {},
   "outputs": [],
   "source": []
  },
  {
   "cell_type": "code",
   "execution_count": null,
   "metadata": {},
   "outputs": [],
   "source": []
  },
  {
   "cell_type": "markdown",
   "metadata": {},
   "source": []
  },
  {
   "cell_type": "code",
   "execution_count": null,
   "metadata": {},
   "outputs": [],
   "source": [
    "\n"
   ]
  },
  {
   "cell_type": "code",
   "execution_count": null,
   "metadata": {},
   "outputs": [],
   "source": []
  },
  {
   "cell_type": "code",
   "execution_count": null,
   "metadata": {},
   "outputs": [],
   "source": []
  },
  {
   "cell_type": "code",
   "execution_count": null,
   "metadata": {},
   "outputs": [],
   "source": []
  },
  {
   "cell_type": "code",
   "execution_count": null,
   "metadata": {},
   "outputs": [],
   "source": [
    "\n"
   ]
  },
  {
   "cell_type": "code",
   "execution_count": null,
   "metadata": {},
   "outputs": [],
   "source": [
    "\n"
   ]
  },
  {
   "cell_type": "code",
   "execution_count": null,
   "metadata": {},
   "outputs": [],
   "source": []
  },
  {
   "cell_type": "code",
   "execution_count": null,
   "metadata": {},
   "outputs": [],
   "source": [
    "\n",
    "\n"
   ]
  },
  {
   "cell_type": "code",
   "execution_count": null,
   "metadata": {},
   "outputs": [],
   "source": []
  },
  {
   "cell_type": "code",
   "execution_count": null,
   "metadata": {},
   "outputs": [],
   "source": []
  },
  {
   "cell_type": "code",
   "execution_count": null,
   "metadata": {},
   "outputs": [],
   "source": []
  },
  {
   "cell_type": "code",
   "execution_count": null,
   "metadata": {},
   "outputs": [],
   "source": []
  },
  {
   "cell_type": "code",
   "execution_count": null,
   "metadata": {},
   "outputs": [],
   "source": []
  }
 ],
 "metadata": {
  "kernelspec": {
   "display_name": "Python 3 (ipykernel)",
   "language": "python",
   "name": "python3"
  },
  "language_info": {
   "codemirror_mode": {
    "name": "ipython",
    "version": 3
   },
   "file_extension": ".py",
   "mimetype": "text/x-python",
   "name": "python",
   "nbconvert_exporter": "python",
   "pygments_lexer": "ipython3",
   "version": "3.9.13"
  }
 },
 "nbformat": 4,
 "nbformat_minor": 4
}
