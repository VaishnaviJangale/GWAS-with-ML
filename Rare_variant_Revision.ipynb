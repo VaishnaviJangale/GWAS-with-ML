{
 "cells": [
  {
   "cell_type": "markdown",
   "metadata": {},
   "source": [
    "# <span style=\"color:green\"> Import libraries<span style=\"color:green\">"
   ]
  },
  {
   "cell_type": "code",
   "execution_count": 1,
   "metadata": {},
   "outputs": [],
   "source": [
    "#Import all the required libraries\n",
    "import seaborn as sns\n",
    "import pandas as pd\n",
    "import matplotlib.pyplot as plt\n",
    "import numpy as np\n",
    "import sklearn \n",
    "import random\n",
    "from sklearn import linear_model\n",
    "from sklearn.linear_model import LinearRegression\n",
    "from sklearn.feature_selection import SelectKBest\n",
    "from sklearn.feature_selection import mutual_info_regression\n",
    "from sklearn.linear_model import Lasso, LassoCV, Ridge, RidgeCV\n",
    "from sklearn.model_selection import cross_val_score\n",
    "from sklearn.model_selection import train_test_split\n",
    "from sklearn.preprocessing import StandardScaler\n",
    "from sklearn.feature_selection import SelectFromModel\n",
    "from sklearn.metrics import mean_squared_error\n",
    "from sklearn.metrics import r2_score\n",
    "from sklearn.metrics import mean_absolute_error, mean_squared_error, explained_variance_score\n",
    "from sklearn.feature_selection import f_regression\n",
    "from sklearn.ensemble import RandomForestRegressor\n",
    "from sklearn.svm import SVR\n",
    "import pybiomart\n",
    "from biomart import BiomartServer\n",
    "from sklearn.feature_selection import RFECV\n",
    "import xgboost as xgb"
   ]
  },
  {
   "cell_type": "code",
   "execution_count": null,
   "metadata": {},
   "outputs": [],
   "source": []
  },
  {
   "cell_type": "code",
   "execution_count": null,
   "metadata": {},
   "outputs": [],
   "source": []
  },
  {
   "cell_type": "markdown",
   "metadata": {},
   "source": [
    "# <span style=\"color:green\"> ML for Feature Selection and Association <span style=\"color:green\">"
   ]
  },
  {
   "cell_type": "code",
   "execution_count": 2,
   "metadata": {},
   "outputs": [
    {
     "name": "stdout",
     "output_type": "stream",
     "text": [
      "     FID  IID  PAT  MAT  SEX  PHENOTYPE  rs2436029:269101:C:T_T  \\\n",
      "0  10004    1    0    0    2         75                       2   \n",
      "1  10005    1    0    0    1         69                       2   \n",
      "2  10007    1    0    0    1        108                       2   \n",
      "3  10008    1    0    0    1         94                       2   \n",
      "4  10009    1    0    0    1         92                       2   \n",
      "\n",
      "   rs117942522:320955:C:A_A  rs17158845_T  rs4881331:517451:C:G_G  ...  \\\n",
      "0                         0             2                       2  ...   \n",
      "1                         0             2                       2  ...   \n",
      "2                         0             2                       2  ...   \n",
      "3                         0             2                       2  ...   \n",
      "4                         0             2                       2  ...   \n",
      "\n",
      "   rs4880117_A  rs11137286_T  rs11137126_G  rs9410127_C  rs3125786_T  \\\n",
      "0            2             2             2            2            2   \n",
      "1            2             2             2            2            2   \n",
      "2            2             2             2            2            2   \n",
      "3            2             2             2            2            2   \n",
      "4            2             2             2            2            2   \n",
      "\n",
      "   rs11137198_G  rs7865267_C  rs1378954:141005656:G:A_A  rs9777369_C  \\\n",
      "0             2            2                          2            2   \n",
      "1             2            2                          2            2   \n",
      "2             2            2                          2            2   \n",
      "3             2            2                          2            2   \n",
      "4             2            2                          2            2   \n",
      "\n",
      "   9:141049179:C:T_T  \n",
      "0                  0  \n",
      "1                  0  \n",
      "2                  0  \n",
      "3                  0  \n",
      "4                  0  \n",
      "\n",
      "[5 rows x 38836 columns]\n",
      "Shape of file (804, 38836)\n"
     ]
    }
   ],
   "source": [
    "#Read the file \n",
    "df= pd.read_table(\"/home/Vaishnavi/Imputeted_data/Imputed_maf_0.01/GWAStutorialldlraw.raw\", delim_whitespace= True)\n",
    "print(df.head())\n",
    "print(\"Shape of file\", df.shape)"
   ]
  },
  {
   "cell_type": "code",
   "execution_count": 3,
   "metadata": {},
   "outputs": [
    {
     "data": {
      "text/plain": [
       "Index(['FID', 'IID', 'PAT', 'MAT', 'SEX', 'PHENOTYPE', 'rs2436029:269101:C:T',\n",
       "       'rs117942522:320955:C:A', 'rs17158845', 'rs4881331:517451:C:G',\n",
       "       ...\n",
       "       'rs4880117', 'rs11137286', 'rs11137126', 'rs9410127', 'rs3125786',\n",
       "       'rs11137198', 'rs7865267', 'rs1378954:141005656:G:A', 'rs9777369',\n",
       "       '9:141049179:C:T'],\n",
       "      dtype='object', length=38836)"
      ]
     },
     "execution_count": 3,
     "metadata": {},
     "output_type": "execute_result"
    }
   ],
   "source": [
    "new_col_names= list(df.columns[:6])\n",
    "new_col_names.extend([col_name[:-2] for col_name in df.columns[6:]])\n",
    "df.columns=new_col_names\n",
    "df.columns"
   ]
  },
  {
   "cell_type": "code",
   "execution_count": 4,
   "metadata": {},
   "outputs": [
    {
     "name": "stdout",
     "output_type": "stream",
     "text": [
      "Shape of X (804, 38830)\n",
      "Shape of y (804,)\n"
     ]
    }
   ],
   "source": [
    "#X is Independent feature and y is dependent feature\n",
    "X= df.iloc[:, 6:]\n",
    "print(\"Shape of X\", X.shape)\n",
    "y= df.PHENOTYPE\n",
    "print(\"Shape of y\", y.shape)"
   ]
  },
  {
   "cell_type": "markdown",
   "metadata": {},
   "source": [
    "## R-squared function"
   ]
  },
  {
   "cell_type": "code",
   "execution_count": 5,
   "metadata": {},
   "outputs": [],
   "source": [
    "def r2_score_manual(y_true, y_pred):\n",
    "    # Convert inputs to NumPy arrays\n",
    "    y_true = np.array(y_true)\n",
    "    y_pred = np.array(y_pred)\n",
    "    \n",
    "    # Calculate the mean of the actual values\n",
    "    y_mean = np.mean(y_true)\n",
    "    \n",
    "    # Residual sum of squares\n",
    "    ss_res = np.sum((y_true - y_pred) ** 2)\n",
    "    \n",
    "    # Total sum of squares\n",
    "    ss_tot = np.sum((y_true - y_mean) ** 2)\n",
    "    \n",
    "    # R² score\n",
    "    r2 = 1 - (ss_res / ss_tot)\n",
    "    return r2"
   ]
  },
  {
   "cell_type": "code",
   "execution_count": null,
   "metadata": {},
   "outputs": [],
   "source": []
  },
  {
   "cell_type": "markdown",
   "metadata": {},
   "source": [
    "## <span style=\"color:green\"> LASSO <span style=\"color:green\">"
   ]
  },
  {
   "cell_type": "code",
   "execution_count": 6,
   "metadata": {
    "scrolled": false
   },
   "outputs": [
    {
     "name": "stderr",
     "output_type": "stream",
     "text": [
      "/apps/compiler/anaconda3/lib/python3.9/site-packages/sklearn/linear_model/_coordinate_descent.py:628: ConvergenceWarning: Objective did not converge. You might want to increase the number of iterations, check the scale of the features or consider increasing regularisation. Duality gap: 1.538e+02, tolerance: 8.481e+01\n",
      "  model = cd_fast.enet_coordinate_descent(\n",
      "/apps/compiler/anaconda3/lib/python3.9/site-packages/sklearn/linear_model/_coordinate_descent.py:628: ConvergenceWarning: Objective did not converge. You might want to increase the number of iterations, check the scale of the features or consider increasing regularisation. Duality gap: 1.497e+02, tolerance: 8.188e+01\n",
      "  model = cd_fast.enet_coordinate_descent(\n",
      "/apps/compiler/anaconda3/lib/python3.9/site-packages/sklearn/linear_model/_coordinate_descent.py:628: ConvergenceWarning: Objective did not converge. You might want to increase the number of iterations, check the scale of the features or consider increasing regularisation. Duality gap: 1.400e+02, tolerance: 7.764e+01\n",
      "  model = cd_fast.enet_coordinate_descent(\n",
      "/apps/compiler/anaconda3/lib/python3.9/site-packages/sklearn/linear_model/_coordinate_descent.py:628: ConvergenceWarning: Objective did not converge. You might want to increase the number of iterations, check the scale of the features or consider increasing regularisation. Duality gap: 1.370e+02, tolerance: 7.790e+01\n",
      "  model = cd_fast.enet_coordinate_descent(\n",
      "/apps/compiler/anaconda3/lib/python3.9/site-packages/sklearn/linear_model/_coordinate_descent.py:628: ConvergenceWarning: Objective did not converge. You might want to increase the number of iterations, check the scale of the features or consider increasing regularisation. Duality gap: 1.366e+02, tolerance: 7.667e+01\n",
      "  model = cd_fast.enet_coordinate_descent(\n"
     ]
    },
    {
     "name": "stdout",
     "output_type": "stream",
     "text": [
      "Optimal alpha: 6.5e-05\n",
      "5055 selected SNPs\n",
      "print shape of selected snps by lasso (804, 5055)\n"
     ]
    },
    {
     "name": "stderr",
     "output_type": "stream",
     "text": [
      "/apps/compiler/anaconda3/lib/python3.9/site-packages/sklearn/linear_model/_coordinate_descent.py:628: ConvergenceWarning: Objective did not converge. You might want to increase the number of iterations, check the scale of the features or consider increasing regularisation. Duality gap: 1.909e+02, tolerance: 9.977e+01\n",
      "  model = cd_fast.enet_coordinate_descent(\n"
     ]
    }
   ],
   "source": [
    "# Create and fit the LASSOCV model select 10,000 SNP\n",
    "lasso_cv = linear_model.LassoCV(alphas= [0.000065], cv=5, random_state=2000)\n",
    "\n",
    "# Fit the model to the data\n",
    "lasso_cv.fit(X,y)\n",
    "\n",
    "#Print the optimal alpha value\n",
    "print (\"Optimal alpha:\", lasso_cv.alpha_)\n",
    "\n",
    "# Indices of the SNPs with non-zero coefficients\n",
    "lasso_snps_ldl = np.where(lasso_cv.coef_)[0]\n",
    "\n",
    "# See how many SNPs have a non-zero coefficient\n",
    "print(len(lasso_snps_ldl), \"selected SNPs\")\n",
    "\n",
    "#Final SNPs\n",
    "l1= X.iloc[:,lasso_snps_ldl]\n",
    "print(\"print shape of selected snps by lasso\",l1.shape)\n"
   ]
  },
  {
   "cell_type": "markdown",
   "metadata": {},
   "source": [
    "### Linear regression"
   ]
  },
  {
   "cell_type": "code",
   "execution_count": 7,
   "metadata": {},
   "outputs": [
    {
     "name": "stdout",
     "output_type": "stream",
     "text": [
      "Y.shape (804,)\n",
      "x_train=(562, 5055), x_test=(242, 5055), Y_train= (562,), Y_test= (242,)\n",
      "r2 is  0.21330028770830345\n",
      "r2 is  0.21330028770830345\n",
      "mean_absolute_error 24.622159361950125\n",
      "mean_squared_error  1226.6967750084948\n",
      "explained_variance_score 0.21415028471685826\n"
     ]
    }
   ],
   "source": [
    "Y= df.PHENOTYPE.values\n",
    "print(\"Y.shape\",Y.shape)\n",
    "x_train, x_test, Y_train, Y_test= train_test_split(l1, Y, test_size=0.3, random_state=2000)\n",
    "print(f\"x_train={x_train.shape}, x_test={x_test.shape}, Y_train= {Y_train.shape}, Y_test= {Y_test.shape}\")\n",
    "scaler= StandardScaler()\n",
    "x_train= scaler.fit_transform(x_train)\n",
    "x_test= scaler.transform(x_test)\n",
    "\n",
    "random.seed(2000)\n",
    "model = linear_model.LinearRegression()\n",
    "model.fit(x_train, Y_train)\n",
    "y_pred = model.predict(x_test)\n",
    "score= r2_score(Y_test, y_pred)\n",
    "print(\"r2 is \", score)\n",
    "r2_man = r2_score_manual(Y_test, y_pred)\n",
    "print(\"r2 is \",r2_man)\n",
    "h= mean_absolute_error(Y_test, y_pred)\n",
    "print(\"mean_absolute_error\", h)\n",
    "print(\"mean_squared_error \", mean_squared_error(Y_test, y_pred))\n",
    "print(\"explained_variance_score\", explained_variance_score(Y_test, y_pred))\n",
    "\n",
    "#f_statistic, p_value = f_regression(l1, Y)\n",
    "#selected_p_indices = np.where(p_value < 5e-04)[0]\n",
    "#selected_p_values = p_value[selected_p_indices]\n",
    "#print(\"Selected p-values:\")\n",
    "#print(selected_p_values)\n",
    "#print(\"Number of selected features:\", len(selected_p_indices))\n",
    "#selected_f_values = f_statistic[selected_p_indices]\n",
    "#print(\"Selected F-values:\")\n",
    "#print(selected_f_values)\n",
    "#top_f_indices = np.argsort(-selected_f_values)\n",
    "#print(\"Indices of selected features with top F-values:\")\n",
    "#print(top_f_indices)\n",
    "#top_f_features = l1.iloc[:, selected_p_indices[top_f_indices]]\n",
    "#print(\"Top selected features:\")\n",
    "#print(top_f_features)\n",
    "#lasso_LR_sigSNP=l1.iloc[:, selected_p_indices]\n",
    "#lasso_LR_sigSNP\n",
    "#lasso_LR_sig_col= list(lasso_LR_sigSNP.columns)\n",
    "#lasso_LR_sig_col"
   ]
  },
  {
   "cell_type": "markdown",
   "metadata": {},
   "source": [
    "### Random Forest"
   ]
  },
  {
   "cell_type": "code",
   "execution_count": 8,
   "metadata": {},
   "outputs": [
    {
     "name": "stdout",
     "output_type": "stream",
     "text": [
      "r2 is  0.02023897605534941\n",
      "r2 is  0.02023897605534941\n",
      "mean_absolute_error 28.38908758137469\n",
      "mean_squared_error  1527.7362754472294\n",
      "explained_variance_score 0.02061580031097543\n"
     ]
    }
   ],
   "source": [
    "# Create a Random Forest Regressor\n",
    "# Create a Random Forest Regressor\n",
    "rf_regressor = RandomForestRegressor(n_estimators=100, max_depth=9, min_samples_leaf=4, min_samples_split=2, \n",
    "                                     n_jobs=70,random_state=2000)\n",
    "\n",
    "rf_regressor.fit(x_train, Y_train)\n",
    "\n",
    "\n",
    "# Make predictions on the test set using the model with selected features\n",
    "y_pred= rf_regressor.predict(x_test)\n",
    "\n",
    "score= r2_score(Y_test, y_pred)\n",
    "print(\"r2 is \", score)\n",
    "r2_man = r2_score_manual(Y_test, y_pred)\n",
    "print(\"r2 is \",r2_man)\n",
    "h= mean_absolute_error(Y_test, y_pred)\n",
    "print(\"mean_absolute_error\", h)\n",
    "print(\"mean_squared_error \", mean_squared_error(Y_test, y_pred))\n",
    "print(\"explained_variance_score\", explained_variance_score(Y_test, y_pred))"
   ]
  },
  {
   "cell_type": "code",
   "execution_count": null,
   "metadata": {},
   "outputs": [],
   "source": []
  },
  {
   "cell_type": "markdown",
   "metadata": {},
   "source": [
    "### Support Vector Machine"
   ]
  },
  {
   "cell_type": "code",
   "execution_count": 9,
   "metadata": {},
   "outputs": [
    {
     "name": "stdout",
     "output_type": "stream",
     "text": [
      "r2 is  0.24803414719518657\n",
      "r2 is  0.24803414719518657\n",
      "mean_absolute_error 24.248212205770606\n",
      "mean_squared_error  1172.5364483292863\n",
      "explained_variance_score 0.2517321677242027\n"
     ]
    }
   ],
   "source": [
    "from sklearn.inspection import permutation_importance\n",
    "\n",
    "svr = SVR(kernel = 'sigmoid' , C=100, epsilon= 0.01, gamma= 'scale', cache_size=800)\n",
    "svr.fit(x_train, Y_train)\n",
    "y_pred= svr.predict(x_test)\n",
    "score= r2_score(Y_test, y_pred)\n",
    "print(\"r2 is \", score)\n",
    "r2_man = r2_score_manual(Y_test, y_pred)\n",
    "print(\"r2 is \",r2_man)\n",
    "h= mean_absolute_error(Y_test, y_pred)\n",
    "print(\"mean_absolute_error\", h)\n",
    "print(\"mean_squared_error \", mean_squared_error(Y_test, y_pred))\n",
    "print(\"explained_variance_score\", explained_variance_score(Y_test, y_pred))\n"
   ]
  },
  {
   "cell_type": "markdown",
   "metadata": {},
   "source": [
    "### XGBoost"
   ]
  },
  {
   "cell_type": "code",
   "execution_count": 10,
   "metadata": {},
   "outputs": [
    {
     "name": "stdout",
     "output_type": "stream",
     "text": [
      "r2 score -0.0071639919736514734\n",
      "r2 is  -0.0071639919736514734\n",
      "mean_absolute_error 28.69527681208839\n",
      "mean_squared_error  1570.4655811551386\n",
      "explained_variance_score -0.007063029289272826\n"
     ]
    }
   ],
   "source": [
    "regressor=xgb.XGBRegressor(learning_rate= 0.01, n_estimators=900,  max_depth=10, eval_metric='rmsle', random_state=2000)\n",
    "regressor.fit(x_train, Y_train)\n",
    "y_pred= regressor.predict(x_test)\n",
    "score= r2_score(Y_test, y_pred)\n",
    "print(\"r2 score\",score)\n",
    "r2_man = r2_score_manual(Y_test, y_pred)\n",
    "print(\"r2 is \",r2_man)\n",
    "h= mean_absolute_error(Y_test, y_pred)\n",
    "print(\"mean_absolute_error\", h)\n",
    "print(\"mean_squared_error \", mean_squared_error(Y_test, y_pred))\n",
    "print(\"explained_variance_score\", explained_variance_score(Y_test, y_pred))"
   ]
  },
  {
   "cell_type": "markdown",
   "metadata": {},
   "source": [
    "## <span style=\"color:green\"> Ridge<span style=\"color:green\">"
   ]
  },
  {
   "cell_type": "code",
   "execution_count": 11,
   "metadata": {},
   "outputs": [
    {
     "name": "stdout",
     "output_type": "stream",
     "text": [
      "Optimal alpha: 0.005\n",
      "Selected SNPs indices based on top coefficients: [24344 11183 24683 ... 30323 11320 14165]\n",
      "5000 selected SNPs\n",
      "Maximum value of coefficient 0.43818829476400195\n",
      "print shape of selected snps by Ridge (804, 5000)\n"
     ]
    }
   ],
   "source": [
    "# Create and fit the RidgeCV model select 5000 SNP\n",
    "ridge_cv = linear_model.RidgeCV(alphas=[0.005], cv=5, scoring='neg_mean_squared_error')\n",
    "ridge_cv.fit(X, y)\n",
    "\n",
    "# Optimal alpha value\n",
    "print(\"Optimal alpha:\", ridge_cv.alpha_)\n",
    "\n",
    "# Indices of the SNPs with non-zero coefficients\n",
    "ridge_snps_ldl = np.where(ridge_cv.coef_)[0]\n",
    "\n",
    "# Select coefficients with non-zero values\n",
    "selected_features = ridge_cv.coef_ != 0\n",
    "\n",
    "# Select coefficients of selected SNPs\n",
    "coefficients = ridge_cv.coef_[selected_features]\n",
    "\n",
    "# Get the indices of the top 5000 SNPs based on descending coefficients\n",
    "top_n = 5000\n",
    "sorted_indices = np.argsort(-coefficients)\n",
    "selected_indices = sorted_indices[:top_n]\n",
    "\n",
    "# Print the indices of selected SNPs and the number of selected SNPs\n",
    "print(\"Selected SNPs indices based on top coefficients:\", selected_indices)\n",
    "print(len(selected_indices), \"selected SNPs\")\n",
    "\n",
    "#Maximum Coefficient\n",
    "print(\"Maximum value of coefficient\", coefficients.max())\n",
    "\n",
    "#Final SNPs\n",
    "R1= X.iloc[:,selected_indices]\n",
    "print(\"print shape of selected snps by Ridge\",R1.shape)\n"
   ]
  },
  {
   "cell_type": "code",
   "execution_count": null,
   "metadata": {},
   "outputs": [],
   "source": []
  },
  {
   "cell_type": "code",
   "execution_count": null,
   "metadata": {},
   "outputs": [],
   "source": [
    "\n"
   ]
  },
  {
   "cell_type": "markdown",
   "metadata": {},
   "source": [
    "### Linear Regression"
   ]
  },
  {
   "cell_type": "code",
   "execution_count": 12,
   "metadata": {},
   "outputs": [
    {
     "name": "stdout",
     "output_type": "stream",
     "text": [
      "Y.shape (804,)\n",
      "x_train=(562, 5000), x_test=(242, 5000), Y_train= (562,), Y_test= (242,)\n"
     ]
    }
   ],
   "source": [
    "Y= df.PHENOTYPE.values\n",
    "print(\"Y.shape\",Y.shape)\n",
    "x_train, x_test, Y_train, Y_test= train_test_split(R1, Y, test_size=0.3, random_state=2000)\n",
    "print(f\"x_train={x_train.shape}, x_test={x_test.shape}, Y_train= {Y_train.shape}, Y_test= {Y_test.shape}\")\n",
    "scaler= StandardScaler()\n",
    "x_train= scaler.fit_transform(x_train)\n",
    "x_test= scaler.transform(x_test)"
   ]
  },
  {
   "cell_type": "code",
   "execution_count": 13,
   "metadata": {},
   "outputs": [
    {
     "name": "stdout",
     "output_type": "stream",
     "text": [
      "r2 is  0.7267563043767364\n",
      "r2 is  0.7267563043767364\n",
      "mean_absolute_error 14.901300123141873\n",
      "mean_squared_error  426.0674752708918\n",
      "explained_variance_score 0.7267570487324846\n"
     ]
    }
   ],
   "source": [
    "random.seed(2000)\n",
    "model = linear_model.LinearRegression()\n",
    "model.fit(x_train, Y_train)\n",
    "y_pred = model.predict(x_test)\n",
    "score= r2_score(Y_test, y_pred)\n",
    "print(\"r2 is \", score)\n",
    "r2_man = r2_score_manual(Y_test, y_pred)\n",
    "print(\"r2 is \",r2_man)\n",
    "h= mean_absolute_error(Y_test, y_pred)\n",
    "print(\"mean_absolute_error\", h)\n",
    "print(\"mean_squared_error \", mean_squared_error(Y_test, y_pred))\n",
    "print(\"explained_variance_score\", explained_variance_score(Y_test, y_pred))\n",
    "\n",
    "#f_statistic, p_value = f_regression(R1, Y)\n",
    "#selected_p_indices = np.where(p_value < 5e-04)[0]\n",
    "#selected_p_values = p_value[selected_p_indices]\n",
    "#print(\"Selected p-values:\")\n",
    "#print(selected_p_values)\n",
    "#print(\"Number of selected features:\", len(selected_p_indices))\n",
    "#selected_f_values = f_statistic[selected_p_indices]\n",
    "#print(\"Selected F-values:\")\n",
    "#print(selected_f_values)\n",
    "#top_f_indices = np.argsort(-selected_f_values)\n",
    "#print(\"Indices of selected features with top F-values:\")\n",
    "#print(top_f_indices)\n",
    "#top_f_features = R1.iloc[:, selected_p_indices[top_f_indices]]\n",
    "#print(\"Top selected features:\")\n",
    "#print(top_f_features)\n",
    "#Ridge_LR_sigSNP=R1.iloc[:, selected_p_indices]\n",
    "#Ridge_LR_sigSNP\n",
    "#Ridge_LR_sig_col= list(Ridge_LR_sigSNP.columns)\n",
    "#Ridge_LR_sig_col"
   ]
  },
  {
   "cell_type": "markdown",
   "metadata": {},
   "source": [
    "### Random Forest"
   ]
  },
  {
   "cell_type": "code",
   "execution_count": 14,
   "metadata": {},
   "outputs": [
    {
     "name": "stdout",
     "output_type": "stream",
     "text": [
      "r2 is  0.005483246850291668\n",
      "r2 is  0.005483246850291668\n",
      "mean_absolute_error 29.072424524803633\n",
      "mean_squared_error  1550.744807350736\n",
      "explained_variance_score 0.009253280654187068\n"
     ]
    }
   ],
   "source": [
    "# Create a Random Forest Regressor\n",
    "# Create a Random Forest Regressor\n",
    "rf_regressor = RandomForestRegressor(n_estimators=100, max_depth=9, min_samples_leaf=4, min_samples_split=2, \n",
    "                                     n_jobs=70,random_state=2000)\n",
    "\n",
    "rf_regressor.fit(x_train, Y_train)\n",
    "\n",
    "\n",
    "# Make predictions on the test set using the model with selected features\n",
    "y_pred= rf_regressor.predict(x_test)\n",
    "\n",
    "score= r2_score(Y_test, y_pred)\n",
    "print(\"r2 is \", score)\n",
    "r2_man = r2_score_manual(Y_test, y_pred)\n",
    "print(\"r2 is \",r2_man)\n",
    "h= mean_absolute_error(Y_test, y_pred)\n",
    "print(\"mean_absolute_error\", h)\n",
    "print(\"mean_squared_error \", mean_squared_error(Y_test, y_pred))\n",
    "print(\"explained_variance_score\", explained_variance_score(Y_test, y_pred))"
   ]
  },
  {
   "cell_type": "markdown",
   "metadata": {},
   "source": [
    "### Support Vector Machine"
   ]
  },
  {
   "cell_type": "code",
   "execution_count": 15,
   "metadata": {},
   "outputs": [
    {
     "name": "stdout",
     "output_type": "stream",
     "text": [
      "r2 is  0.7581709976637709\n",
      "r2 is  0.7581709976637709\n",
      "mean_absolute_error 13.916722121066252\n",
      "mean_squared_error  377.0827072063047\n",
      "explained_variance_score 0.7613266921803723\n"
     ]
    }
   ],
   "source": [
    "from sklearn.inspection import permutation_importance\n",
    "\n",
    "svr = SVR(kernel = 'sigmoid' , C=100, epsilon= 0.01, gamma= 'scale', cache_size=800)\n",
    "svr.fit(x_train, Y_train)\n",
    "y_pred= svr.predict(x_test)\n",
    "score= r2_score(Y_test, y_pred)\n",
    "print(\"r2 is \", score)\n",
    "r2_man = r2_score_manual(Y_test, y_pred)\n",
    "print(\"r2 is \",r2_man)\n",
    "h= mean_absolute_error(Y_test, y_pred)\n",
    "print(\"mean_absolute_error\", h)\n",
    "print(\"mean_squared_error \", mean_squared_error(Y_test, y_pred))\n",
    "print(\"explained_variance_score\", explained_variance_score(Y_test, y_pred))\n"
   ]
  },
  {
   "cell_type": "markdown",
   "metadata": {},
   "source": [
    "### XGBoost"
   ]
  },
  {
   "cell_type": "code",
   "execution_count": 16,
   "metadata": {},
   "outputs": [
    {
     "name": "stdout",
     "output_type": "stream",
     "text": [
      "r2 score -0.09379164806354656\n",
      "r2 is  -0.09379164806354656\n",
      "mean_absolute_error 30.172190737133185\n",
      "mean_squared_error  1705.5436353245773\n",
      "explained_variance_score -0.09289767366345614\n"
     ]
    }
   ],
   "source": [
    "regressor=xgb.XGBRegressor(learning_rate= 0.01, n_estimators=900,  max_depth=10, eval_metric='rmsle', random_state=2000)\n",
    "regressor.fit(x_train, Y_train)\n",
    "y_pred= regressor.predict(x_test)\n",
    "score= r2_score(Y_test, y_pred)\n",
    "print(\"r2 score\",score)\n",
    "r2_man = r2_score_manual(Y_test, y_pred)\n",
    "print(\"r2 is \",r2_man)\n",
    "h= mean_absolute_error(Y_test, y_pred)\n",
    "print(\"mean_absolute_error\", h)\n",
    "print(\"mean_squared_error \", mean_squared_error(Y_test, y_pred))\n",
    "print(\"explained_variance_score\", explained_variance_score(Y_test, y_pred))"
   ]
  },
  {
   "cell_type": "markdown",
   "metadata": {},
   "source": [
    "## <span style=\"color:green\"> Elastic net<span style=\"color:green\">"
   ]
  },
  {
   "cell_type": "code",
   "execution_count": 17,
   "metadata": {},
   "outputs": [
    {
     "name": "stdout",
     "output_type": "stream",
     "text": [
      "Optimal alpha: 0.136\n",
      "Optimal l1_ratio:  0.5\n",
      "5000 selected SNPs\n",
      "print shape of selected snps by Elastic net (804, 5000)\n"
     ]
    }
   ],
   "source": [
    "# Create and fit the Elasticnet model\n",
    "elastic_cv = linear_model.ElasticNetCV(l1_ratio=[0.5],alphas=[0.136], cv=5, random_state= 2000)\n",
    "elastic_cv.fit(X, y)\n",
    "\n",
    "# Print the optimal alpha value\n",
    "print (\"Optimal alpha:\", elastic_cv.alpha_)\n",
    "print(\"Optimal l1_ratio: \", elastic_cv.l1_ratio_)\n",
    "\n",
    "# Indices of the SNPs with non-zero coefficients\n",
    "elastic_snps_ldl = np.where(elastic_cv.coef_)[0]\n",
    "\n",
    "# See how many SNPs have a non-zero coefficient\n",
    "print(len(elastic_snps_ldl), \"selected SNPs\")\n",
    "\n",
    "#Final SNPs\n",
    "E1= X.iloc[:,elastic_snps_ldl]\n",
    "print(\"print shape of selected snps by Elastic net\",E1.shape)"
   ]
  },
  {
   "cell_type": "code",
   "execution_count": null,
   "metadata": {},
   "outputs": [],
   "source": []
  },
  {
   "cell_type": "code",
   "execution_count": null,
   "metadata": {},
   "outputs": [],
   "source": []
  },
  {
   "cell_type": "markdown",
   "metadata": {},
   "source": [
    "### Linear Regression"
   ]
  },
  {
   "cell_type": "code",
   "execution_count": 18,
   "metadata": {},
   "outputs": [
    {
     "name": "stdout",
     "output_type": "stream",
     "text": [
      "Y.shape (804,)\n",
      "x_train=(562, 5000), x_test=(242, 5000), Y_train= (562,), Y_test= (242,)\n"
     ]
    }
   ],
   "source": [
    "Y= df.PHENOTYPE.values\n",
    "print(\"Y.shape\",Y.shape)\n",
    "x_train, x_test, Y_train, Y_test= train_test_split(E1, Y, test_size=0.3, random_state=2000)\n",
    "print(f\"x_train={x_train.shape}, x_test={x_test.shape}, Y_train= {Y_train.shape}, Y_test= {Y_test.shape}\")\n",
    "scaler= StandardScaler()\n",
    "x_train= scaler.fit_transform(x_train)\n",
    "x_test= scaler.transform(x_test)"
   ]
  },
  {
   "cell_type": "code",
   "execution_count": 19,
   "metadata": {},
   "outputs": [
    {
     "name": "stdout",
     "output_type": "stream",
     "text": [
      "r2 is  0.8355327633794449\n",
      "r2 is  0.8355327633794449\n",
      "mean_absolute_error 10.754641248473234\n",
      "mean_squared_error  256.45290776741444\n",
      "explained_variance_score 0.8355334697053634\n"
     ]
    }
   ],
   "source": [
    "random.seed(2000)\n",
    "model = linear_model.LinearRegression()\n",
    "model.fit(x_train, Y_train)\n",
    "y_pred = model.predict(x_test)\n",
    "score= r2_score(Y_test, y_pred)\n",
    "print(\"r2 is \", score)\n",
    "r2_man = r2_score_manual(Y_test, y_pred)\n",
    "print(\"r2 is \",r2_man)\n",
    "h= mean_absolute_error(Y_test, y_pred)\n",
    "print(\"mean_absolute_error\", h)\n",
    "print(\"mean_squared_error \", mean_squared_error(Y_test, y_pred))\n",
    "print(\"explained_variance_score\", explained_variance_score(Y_test, y_pred))\n",
    "\n",
    "#f_statistic, p_value = f_regression(E1, Y)\n",
    "#selected_p_indices = np.where(p_value < 5e-04)[0]\n",
    "#selected_p_values = p_value[selected_p_indices]\n",
    "#print(\"Selected p-values:\")\n",
    "#print(selected_p_values)\n",
    "#print(\"Number of selected features:\", len(selected_p_indices))\n",
    "#selected_f_values = f_statistic[selected_p_indices]\n",
    "#print(\"Selected F-values:\")\n",
    "#print(selected_f_values)\n",
    "#top_f_indices = np.argsort(-selected_f_values)\n",
    "#print(\"Indices of selected features with top F-values:\")\n",
    "#print(top_f_indices)\n",
    "#top_f_features = E1.iloc[:, selected_p_indices[top_f_indices]]\n",
    "#print(\"Top selected features:\")\n",
    "#print(top_f_features)\n",
    "#Elasticnet_LR_sigSNP=E1.iloc[:, selected_p_indices]\n",
    "#Elasticnet_LR_sigSNP\n",
    "#Elasticnet_LR_sig_col= list(Elasticnet_LR_sigSNP.columns)\n",
    "#Elasticnet_LR_sig_col"
   ]
  },
  {
   "cell_type": "markdown",
   "metadata": {},
   "source": [
    "### Random Forest"
   ]
  },
  {
   "cell_type": "code",
   "execution_count": 20,
   "metadata": {},
   "outputs": [
    {
     "name": "stdout",
     "output_type": "stream",
     "text": [
      "r2 is  0.06194979196028527\n",
      "r2 is  0.06194979196028527\n",
      "mean_absolute_error 28.26400428155401\n",
      "mean_squared_error  1462.6968168658768\n",
      "explained_variance_score 0.06239113068281987\n"
     ]
    }
   ],
   "source": [
    "# Create a Random Forest Regressor\n",
    "# Create a Random Forest Regressor\n",
    "rf_regressor = RandomForestRegressor(n_estimators=100, max_depth=9, min_samples_leaf=4, min_samples_split=2, \n",
    "                                     n_jobs=70,random_state=2000)\n",
    "\n",
    "rf_regressor.fit(x_train, Y_train)\n",
    "\n",
    "\n",
    "# Make predictions on the test set using the model with selected features\n",
    "y_pred= rf_regressor.predict(x_test)\n",
    "\n",
    "score= r2_score(Y_test, y_pred)\n",
    "print(\"r2 is \", score)\n",
    "r2_man = r2_score_manual(Y_test, y_pred)\n",
    "print(\"r2 is \",r2_man)\n",
    "h= mean_absolute_error(Y_test, y_pred)\n",
    "print(\"mean_absolute_error\", h)\n",
    "print(\"mean_squared_error \", mean_squared_error(Y_test, y_pred))\n",
    "print(\"explained_variance_score\", explained_variance_score(Y_test, y_pred))"
   ]
  },
  {
   "cell_type": "code",
   "execution_count": null,
   "metadata": {},
   "outputs": [],
   "source": []
  },
  {
   "cell_type": "markdown",
   "metadata": {},
   "source": [
    "### Support Vector Regression"
   ]
  },
  {
   "cell_type": "code",
   "execution_count": 21,
   "metadata": {},
   "outputs": [
    {
     "name": "stdout",
     "output_type": "stream",
     "text": [
      "r2 is  0.8897982986786398\n",
      "r2 is  0.8897982986786398\n",
      "mean_absolute_error 8.658024483347209\n",
      "mean_squared_error  171.8369404477901\n",
      "explained_variance_score 0.8897983479276816\n"
     ]
    }
   ],
   "source": [
    "from sklearn.inspection import permutation_importance\n",
    "\n",
    "svr = SVR(kernel = 'sigmoid' , C=100, epsilon= 0.01, gamma= 'scale', cache_size=800)\n",
    "svr.fit(x_train, Y_train)\n",
    "y_pred= svr.predict(x_test)\n",
    "score= r2_score(Y_test, y_pred)\n",
    "print(\"r2 is \", score)\n",
    "r2_man = r2_score_manual(Y_test, y_pred)\n",
    "print(\"r2 is \",r2_man)\n",
    "h= mean_absolute_error(Y_test, y_pred)\n",
    "print(\"mean_absolute_error\", h)\n",
    "print(\"mean_squared_error \", mean_squared_error(Y_test, y_pred))\n",
    "print(\"explained_variance_score\", explained_variance_score(Y_test, y_pred))\n"
   ]
  },
  {
   "cell_type": "markdown",
   "metadata": {},
   "source": [
    "### XGBoost for Elastic-net"
   ]
  },
  {
   "cell_type": "code",
   "execution_count": 22,
   "metadata": {},
   "outputs": [
    {
     "name": "stdout",
     "output_type": "stream",
     "text": [
      "r2 score 0.05744118343521365\n",
      "r2 is  0.05744118343521365\n",
      "mean_absolute_error 28.056912634983536\n",
      "mean_squared_error  1469.7270667198777\n",
      "explained_variance_score 0.05781458120083338\n"
     ]
    }
   ],
   "source": [
    "regressor=xgb.XGBRegressor(learning_rate= 0.01, n_estimators=900,  max_depth=10, eval_metric='rmsle', random_state=2000)\n",
    "regressor.fit(x_train, Y_train)\n",
    "y_pred= regressor.predict(x_test)\n",
    "score= r2_score(Y_test, y_pred)\n",
    "print(\"r2 score\",score)\n",
    "r2_man = r2_score_manual(Y_test, y_pred)\n",
    "print(\"r2 is \",r2_man)\n",
    "h= mean_absolute_error(Y_test, y_pred)\n",
    "print(\"mean_absolute_error\", h)\n",
    "print(\"mean_squared_error \", mean_squared_error(Y_test, y_pred))\n",
    "print(\"explained_variance_score\", explained_variance_score(Y_test, y_pred))"
   ]
  },
  {
   "cell_type": "code",
   "execution_count": null,
   "metadata": {},
   "outputs": [],
   "source": []
  },
  {
   "cell_type": "code",
   "execution_count": null,
   "metadata": {},
   "outputs": [],
   "source": []
  },
  {
   "cell_type": "code",
   "execution_count": null,
   "metadata": {},
   "outputs": [],
   "source": []
  },
  {
   "cell_type": "code",
   "execution_count": null,
   "metadata": {},
   "outputs": [],
   "source": []
  },
  {
   "cell_type": "code",
   "execution_count": null,
   "metadata": {},
   "outputs": [],
   "source": []
  },
  {
   "cell_type": "code",
   "execution_count": null,
   "metadata": {},
   "outputs": [],
   "source": []
  },
  {
   "cell_type": "code",
   "execution_count": null,
   "metadata": {},
   "outputs": [],
   "source": []
  },
  {
   "cell_type": "code",
   "execution_count": null,
   "metadata": {},
   "outputs": [],
   "source": []
  },
  {
   "cell_type": "markdown",
   "metadata": {},
   "source": [
    "## <span style=\"color:green\"> Mutual information <span style=\"color:green\">"
   ]
  },
  {
   "cell_type": "code",
   "execution_count": 23,
   "metadata": {},
   "outputs": [
    {
     "name": "stdout",
     "output_type": "stream",
     "text": [
      "Length of mutal info 38830\n",
      "Maximum value of mutualinfo <bound method NDFrame._add_numeric_operations.<locals>.max of rs9881090                  9.749381e-02\n",
      "rs12649176                 9.574809e-02\n",
      "rs16824778                 9.354285e-02\n",
      "rs17681524                 9.232919e-02\n",
      "rs1472491                  9.055629e-02\n",
      "                               ...     \n",
      "rs17029090                 2.040916e-06\n",
      "rs56002751:39625366:A:C    8.888933e-07\n",
      "rs12555893                 5.370780e-07\n",
      "rs966078                   5.363469e-07\n",
      "rs7523161                  2.856900e-07\n",
      "Length: 19050, dtype: float64>\n",
      "Length of mutal info non zero 19050\n",
      "print shape of selected snps by Mutual_info (804, 5000)\n"
     ]
    }
   ],
   "source": [
    "# Create and fit the Mutual_info model\n",
    "mutual_info= mutual_info_regression(X, y, random_state=2000)\n",
    "print(\"Length of mutal info\", len(mutual_info))\n",
    "mutual_info= pd.Series(mutual_info, index=df.columns[6:])\n",
    "\n",
    "#Sort mutual_info values descending order\n",
    "vdesc= mutual_info.sort_values(ascending=False)\n",
    "vdesc_nonzero= vdesc[vdesc!=0]\n",
    "print(\"Maximum value of mutualinfo\", vdesc_nonzero.max)\n",
    "print(\"Length of mutal info non zero\", len(vdesc_nonzero))\n",
    "k= np.where(vdesc_nonzero)\n",
    "first_col= k[0]\n",
    "\n",
    "#Selected 5000 SNPs\n",
    "top5000 = 5000\n",
    "mi_pos= first_col[:top5000]\n",
    "\n",
    "#Final SNPs\n",
    "M1= X.iloc[:,mi_pos]\n",
    "print(\"print shape of selected snps by Mutual_info\",M1.shape)"
   ]
  },
  {
   "cell_type": "code",
   "execution_count": null,
   "metadata": {},
   "outputs": [],
   "source": []
  },
  {
   "cell_type": "markdown",
   "metadata": {},
   "source": [
    "### Linear Regression"
   ]
  },
  {
   "cell_type": "code",
   "execution_count": 24,
   "metadata": {},
   "outputs": [
    {
     "name": "stdout",
     "output_type": "stream",
     "text": [
      "Y.shape (804,)\n",
      "x_train=(562, 5000), x_test=(242, 5000), Y_train= (562,), Y_test= (242,)\n"
     ]
    }
   ],
   "source": [
    "Y= df.PHENOTYPE.values\n",
    "print(\"Y.shape\",Y.shape)\n",
    "x_train, x_test, Y_train, Y_test= train_test_split(M1, Y, test_size=0.3, random_state=2000)\n",
    "print(f\"x_train={x_train.shape}, x_test={x_test.shape}, Y_train= {Y_train.shape}, Y_test= {Y_test.shape}\")\n",
    "scaler= StandardScaler()\n",
    "x_train= scaler.fit_transform(x_train)\n",
    "x_test= scaler.transform(x_test)"
   ]
  },
  {
   "cell_type": "code",
   "execution_count": 25,
   "metadata": {},
   "outputs": [
    {
     "name": "stdout",
     "output_type": "stream",
     "text": [
      "r2 is  -0.06454135288435103\n",
      "r2 is  -0.06454135288435103\n",
      "mean_absolute_error 29.355031468962512\n",
      "mean_squared_error  1659.9338019869726\n",
      "explained_variance_score -0.06444087675509103\n"
     ]
    }
   ],
   "source": [
    "random.seed(2000)\n",
    "model = linear_model.LinearRegression()\n",
    "model.fit(x_train, Y_train)\n",
    "y_pred = model.predict(x_test)\n",
    "score= r2_score(Y_test, y_pred)\n",
    "print(\"r2 is \", score)\n",
    "r2_man = r2_score_manual(Y_test, y_pred)\n",
    "print(\"r2 is \",r2_man)\n",
    "h= mean_absolute_error(Y_test, y_pred)\n",
    "print(\"mean_absolute_error\", h)\n",
    "print(\"mean_squared_error \", mean_squared_error(Y_test, y_pred))\n",
    "print(\"explained_variance_score\", explained_variance_score(Y_test, y_pred))\n",
    "\n",
    "#f_statistic, p_value = f_regression(M1, Y)\n",
    "#selected_p_indices = np.where(p_value < 5e-04)[0]\n",
    "#selected_p_values = p_value[selected_p_indices]\n",
    "#print(\"Selected p-values:\")\n",
    "#print(selected_p_values)\n",
    "#print(\"Number of selected features:\", len(selected_p_indices))\n",
    "#selected_f_values = f_statistic[selected_p_indices]\n",
    "#print(\"Selected F-values:\")\n",
    "#print(selected_f_values)\n",
    "#top_f_indices = np.argsort(-selected_f_values)\n",
    "#print(\"Indices of selected features with top F-values:\")\n",
    "#print(top_f_indices)\n",
    "#top_f_features = M1.iloc[:, selected_p_indices[top_f_indices]]\n",
    "#print(\"Top selected features:\")\n",
    "#print(top_f_features)\n",
    "#MI_LR_sigSNP=M1.iloc[:, selected_p_indices]\n",
    "#MI_LR_sigSNP\n",
    "#MI_LR_sig_col= list(MI_LR_sigSNP.columns)\n",
    "#MI_LR_sig_col"
   ]
  },
  {
   "cell_type": "markdown",
   "metadata": {},
   "source": [
    "### Random Forest"
   ]
  },
  {
   "cell_type": "code",
   "execution_count": 28,
   "metadata": {},
   "outputs": [
    {
     "name": "stdout",
     "output_type": "stream",
     "text": [
      "r2 is  -6.896174307291503e-05\n",
      "r2 is  -6.896174307291503e-05\n",
      "mean_absolute_error 29.06893318393401\n",
      "mean_squared_error  1559.402337370436\n",
      "explained_variance_score -3.932338212231379e-05\n"
     ]
    }
   ],
   "source": [
    "# Create a Random Forest Regressor\n",
    "# Create a Random Forest Regressor\n",
    "rf_regressor = RandomForestRegressor(n_estimators=100, max_depth=9, min_samples_leaf=4, min_samples_split=2, \n",
    "                                     n_jobs=70,random_state=2000)\n",
    "\n",
    "rf_regressor.fit(x_train, Y_train)\n",
    "\n",
    "\n",
    "# Make predictions on the test set using the model with selected features\n",
    "y_pred= rf_regressor.predict(x_test)\n",
    "\n",
    "score= r2_score(Y_test, y_pred)\n",
    "print(\"r2 is \", score)\n",
    "r2_man = r2_score_manual(Y_test, y_pred)\n",
    "print(\"r2 is \",r2_man)\n",
    "h= mean_absolute_error(Y_test, y_pred)\n",
    "print(\"mean_absolute_error\", h)\n",
    "print(\"mean_squared_error \", mean_squared_error(Y_test, y_pred))\n",
    "print(\"explained_variance_score\", explained_variance_score(Y_test, y_pred))"
   ]
  },
  {
   "cell_type": "code",
   "execution_count": null,
   "metadata": {},
   "outputs": [],
   "source": []
  },
  {
   "cell_type": "markdown",
   "metadata": {},
   "source": [
    "### Support Vector Regressor"
   ]
  },
  {
   "cell_type": "code",
   "execution_count": 26,
   "metadata": {},
   "outputs": [
    {
     "name": "stdout",
     "output_type": "stream",
     "text": [
      "r2 is  -0.12759580712612117\n",
      "r2 is  -0.12759580712612117\n",
      "mean_absolute_error 30.620929464937387\n",
      "mean_squared_error  1758.2542849613203\n",
      "explained_variance_score -0.1259701588287958\n"
     ]
    }
   ],
   "source": [
    "svr = SVR(kernel = 'sigmoid' , C=100, epsilon= 0.01, gamma= 'scale')\n",
    "svr.fit(x_train, Y_train)\n",
    "y_pred= svr.predict(x_test)\n",
    "\n",
    "score= r2_score(Y_test, y_pred)\n",
    "print(\"r2 is \", score)\n",
    "r2_man = r2_score_manual(Y_test, y_pred)\n",
    "print(\"r2 is \",r2_man)\n",
    "h= mean_absolute_error(Y_test, y_pred)\n",
    "print(\"mean_absolute_error\", h)\n",
    "print(\"mean_squared_error \", mean_squared_error(Y_test, y_pred))\n",
    "print(\"explained_variance_score\", explained_variance_score(Y_test, y_pred))\n"
   ]
  },
  {
   "cell_type": "markdown",
   "metadata": {},
   "source": [
    "### XGBoost "
   ]
  },
  {
   "cell_type": "code",
   "execution_count": 27,
   "metadata": {},
   "outputs": [
    {
     "name": "stdout",
     "output_type": "stream",
     "text": [
      "r2 score -0.07985364874815382\n",
      "r2 is  -0.07985364874815382\n",
      "mean_absolute_error 30.78732646595348\n",
      "mean_squared_error  1683.8101853904764\n",
      "explained_variance_score -0.07982777063303526\n"
     ]
    }
   ],
   "source": [
    "regressor=xgb.XGBRegressor(learning_rate= 0.01, n_estimators=900,  max_depth=10, eval_metric='rmsle', random_state=2000)\n",
    "regressor.fit(x_train, Y_train)\n",
    "y_pred= regressor.predict(x_test)\n",
    "score= r2_score(Y_test, y_pred)\n",
    "print(\"r2 score\",score)\n",
    "r2_man = r2_score_manual(Y_test, y_pred)\n",
    "print(\"r2 is \",r2_man)\n",
    "h= mean_absolute_error(Y_test, y_pred)\n",
    "print(\"mean_absolute_error\", h)\n",
    "print(\"mean_squared_error \", mean_squared_error(Y_test, y_pred))\n",
    "print(\"explained_variance_score\", explained_variance_score(Y_test, y_pred))\n"
   ]
  },
  {
   "cell_type": "code",
   "execution_count": null,
   "metadata": {},
   "outputs": [],
   "source": []
  },
  {
   "cell_type": "code",
   "execution_count": null,
   "metadata": {},
   "outputs": [],
   "source": []
  },
  {
   "cell_type": "markdown",
   "metadata": {},
   "source": []
  },
  {
   "cell_type": "markdown",
   "metadata": {},
   "source": []
  },
  {
   "cell_type": "code",
   "execution_count": null,
   "metadata": {},
   "outputs": [],
   "source": []
  },
  {
   "cell_type": "code",
   "execution_count": null,
   "metadata": {},
   "outputs": [],
   "source": []
  },
  {
   "cell_type": "code",
   "execution_count": null,
   "metadata": {},
   "outputs": [],
   "source": []
  },
  {
   "cell_type": "code",
   "execution_count": null,
   "metadata": {},
   "outputs": [],
   "source": []
  },
  {
   "cell_type": "markdown",
   "metadata": {},
   "source": []
  },
  {
   "cell_type": "code",
   "execution_count": null,
   "metadata": {},
   "outputs": [],
   "source": []
  },
  {
   "cell_type": "code",
   "execution_count": null,
   "metadata": {},
   "outputs": [],
   "source": []
  },
  {
   "cell_type": "code",
   "execution_count": null,
   "metadata": {},
   "outputs": [],
   "source": []
  },
  {
   "cell_type": "code",
   "execution_count": null,
   "metadata": {},
   "outputs": [],
   "source": []
  },
  {
   "cell_type": "markdown",
   "metadata": {},
   "source": []
  },
  {
   "cell_type": "code",
   "execution_count": null,
   "metadata": {},
   "outputs": [],
   "source": [
    "\n"
   ]
  },
  {
   "cell_type": "code",
   "execution_count": null,
   "metadata": {},
   "outputs": [],
   "source": []
  },
  {
   "cell_type": "code",
   "execution_count": null,
   "metadata": {},
   "outputs": [],
   "source": []
  },
  {
   "cell_type": "code",
   "execution_count": null,
   "metadata": {},
   "outputs": [],
   "source": []
  },
  {
   "cell_type": "code",
   "execution_count": null,
   "metadata": {},
   "outputs": [],
   "source": [
    "\n"
   ]
  },
  {
   "cell_type": "code",
   "execution_count": null,
   "metadata": {},
   "outputs": [],
   "source": [
    "\n"
   ]
  },
  {
   "cell_type": "code",
   "execution_count": null,
   "metadata": {},
   "outputs": [],
   "source": []
  },
  {
   "cell_type": "code",
   "execution_count": null,
   "metadata": {},
   "outputs": [],
   "source": [
    "\n",
    "\n"
   ]
  },
  {
   "cell_type": "code",
   "execution_count": null,
   "metadata": {},
   "outputs": [],
   "source": []
  },
  {
   "cell_type": "code",
   "execution_count": null,
   "metadata": {},
   "outputs": [],
   "source": []
  },
  {
   "cell_type": "code",
   "execution_count": null,
   "metadata": {},
   "outputs": [],
   "source": []
  },
  {
   "cell_type": "code",
   "execution_count": null,
   "metadata": {},
   "outputs": [],
   "source": []
  },
  {
   "cell_type": "code",
   "execution_count": null,
   "metadata": {},
   "outputs": [],
   "source": []
  }
 ],
 "metadata": {
  "kernelspec": {
   "display_name": "Python 3 (ipykernel)",
   "language": "python",
   "name": "python3"
  },
  "language_info": {
   "codemirror_mode": {
    "name": "ipython",
    "version": 3
   },
   "file_extension": ".py",
   "mimetype": "text/x-python",
   "name": "python",
   "nbconvert_exporter": "python",
   "pygments_lexer": "ipython3",
   "version": "3.9.13"
  }
 },
 "nbformat": 4,
 "nbformat_minor": 4
}
