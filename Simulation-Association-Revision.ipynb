{
 "cells": [
  {
   "cell_type": "markdown",
   "metadata": {},
   "source": [
    "# <span style=\"color:green\"> Import libraries<span style=\"color:green\">"
   ]
  },
  {
   "cell_type": "code",
   "execution_count": 2,
   "metadata": {},
   "outputs": [
    {
     "name": "stderr",
     "output_type": "stream",
     "text": [
      "2025-01-06 10:01:32.804108: E external/local_xla/xla/stream_executor/cuda/cuda_dnn.cc:9261] Unable to register cuDNN factory: Attempting to register factory for plugin cuDNN when one has already been registered\n",
      "2025-01-06 10:01:32.804221: E external/local_xla/xla/stream_executor/cuda/cuda_fft.cc:607] Unable to register cuFFT factory: Attempting to register factory for plugin cuFFT when one has already been registered\n",
      "2025-01-06 10:01:32.910307: E external/local_xla/xla/stream_executor/cuda/cuda_blas.cc:1515] Unable to register cuBLAS factory: Attempting to register factory for plugin cuBLAS when one has already been registered\n",
      "2025-01-06 10:01:33.175267: I tensorflow/core/platform/cpu_feature_guard.cc:182] This TensorFlow binary is optimized to use available CPU instructions in performance-critical operations.\n",
      "To enable the following instructions: AVX2 FMA, in other operations, rebuild TensorFlow with the appropriate compiler flags.\n",
      "2025-01-06 10:01:35.012645: W tensorflow/compiler/tf2tensorrt/utils/py_utils.cc:38] TF-TRT Warning: Could not find TensorRT\n"
     ]
    }
   ],
   "source": [
    "#Import all the required libraries\n",
    "import seaborn as sns\n",
    "import pandas as pd\n",
    "import matplotlib.pyplot as plt\n",
    "import numpy as np\n",
    "import sklearn \n",
    "import random\n",
    "from sklearn import linear_model\n",
    "from sklearn.linear_model import LinearRegression\n",
    "from sklearn.feature_selection import SelectKBest\n",
    "from sklearn.feature_selection import mutual_info_regression\n",
    "from sklearn.linear_model import Lasso, LassoCV, Ridge, RidgeCV\n",
    "from sklearn.model_selection import cross_val_score\n",
    "from sklearn.model_selection import train_test_split\n",
    "from sklearn.preprocessing import StandardScaler\n",
    "from sklearn.feature_selection import SelectFromModel\n",
    "from sklearn.metrics import mean_squared_error\n",
    "from sklearn.metrics import r2_score\n",
    "import tensorflow as tf\n",
    "from tensorflow import keras\n",
    "from keras import layers\n",
    "from tensorflow.keras.layers import Input, Dense, LeakyReLU, ReLU\n",
    "from sklearn.preprocessing import MinMaxScaler\n",
    "from tensorflow.keras.models import Model\n",
    "from sklearn.metrics import mean_absolute_error, mean_squared_error, explained_variance_score\n",
    "from sklearn.feature_selection import f_regression\n",
    "from sklearn.ensemble import RandomForestRegressor\n",
    "from sklearn.svm import SVR\n",
    "import pybiomart\n",
    "from biomart import BiomartServer\n",
    "from sklearn.feature_selection import RFECV\n",
    "import xgboost as xgb\n",
    "from sklearn.inspection import permutation_importance\n",
    "import os"
   ]
  },
  {
   "cell_type": "code",
   "execution_count": null,
   "metadata": {},
   "outputs": [],
   "source": []
  },
  {
   "cell_type": "markdown",
   "metadata": {},
   "source": [
    "# Define function for feature selection and association test"
   ]
  },
  {
   "cell_type": "code",
   "execution_count": 47,
   "metadata": {},
   "outputs": [],
   "source": [
    "def process_file(file_path):\n",
    "    # Load the data\n",
    "    df = pd.read_table(file_path, delim_whitespace=True)\n",
    "    print(\"Shape of file\", df.shape)\n",
    "    \n",
    "    #X is Independent feature and y is dependent feature\n",
    "    X= df.iloc[:, 6:]\n",
    "    print(\"Shape of X\", X.shape)\n",
    "    y= df.PHENOTYPE\n",
    "    print(\"Shape of y\", y.shape)\n",
    "    \n",
    "    # Create and fit the Elasticnet model\n",
    "    elastic_cv = linear_model.ElasticNetCV(l1_ratio=[0.5],alphas=[0.0033], cv=5, random_state= 2000)\n",
    "    elastic_cv.fit(X, y)\n",
    "\n",
    "    # Print the optimal alpha value\n",
    "    print (\"Optimal alpha:\", elastic_cv.alpha_)\n",
    "    print(\"Optimal l1_ratio: \", elastic_cv.l1_ratio_)\n",
    "\n",
    "    # Indices of the SNPs with non-zero coefficients\n",
    "    elastic_snps_ldl_arrange = np.flip(np.argsort(elastic_cv.coef_))[:5000]\n",
    "    elastic_snps_ldl = np.where(elastic_cv.coef_)[0]\n",
    "\n",
    "    # See how many SNPs have a non-zero coefficient\n",
    "    print(len(elastic_snps_ldl), \"selected SNPs\")\n",
    "\n",
    "    #Final SNPs\n",
    "    E1_re= X.iloc[:,elastic_snps_ldl[:][:5000]]\n",
    "    \n",
    "    # Construct the output path\n",
    "    output_dir = os.path.dirname(file_path)\n",
    "    output_file = os.path.join(output_dir, \"Elasticnet_SVR_5000\")\n",
    "\n",
    "    # Save the intermediate CSV in the same folder as the .raw file\n",
    "    E1_re.to_csv(output_file, index=False)\n",
    "    print(f\"Results saved to: {output_file}\")\n",
    "    print(\"print shape of selected snps by Elastic net\", E1_re.shape)\n",
    "    \n",
    "    Y= df.PHENOTYPE.values\n",
    "    print(\"Y.shape\",Y.shape)\n",
    "    # Split Data\n",
    "    x_train, x_test, Y_train, Y_test= train_test_split(E1_re, Y, test_size=0.3, random_state=2000)\n",
    "    print(f\"x_train={x_train.shape}, x_test={x_test.shape}, Y_train= {Y_train.shape}, Y_test= {Y_test.shape}\")\n",
    "    # Scale data\n",
    "    scaler= StandardScaler()\n",
    "    x_train= scaler.fit_transform(x_train)\n",
    "    x_test= scaler.transform(x_test)\n",
    "    \n",
    "    \n",
    "    # Association test using SVR\n",
    "    svr = SVR(kernel = 'sigmoid' , C=100, epsilon= 0.01, gamma= 'scale', cache_size=800)\n",
    "    svr.fit(x_train, Y_train)\n",
    "    y_pred = svr.predict(x_test)\n",
    "    r2_man = r2_score_manual(Y_test, y_pred)\n",
    "    print(\"r2 is \",r2_man)\n",
    "    mae = mean_absolute_error(Y_test, y_pred)\n",
    "    variance = explained_variance_score(Y_test, y_pred)\n",
    "    print(\"mean_absolute_error\", mae)\n",
    "    print(\"mean_squared_error \", mean_squared_error(Y_test, y_pred))\n",
    "    print(\"explained_variance_score\", variance)\n",
    "    \n",
    "    return r2_man,mae,variance\n",
    "    "
   ]
  },
  {
   "cell_type": "markdown",
   "metadata": {},
   "source": [
    "## <span style=\"color:green\"> r2_score_manual <span style=\"color:green\"> "
   ]
  },
  {
   "cell_type": "code",
   "execution_count": 48,
   "metadata": {},
   "outputs": [],
   "source": [
    "def r2_score_manual(y_true, y_pred):\n",
    "    # Convert inputs to NumPy arrays\n",
    "    y_true = np.array(y_true)\n",
    "    y_pred = np.array(y_pred)\n",
    "    \n",
    "    # Calculate the mean of the actual values\n",
    "    y_mean = np.mean(y_true)\n",
    "    \n",
    "    # Residual sum of squares\n",
    "    ss_res = np.sum((y_true - y_pred) ** 2)\n",
    "    \n",
    "    # Total sum of squares\n",
    "    ss_tot = np.sum((y_true - y_mean) ** 2)\n",
    "    \n",
    "    # R² score\n",
    "    r2 = 1 - (ss_res / ss_tot)\n",
    "    return r2"
   ]
  },
  {
   "cell_type": "code",
   "execution_count": 49,
   "metadata": {},
   "outputs": [
    {
     "name": "stdout",
     "output_type": "stream",
     "text": [
      "Processing file: /home/Vaishnavi/Simulation_rep_G2P/rep_1/GWAStutorialldlraw_1.raw\n",
      "Shape of file (1124, 184515)\n",
      "Shape of X (1124, 184509)\n",
      "Shape of y (1124,)\n"
     ]
    },
    {
     "name": "stderr",
     "output_type": "stream",
     "text": [
      "/apps/compiler/anaconda3/lib/python3.9/site-packages/sklearn/linear_model/_coordinate_descent.py:628: ConvergenceWarning: Objective did not converge. You might want to increase the number of iterations, check the scale of the features or consider increasing regularisation. Duality gap: 1.109e+03, tolerance: 1.809e+02\n",
      "  model = cd_fast.enet_coordinate_descent(\n",
      "/apps/compiler/anaconda3/lib/python3.9/site-packages/sklearn/linear_model/_coordinate_descent.py:628: ConvergenceWarning: Objective did not converge. You might want to increase the number of iterations, check the scale of the features or consider increasing regularisation. Duality gap: 1.111e+03, tolerance: 1.872e+02\n",
      "  model = cd_fast.enet_coordinate_descent(\n",
      "/apps/compiler/anaconda3/lib/python3.9/site-packages/sklearn/linear_model/_coordinate_descent.py:628: ConvergenceWarning: Objective did not converge. You might want to increase the number of iterations, check the scale of the features or consider increasing regularisation. Duality gap: 1.064e+03, tolerance: 1.797e+02\n",
      "  model = cd_fast.enet_coordinate_descent(\n",
      "/apps/compiler/anaconda3/lib/python3.9/site-packages/sklearn/linear_model/_coordinate_descent.py:628: ConvergenceWarning: Objective did not converge. You might want to increase the number of iterations, check the scale of the features or consider increasing regularisation. Duality gap: 6.969e+02, tolerance: 1.225e+02\n",
      "  model = cd_fast.enet_coordinate_descent(\n",
      "/apps/compiler/anaconda3/lib/python3.9/site-packages/sklearn/linear_model/_coordinate_descent.py:628: ConvergenceWarning: Objective did not converge. You might want to increase the number of iterations, check the scale of the features or consider increasing regularisation. Duality gap: 1.080e+03, tolerance: 1.798e+02\n",
      "  model = cd_fast.enet_coordinate_descent(\n",
      "/apps/compiler/anaconda3/lib/python3.9/site-packages/sklearn/linear_model/_coordinate_descent.py:628: ConvergenceWarning: Objective did not converge. You might want to increase the number of iterations, check the scale of the features or consider increasing regularisation. Duality gap: 1.288e+03, tolerance: 2.130e+02\n",
      "  model = cd_fast.enet_coordinate_descent(\n"
     ]
    },
    {
     "name": "stdout",
     "output_type": "stream",
     "text": [
      "Optimal alpha: 0.0033\n",
      "Optimal l1_ratio:  0.5\n",
      "6644 selected SNPs\n",
      "Results saved to: /home/Vaishnavi/Simulation_rep_G2P/rep_1/Elasticnet_SVR_5000\n",
      "print shape of selected snps by Elastic net (1124, 5000)\n",
      "Y.shape (1124,)\n",
      "x_train=(786, 5000), x_test=(338, 5000), Y_train= (786,), Y_test= (338,)\n",
      "r2 is  0.895129444359299\n",
      "mean_absolute_error 12.210119342053224\n",
      "mean_squared_error  226.45916189674676\n",
      "explained_variance_score 0.8952438470572425\n",
      "Processing file: /home/Vaishnavi/Simulation_rep_G2P/rep_2/GWAStutorialldlraw_2.raw\n",
      "Shape of file (1124, 184515)\n",
      "Shape of X (1124, 184509)\n",
      "Shape of y (1124,)\n"
     ]
    },
    {
     "name": "stderr",
     "output_type": "stream",
     "text": [
      "/apps/compiler/anaconda3/lib/python3.9/site-packages/sklearn/linear_model/_coordinate_descent.py:628: ConvergenceWarning: Objective did not converge. You might want to increase the number of iterations, check the scale of the features or consider increasing regularisation. Duality gap: 9.744e+02, tolerance: 1.539e+02\n",
      "  model = cd_fast.enet_coordinate_descent(\n",
      "/apps/compiler/anaconda3/lib/python3.9/site-packages/sklearn/linear_model/_coordinate_descent.py:628: ConvergenceWarning: Objective did not converge. You might want to increase the number of iterations, check the scale of the features or consider increasing regularisation. Duality gap: 8.881e+02, tolerance: 1.535e+02\n",
      "  model = cd_fast.enet_coordinate_descent(\n",
      "/apps/compiler/anaconda3/lib/python3.9/site-packages/sklearn/linear_model/_coordinate_descent.py:628: ConvergenceWarning: Objective did not converge. You might want to increase the number of iterations, check the scale of the features or consider increasing regularisation. Duality gap: 9.121e+02, tolerance: 1.519e+02\n",
      "  model = cd_fast.enet_coordinate_descent(\n",
      "/apps/compiler/anaconda3/lib/python3.9/site-packages/sklearn/linear_model/_coordinate_descent.py:628: ConvergenceWarning: Objective did not converge. You might want to increase the number of iterations, check the scale of the features or consider increasing regularisation. Duality gap: 5.679e+02, tolerance: 9.887e+01\n",
      "  model = cd_fast.enet_coordinate_descent(\n",
      "/apps/compiler/anaconda3/lib/python3.9/site-packages/sklearn/linear_model/_coordinate_descent.py:628: ConvergenceWarning: Objective did not converge. You might want to increase the number of iterations, check the scale of the features or consider increasing regularisation. Duality gap: 9.479e+02, tolerance: 1.499e+02\n",
      "  model = cd_fast.enet_coordinate_descent(\n",
      "/apps/compiler/anaconda3/lib/python3.9/site-packages/sklearn/linear_model/_coordinate_descent.py:628: ConvergenceWarning: Objective did not converge. You might want to increase the number of iterations, check the scale of the features or consider increasing regularisation. Duality gap: 1.113e+03, tolerance: 1.776e+02\n",
      "  model = cd_fast.enet_coordinate_descent(\n"
     ]
    },
    {
     "name": "stdout",
     "output_type": "stream",
     "text": [
      "Optimal alpha: 0.0033\n",
      "Optimal l1_ratio:  0.5\n",
      "6178 selected SNPs\n",
      "Results saved to: /home/Vaishnavi/Simulation_rep_G2P/rep_2/Elasticnet_SVR_5000\n",
      "print shape of selected snps by Elastic net (1124, 5000)\n",
      "Y.shape (1124,)\n",
      "x_train=(786, 5000), x_test=(338, 5000), Y_train= (786,), Y_test= (338,)\n",
      "r2 is  0.9169203621089936\n",
      "mean_absolute_error 9.520777356910045\n",
      "mean_squared_error  142.34422718878258\n",
      "explained_variance_score 0.9171540892478006\n",
      "Processing file: /home/Vaishnavi/Simulation_rep_G2P/rep_3/GWAStutorialldlraw_3.raw\n",
      "Shape of file (1124, 184515)\n",
      "Shape of X (1124, 184509)\n",
      "Shape of y (1124,)\n"
     ]
    },
    {
     "name": "stderr",
     "output_type": "stream",
     "text": [
      "/apps/compiler/anaconda3/lib/python3.9/site-packages/sklearn/linear_model/_coordinate_descent.py:628: ConvergenceWarning: Objective did not converge. You might want to increase the number of iterations, check the scale of the features or consider increasing regularisation. Duality gap: 1.272e+03, tolerance: 2.078e+02\n",
      "  model = cd_fast.enet_coordinate_descent(\n",
      "/apps/compiler/anaconda3/lib/python3.9/site-packages/sklearn/linear_model/_coordinate_descent.py:628: ConvergenceWarning: Objective did not converge. You might want to increase the number of iterations, check the scale of the features or consider increasing regularisation. Duality gap: 1.307e+03, tolerance: 2.088e+02\n",
      "  model = cd_fast.enet_coordinate_descent(\n",
      "/apps/compiler/anaconda3/lib/python3.9/site-packages/sklearn/linear_model/_coordinate_descent.py:628: ConvergenceWarning: Objective did not converge. You might want to increase the number of iterations, check the scale of the features or consider increasing regularisation. Duality gap: 1.291e+03, tolerance: 2.132e+02\n",
      "  model = cd_fast.enet_coordinate_descent(\n",
      "/apps/compiler/anaconda3/lib/python3.9/site-packages/sklearn/linear_model/_coordinate_descent.py:628: ConvergenceWarning: Objective did not converge. You might want to increase the number of iterations, check the scale of the features or consider increasing regularisation. Duality gap: 8.341e+02, tolerance: 1.407e+02\n",
      "  model = cd_fast.enet_coordinate_descent(\n",
      "/apps/compiler/anaconda3/lib/python3.9/site-packages/sklearn/linear_model/_coordinate_descent.py:628: ConvergenceWarning: Objective did not converge. You might want to increase the number of iterations, check the scale of the features or consider increasing regularisation. Duality gap: 1.372e+03, tolerance: 2.062e+02\n",
      "  model = cd_fast.enet_coordinate_descent(\n",
      "/apps/compiler/anaconda3/lib/python3.9/site-packages/sklearn/linear_model/_coordinate_descent.py:628: ConvergenceWarning: Objective did not converge. You might want to increase the number of iterations, check the scale of the features or consider increasing regularisation. Duality gap: 1.465e+03, tolerance: 2.449e+02\n",
      "  model = cd_fast.enet_coordinate_descent(\n"
     ]
    },
    {
     "name": "stdout",
     "output_type": "stream",
     "text": [
      "Optimal alpha: 0.0033\n",
      "Optimal l1_ratio:  0.5\n",
      "6990 selected SNPs\n",
      "Results saved to: /home/Vaishnavi/Simulation_rep_G2P/rep_3/Elasticnet_SVR_5000\n",
      "print shape of selected snps by Elastic net (1124, 5000)\n",
      "Y.shape (1124,)\n",
      "x_train=(786, 5000), x_test=(338, 5000), Y_train= (786,), Y_test= (338,)\n",
      "r2 is  0.8883029942881665\n",
      "mean_absolute_error 13.36671750567825\n",
      "mean_squared_error  274.9183827236978\n",
      "explained_variance_score 0.88842790337581\n",
      "Processing file: /home/Vaishnavi/Simulation_rep_G2P/rep_4/GWAStutorialldlraw_4.raw\n",
      "Shape of file (1124, 184515)\n",
      "Shape of X (1124, 184509)\n",
      "Shape of y (1124,)\n"
     ]
    },
    {
     "name": "stderr",
     "output_type": "stream",
     "text": [
      "/apps/compiler/anaconda3/lib/python3.9/site-packages/sklearn/linear_model/_coordinate_descent.py:628: ConvergenceWarning: Objective did not converge. You might want to increase the number of iterations, check the scale of the features or consider increasing regularisation. Duality gap: 8.337e+02, tolerance: 1.374e+02\n",
      "  model = cd_fast.enet_coordinate_descent(\n",
      "/apps/compiler/anaconda3/lib/python3.9/site-packages/sklearn/linear_model/_coordinate_descent.py:628: ConvergenceWarning: Objective did not converge. You might want to increase the number of iterations, check the scale of the features or consider increasing regularisation. Duality gap: 8.353e+02, tolerance: 1.364e+02\n",
      "  model = cd_fast.enet_coordinate_descent(\n",
      "/apps/compiler/anaconda3/lib/python3.9/site-packages/sklearn/linear_model/_coordinate_descent.py:628: ConvergenceWarning: Objective did not converge. You might want to increase the number of iterations, check the scale of the features or consider increasing regularisation. Duality gap: 8.448e+02, tolerance: 1.360e+02\n",
      "  model = cd_fast.enet_coordinate_descent(\n",
      "/apps/compiler/anaconda3/lib/python3.9/site-packages/sklearn/linear_model/_coordinate_descent.py:628: ConvergenceWarning: Objective did not converge. You might want to increase the number of iterations, check the scale of the features or consider increasing regularisation. Duality gap: 7.741e+02, tolerance: 9.930e+01\n",
      "  model = cd_fast.enet_coordinate_descent(\n",
      "/apps/compiler/anaconda3/lib/python3.9/site-packages/sklearn/linear_model/_coordinate_descent.py:628: ConvergenceWarning: Objective did not converge. You might want to increase the number of iterations, check the scale of the features or consider increasing regularisation. Duality gap: 7.795e+02, tolerance: 1.324e+02\n",
      "  model = cd_fast.enet_coordinate_descent(\n",
      "/apps/compiler/anaconda3/lib/python3.9/site-packages/sklearn/linear_model/_coordinate_descent.py:628: ConvergenceWarning: Objective did not converge. You might want to increase the number of iterations, check the scale of the features or consider increasing regularisation. Duality gap: 9.916e+02, tolerance: 1.607e+02\n",
      "  model = cd_fast.enet_coordinate_descent(\n"
     ]
    },
    {
     "name": "stdout",
     "output_type": "stream",
     "text": [
      "Optimal alpha: 0.0033\n",
      "Optimal l1_ratio:  0.5\n",
      "5919 selected SNPs\n",
      "Results saved to: /home/Vaishnavi/Simulation_rep_G2P/rep_4/Elasticnet_SVR_5000\n",
      "print shape of selected snps by Elastic net (1124, 5000)\n",
      "Y.shape (1124,)\n",
      "x_train=(786, 5000), x_test=(338, 5000), Y_train= (786,), Y_test= (338,)\n",
      "r2 is  0.9190964460055472\n",
      "mean_absolute_error 9.045061074219712\n",
      "mean_squared_error  120.94277571578006\n",
      "explained_variance_score 0.9192762784830782\n",
      "Processing file: /home/Vaishnavi/Simulation_rep_G2P/rep_5/GWAStutorialldlraw_5.raw\n",
      "Shape of file (1124, 184515)\n",
      "Shape of X (1124, 184509)\n",
      "Shape of y (1124,)\n"
     ]
    },
    {
     "name": "stderr",
     "output_type": "stream",
     "text": [
      "/apps/compiler/anaconda3/lib/python3.9/site-packages/sklearn/linear_model/_coordinate_descent.py:628: ConvergenceWarning: Objective did not converge. You might want to increase the number of iterations, check the scale of the features or consider increasing regularisation. Duality gap: 1.232e+03, tolerance: 1.982e+02\n",
      "  model = cd_fast.enet_coordinate_descent(\n",
      "/apps/compiler/anaconda3/lib/python3.9/site-packages/sklearn/linear_model/_coordinate_descent.py:628: ConvergenceWarning: Objective did not converge. You might want to increase the number of iterations, check the scale of the features or consider increasing regularisation. Duality gap: 1.160e+03, tolerance: 1.937e+02\n",
      "  model = cd_fast.enet_coordinate_descent(\n",
      "/apps/compiler/anaconda3/lib/python3.9/site-packages/sklearn/linear_model/_coordinate_descent.py:628: ConvergenceWarning: Objective did not converge. You might want to increase the number of iterations, check the scale of the features or consider increasing regularisation. Duality gap: 1.151e+03, tolerance: 1.955e+02\n",
      "  model = cd_fast.enet_coordinate_descent(\n",
      "/apps/compiler/anaconda3/lib/python3.9/site-packages/sklearn/linear_model/_coordinate_descent.py:628: ConvergenceWarning: Objective did not converge. You might want to increase the number of iterations, check the scale of the features or consider increasing regularisation. Duality gap: 7.366e+02, tolerance: 1.270e+02\n",
      "  model = cd_fast.enet_coordinate_descent(\n",
      "/apps/compiler/anaconda3/lib/python3.9/site-packages/sklearn/linear_model/_coordinate_descent.py:628: ConvergenceWarning: Objective did not converge. You might want to increase the number of iterations, check the scale of the features or consider increasing regularisation. Duality gap: 1.173e+03, tolerance: 1.939e+02\n",
      "  model = cd_fast.enet_coordinate_descent(\n",
      "/apps/compiler/anaconda3/lib/python3.9/site-packages/sklearn/linear_model/_coordinate_descent.py:628: ConvergenceWarning: Objective did not converge. You might want to increase the number of iterations, check the scale of the features or consider increasing regularisation. Duality gap: 1.342e+03, tolerance: 2.278e+02\n",
      "  model = cd_fast.enet_coordinate_descent(\n"
     ]
    },
    {
     "name": "stdout",
     "output_type": "stream",
     "text": [
      "Optimal alpha: 0.0033\n",
      "Optimal l1_ratio:  0.5\n",
      "6817 selected SNPs\n",
      "Results saved to: /home/Vaishnavi/Simulation_rep_G2P/rep_5/Elasticnet_SVR_5000\n",
      "print shape of selected snps by Elastic net (1124, 5000)\n",
      "Y.shape (1124,)\n",
      "x_train=(786, 5000), x_test=(338, 5000), Y_train= (786,), Y_test= (338,)\n",
      "r2 is  0.8747658230766738\n",
      "mean_absolute_error 13.079018126044643\n",
      "mean_squared_error  259.5018213534675\n",
      "explained_variance_score 0.8759241782753961\n",
      "Processing file: /home/Vaishnavi/Simulation_rep_G2P/rep_6/GWAStutorialldlraw_6.raw\n",
      "Shape of file (1124, 184515)\n",
      "Shape of X (1124, 184509)\n",
      "Shape of y (1124,)\n"
     ]
    },
    {
     "name": "stderr",
     "output_type": "stream",
     "text": [
      "/apps/compiler/anaconda3/lib/python3.9/site-packages/sklearn/linear_model/_coordinate_descent.py:628: ConvergenceWarning: Objective did not converge. You might want to increase the number of iterations, check the scale of the features or consider increasing regularisation. Duality gap: 1.965e+03, tolerance: 3.131e+02\n",
      "  model = cd_fast.enet_coordinate_descent(\n",
      "/apps/compiler/anaconda3/lib/python3.9/site-packages/sklearn/linear_model/_coordinate_descent.py:628: ConvergenceWarning: Objective did not converge. You might want to increase the number of iterations, check the scale of the features or consider increasing regularisation. Duality gap: 1.940e+03, tolerance: 3.169e+02\n",
      "  model = cd_fast.enet_coordinate_descent(\n",
      "/apps/compiler/anaconda3/lib/python3.9/site-packages/sklearn/linear_model/_coordinate_descent.py:628: ConvergenceWarning: Objective did not converge. You might want to increase the number of iterations, check the scale of the features or consider increasing regularisation. Duality gap: 1.921e+03, tolerance: 3.074e+02\n",
      "  model = cd_fast.enet_coordinate_descent(\n",
      "/apps/compiler/anaconda3/lib/python3.9/site-packages/sklearn/linear_model/_coordinate_descent.py:628: ConvergenceWarning: Objective did not converge. You might want to increase the number of iterations, check the scale of the features or consider increasing regularisation. Duality gap: 1.068e+03, tolerance: 1.841e+02\n",
      "  model = cd_fast.enet_coordinate_descent(\n",
      "/apps/compiler/anaconda3/lib/python3.9/site-packages/sklearn/linear_model/_coordinate_descent.py:628: ConvergenceWarning: Objective did not converge. You might want to increase the number of iterations, check the scale of the features or consider increasing regularisation. Duality gap: 1.940e+03, tolerance: 3.117e+02\n",
      "  model = cd_fast.enet_coordinate_descent(\n",
      "/apps/compiler/anaconda3/lib/python3.9/site-packages/sklearn/linear_model/_coordinate_descent.py:628: ConvergenceWarning: Objective did not converge. You might want to increase the number of iterations, check the scale of the features or consider increasing regularisation. Duality gap: 2.123e+03, tolerance: 3.597e+02\n",
      "  model = cd_fast.enet_coordinate_descent(\n"
     ]
    },
    {
     "name": "stdout",
     "output_type": "stream",
     "text": [
      "Optimal alpha: 0.0033\n",
      "Optimal l1_ratio:  0.5\n",
      "7851 selected SNPs\n",
      "Results saved to: /home/Vaishnavi/Simulation_rep_G2P/rep_6/Elasticnet_SVR_5000\n",
      "print shape of selected snps by Elastic net (1124, 5000)\n",
      "Y.shape (1124,)\n",
      "x_train=(786, 5000), x_test=(338, 5000), Y_train= (786,), Y_test= (338,)\n",
      "r2 is  0.8380645024012637\n",
      "mean_absolute_error 19.382892199844555\n",
      "mean_squared_error  610.7301621323463\n",
      "explained_variance_score 0.8383289358541774\n",
      "Processing file: /home/Vaishnavi/Simulation_rep_G2P/rep_7/GWAStutorialldlraw_7.raw\n",
      "Shape of file (1124, 184515)\n",
      "Shape of X (1124, 184509)\n",
      "Shape of y (1124,)\n"
     ]
    },
    {
     "name": "stderr",
     "output_type": "stream",
     "text": [
      "/apps/compiler/anaconda3/lib/python3.9/site-packages/sklearn/linear_model/_coordinate_descent.py:628: ConvergenceWarning: Objective did not converge. You might want to increase the number of iterations, check the scale of the features or consider increasing regularisation. Duality gap: 1.398e+03, tolerance: 2.303e+02\n",
      "  model = cd_fast.enet_coordinate_descent(\n",
      "/apps/compiler/anaconda3/lib/python3.9/site-packages/sklearn/linear_model/_coordinate_descent.py:628: ConvergenceWarning: Objective did not converge. You might want to increase the number of iterations, check the scale of the features or consider increasing regularisation. Duality gap: 1.360e+03, tolerance: 2.274e+02\n",
      "  model = cd_fast.enet_coordinate_descent(\n",
      "/apps/compiler/anaconda3/lib/python3.9/site-packages/sklearn/linear_model/_coordinate_descent.py:628: ConvergenceWarning: Objective did not converge. You might want to increase the number of iterations, check the scale of the features or consider increasing regularisation. Duality gap: 1.307e+03, tolerance: 2.214e+02\n",
      "  model = cd_fast.enet_coordinate_descent(\n",
      "/apps/compiler/anaconda3/lib/python3.9/site-packages/sklearn/linear_model/_coordinate_descent.py:628: ConvergenceWarning: Objective did not converge. You might want to increase the number of iterations, check the scale of the features or consider increasing regularisation. Duality gap: 8.205e+02, tolerance: 1.392e+02\n",
      "  model = cd_fast.enet_coordinate_descent(\n",
      "/apps/compiler/anaconda3/lib/python3.9/site-packages/sklearn/linear_model/_coordinate_descent.py:628: ConvergenceWarning: Objective did not converge. You might want to increase the number of iterations, check the scale of the features or consider increasing regularisation. Duality gap: 1.346e+03, tolerance: 2.225e+02\n",
      "  model = cd_fast.enet_coordinate_descent(\n",
      "/apps/compiler/anaconda3/lib/python3.9/site-packages/sklearn/linear_model/_coordinate_descent.py:628: ConvergenceWarning: Objective did not converge. You might want to increase the number of iterations, check the scale of the features or consider increasing regularisation. Duality gap: 1.521e+03, tolerance: 2.610e+02\n",
      "  model = cd_fast.enet_coordinate_descent(\n"
     ]
    },
    {
     "name": "stdout",
     "output_type": "stream",
     "text": [
      "Optimal alpha: 0.0033\n",
      "Optimal l1_ratio:  0.5\n",
      "6895 selected SNPs\n",
      "Results saved to: /home/Vaishnavi/Simulation_rep_G2P/rep_7/Elasticnet_SVR_5000\n",
      "print shape of selected snps by Elastic net (1124, 5000)\n",
      "Y.shape (1124,)\n",
      "x_train=(786, 5000), x_test=(338, 5000), Y_train= (786,), Y_test= (338,)\n",
      "r2 is  0.8784425151398992\n",
      "mean_absolute_error 13.095812900925054\n",
      "mean_squared_error  287.3836253819917\n",
      "explained_variance_score 0.8785755013574335\n",
      "Processing file: /home/Vaishnavi/Simulation_rep_G2P/rep_8/GWAStutorialldlraw_8.raw\n",
      "Shape of file (1124, 184515)\n",
      "Shape of X (1124, 184509)\n",
      "Shape of y (1124,)\n"
     ]
    },
    {
     "name": "stderr",
     "output_type": "stream",
     "text": [
      "/apps/compiler/anaconda3/lib/python3.9/site-packages/sklearn/linear_model/_coordinate_descent.py:628: ConvergenceWarning: Objective did not converge. You might want to increase the number of iterations, check the scale of the features or consider increasing regularisation. Duality gap: 7.119e+02, tolerance: 1.207e+02\n",
      "  model = cd_fast.enet_coordinate_descent(\n",
      "/apps/compiler/anaconda3/lib/python3.9/site-packages/sklearn/linear_model/_coordinate_descent.py:628: ConvergenceWarning: Objective did not converge. You might want to increase the number of iterations, check the scale of the features or consider increasing regularisation. Duality gap: 7.828e+02, tolerance: 1.203e+02\n",
      "  model = cd_fast.enet_coordinate_descent(\n",
      "/apps/compiler/anaconda3/lib/python3.9/site-packages/sklearn/linear_model/_coordinate_descent.py:628: ConvergenceWarning: Objective did not converge. You might want to increase the number of iterations, check the scale of the features or consider increasing regularisation. Duality gap: 7.362e+02, tolerance: 1.171e+02\n",
      "  model = cd_fast.enet_coordinate_descent(\n",
      "/apps/compiler/anaconda3/lib/python3.9/site-packages/sklearn/linear_model/_coordinate_descent.py:628: ConvergenceWarning: Objective did not converge. You might want to increase the number of iterations, check the scale of the features or consider increasing regularisation. Duality gap: 7.323e+02, tolerance: 8.907e+01\n",
      "  model = cd_fast.enet_coordinate_descent(\n",
      "/apps/compiler/anaconda3/lib/python3.9/site-packages/sklearn/linear_model/_coordinate_descent.py:628: ConvergenceWarning: Objective did not converge. You might want to increase the number of iterations, check the scale of the features or consider increasing regularisation. Duality gap: 7.238e+02, tolerance: 1.184e+02\n",
      "  model = cd_fast.enet_coordinate_descent(\n",
      "/apps/compiler/anaconda3/lib/python3.9/site-packages/sklearn/linear_model/_coordinate_descent.py:628: ConvergenceWarning: Objective did not converge. You might want to increase the number of iterations, check the scale of the features or consider increasing regularisation. Duality gap: 9.064e+02, tolerance: 1.416e+02\n",
      "  model = cd_fast.enet_coordinate_descent(\n"
     ]
    },
    {
     "name": "stdout",
     "output_type": "stream",
     "text": [
      "Optimal alpha: 0.0033\n",
      "Optimal l1_ratio:  0.5\n",
      "5724 selected SNPs\n",
      "Results saved to: /home/Vaishnavi/Simulation_rep_G2P/rep_8/Elasticnet_SVR_5000\n",
      "print shape of selected snps by Elastic net (1124, 5000)\n",
      "Y.shape (1124,)\n",
      "x_train=(786, 5000), x_test=(338, 5000), Y_train= (786,), Y_test= (338,)\n",
      "r2 is  0.9286114097767745\n",
      "mean_absolute_error 7.453028435224109\n",
      "mean_squared_error  86.4246947848389\n",
      "explained_variance_score 0.9288846894485902\n",
      "Processing file: /home/Vaishnavi/Simulation_rep_G2P/rep_9/GWAStutorialldlraw_9.raw\n",
      "Shape of file (1124, 184515)\n",
      "Shape of X (1124, 184509)\n",
      "Shape of y (1124,)\n"
     ]
    },
    {
     "name": "stderr",
     "output_type": "stream",
     "text": [
      "/apps/compiler/anaconda3/lib/python3.9/site-packages/sklearn/linear_model/_coordinate_descent.py:628: ConvergenceWarning: Objective did not converge. You might want to increase the number of iterations, check the scale of the features or consider increasing regularisation. Duality gap: 1.005e+03, tolerance: 1.626e+02\n",
      "  model = cd_fast.enet_coordinate_descent(\n",
      "/apps/compiler/anaconda3/lib/python3.9/site-packages/sklearn/linear_model/_coordinate_descent.py:628: ConvergenceWarning: Objective did not converge. You might want to increase the number of iterations, check the scale of the features or consider increasing regularisation. Duality gap: 9.842e+02, tolerance: 1.569e+02\n",
      "  model = cd_fast.enet_coordinate_descent(\n",
      "/apps/compiler/anaconda3/lib/python3.9/site-packages/sklearn/linear_model/_coordinate_descent.py:628: ConvergenceWarning: Objective did not converge. You might want to increase the number of iterations, check the scale of the features or consider increasing regularisation. Duality gap: 9.362e+02, tolerance: 1.578e+02\n",
      "  model = cd_fast.enet_coordinate_descent(\n",
      "/apps/compiler/anaconda3/lib/python3.9/site-packages/sklearn/linear_model/_coordinate_descent.py:628: ConvergenceWarning: Objective did not converge. You might want to increase the number of iterations, check the scale of the features or consider increasing regularisation. Duality gap: 5.786e+02, tolerance: 1.041e+02\n",
      "  model = cd_fast.enet_coordinate_descent(\n",
      "/apps/compiler/anaconda3/lib/python3.9/site-packages/sklearn/linear_model/_coordinate_descent.py:628: ConvergenceWarning: Objective did not converge. You might want to increase the number of iterations, check the scale of the features or consider increasing regularisation. Duality gap: 9.741e+02, tolerance: 1.582e+02\n",
      "  model = cd_fast.enet_coordinate_descent(\n",
      "/apps/compiler/anaconda3/lib/python3.9/site-packages/sklearn/linear_model/_coordinate_descent.py:628: ConvergenceWarning: Objective did not converge. You might want to increase the number of iterations, check the scale of the features or consider increasing regularisation. Duality gap: 1.147e+03, tolerance: 1.854e+02\n",
      "  model = cd_fast.enet_coordinate_descent(\n"
     ]
    },
    {
     "name": "stdout",
     "output_type": "stream",
     "text": [
      "Optimal alpha: 0.0033\n",
      "Optimal l1_ratio:  0.5\n",
      "6279 selected SNPs\n",
      "Results saved to: /home/Vaishnavi/Simulation_rep_G2P/rep_9/Elasticnet_SVR_5000\n",
      "print shape of selected snps by Elastic net (1124, 5000)\n",
      "Y.shape (1124,)\n",
      "x_train=(786, 5000), x_test=(338, 5000), Y_train= (786,), Y_test= (338,)\n",
      "r2 is  0.9119069509859029\n",
      "mean_absolute_error 10.208154197296043\n",
      "mean_squared_error  162.5582799765794\n",
      "explained_variance_score 0.9119327485908357\n",
      "Processing file: /home/Vaishnavi/Simulation_rep_G2P/rep_10/GWAStutorialldlraw_10.raw\n",
      "Shape of file (1124, 184515)\n",
      "Shape of X (1124, 184509)\n",
      "Shape of y (1124,)\n"
     ]
    },
    {
     "name": "stderr",
     "output_type": "stream",
     "text": [
      "/apps/compiler/anaconda3/lib/python3.9/site-packages/sklearn/linear_model/_coordinate_descent.py:628: ConvergenceWarning: Objective did not converge. You might want to increase the number of iterations, check the scale of the features or consider increasing regularisation. Duality gap: 1.206e+03, tolerance: 2.012e+02\n",
      "  model = cd_fast.enet_coordinate_descent(\n",
      "/apps/compiler/anaconda3/lib/python3.9/site-packages/sklearn/linear_model/_coordinate_descent.py:628: ConvergenceWarning: Objective did not converge. You might want to increase the number of iterations, check the scale of the features or consider increasing regularisation. Duality gap: 1.179e+03, tolerance: 1.990e+02\n",
      "  model = cd_fast.enet_coordinate_descent(\n",
      "/apps/compiler/anaconda3/lib/python3.9/site-packages/sklearn/linear_model/_coordinate_descent.py:628: ConvergenceWarning: Objective did not converge. You might want to increase the number of iterations, check the scale of the features or consider increasing regularisation. Duality gap: 1.174e+03, tolerance: 1.964e+02\n",
      "  model = cd_fast.enet_coordinate_descent(\n",
      "/apps/compiler/anaconda3/lib/python3.9/site-packages/sklearn/linear_model/_coordinate_descent.py:628: ConvergenceWarning: Objective did not converge. You might want to increase the number of iterations, check the scale of the features or consider increasing regularisation. Duality gap: 7.014e+02, tolerance: 1.169e+02\n",
      "  model = cd_fast.enet_coordinate_descent(\n",
      "/apps/compiler/anaconda3/lib/python3.9/site-packages/sklearn/linear_model/_coordinate_descent.py:628: ConvergenceWarning: Objective did not converge. You might want to increase the number of iterations, check the scale of the features or consider increasing regularisation. Duality gap: 1.155e+03, tolerance: 1.964e+02\n",
      "  model = cd_fast.enet_coordinate_descent(\n",
      "/apps/compiler/anaconda3/lib/python3.9/site-packages/sklearn/linear_model/_coordinate_descent.py:628: ConvergenceWarning: Objective did not converge. You might want to increase the number of iterations, check the scale of the features or consider increasing regularisation. Duality gap: 1.338e+03, tolerance: 2.280e+02\n",
      "  model = cd_fast.enet_coordinate_descent(\n"
     ]
    },
    {
     "name": "stdout",
     "output_type": "stream",
     "text": [
      "Optimal alpha: 0.0033\n",
      "Optimal l1_ratio:  0.5\n",
      "6827 selected SNPs\n",
      "Results saved to: /home/Vaishnavi/Simulation_rep_G2P/rep_10/Elasticnet_SVR_5000\n",
      "print shape of selected snps by Elastic net (1124, 5000)\n",
      "Y.shape (1124,)\n",
      "x_train=(786, 5000), x_test=(338, 5000), Y_train= (786,), Y_test= (338,)\n",
      "r2 is  0.8864928144263755\n",
      "mean_absolute_error 12.46872241703466\n",
      "mean_squared_error  236.10743025676308\n",
      "explained_variance_score 0.8865440878863462\n",
      "Processing file: /home/Vaishnavi/Simulation_rep_G2P/rep_11/GWAStutorialldlraw_11.raw\n",
      "Shape of file (1124, 184515)\n",
      "Shape of X (1124, 184509)\n",
      "Shape of y (1124,)\n"
     ]
    },
    {
     "name": "stderr",
     "output_type": "stream",
     "text": [
      "/apps/compiler/anaconda3/lib/python3.9/site-packages/sklearn/linear_model/_coordinate_descent.py:628: ConvergenceWarning: Objective did not converge. You might want to increase the number of iterations, check the scale of the features or consider increasing regularisation. Duality gap: 9.126e+02, tolerance: 1.595e+02\n",
      "  model = cd_fast.enet_coordinate_descent(\n",
      "/apps/compiler/anaconda3/lib/python3.9/site-packages/sklearn/linear_model/_coordinate_descent.py:628: ConvergenceWarning: Objective did not converge. You might want to increase the number of iterations, check the scale of the features or consider increasing regularisation. Duality gap: 9.749e+02, tolerance: 1.620e+02\n",
      "  model = cd_fast.enet_coordinate_descent(\n",
      "/apps/compiler/anaconda3/lib/python3.9/site-packages/sklearn/linear_model/_coordinate_descent.py:628: ConvergenceWarning: Objective did not converge. You might want to increase the number of iterations, check the scale of the features or consider increasing regularisation. Duality gap: 9.322e+02, tolerance: 1.591e+02\n",
      "  model = cd_fast.enet_coordinate_descent(\n",
      "/apps/compiler/anaconda3/lib/python3.9/site-packages/sklearn/linear_model/_coordinate_descent.py:628: ConvergenceWarning: Objective did not converge. You might want to increase the number of iterations, check the scale of the features or consider increasing regularisation. Duality gap: 7.236e+02, tolerance: 1.014e+02\n",
      "  model = cd_fast.enet_coordinate_descent(\n",
      "/apps/compiler/anaconda3/lib/python3.9/site-packages/sklearn/linear_model/_coordinate_descent.py:628: ConvergenceWarning: Objective did not converge. You might want to increase the number of iterations, check the scale of the features or consider increasing regularisation. Duality gap: 9.265e+02, tolerance: 1.531e+02\n",
      "  model = cd_fast.enet_coordinate_descent(\n",
      "/apps/compiler/anaconda3/lib/python3.9/site-packages/sklearn/linear_model/_coordinate_descent.py:628: ConvergenceWarning: Objective did not converge. You might want to increase the number of iterations, check the scale of the features or consider increasing regularisation. Duality gap: 1.092e+03, tolerance: 1.843e+02\n",
      "  model = cd_fast.enet_coordinate_descent(\n"
     ]
    },
    {
     "name": "stdout",
     "output_type": "stream",
     "text": [
      "Optimal alpha: 0.0033\n",
      "Optimal l1_ratio:  0.5\n",
      "6116 selected SNPs\n",
      "Results saved to: /home/Vaishnavi/Simulation_rep_G2P/rep_11/Elasticnet_SVR_5000\n",
      "print shape of selected snps by Elastic net (1124, 5000)\n",
      "Y.shape (1124,)\n",
      "x_train=(786, 5000), x_test=(338, 5000), Y_train= (786,), Y_test= (338,)\n",
      "r2 is  0.9240040913327012\n",
      "mean_absolute_error 9.306451164782976\n",
      "mean_squared_error  140.78523060728452\n",
      "explained_variance_score 0.9248875102709139\n",
      "Processing file: /home/Vaishnavi/Simulation_rep_G2P/rep_12/GWAStutorialldlraw_12.raw\n",
      "Shape of file (1124, 184515)\n",
      "Shape of X (1124, 184509)\n",
      "Shape of y (1124,)\n"
     ]
    },
    {
     "name": "stderr",
     "output_type": "stream",
     "text": [
      "/apps/compiler/anaconda3/lib/python3.9/site-packages/sklearn/linear_model/_coordinate_descent.py:628: ConvergenceWarning: Objective did not converge. You might want to increase the number of iterations, check the scale of the features or consider increasing regularisation. Duality gap: 9.469e+02, tolerance: 1.555e+02\n",
      "  model = cd_fast.enet_coordinate_descent(\n",
      "/apps/compiler/anaconda3/lib/python3.9/site-packages/sklearn/linear_model/_coordinate_descent.py:628: ConvergenceWarning: Objective did not converge. You might want to increase the number of iterations, check the scale of the features or consider increasing regularisation. Duality gap: 9.228e+02, tolerance: 1.523e+02\n",
      "  model = cd_fast.enet_coordinate_descent(\n",
      "/apps/compiler/anaconda3/lib/python3.9/site-packages/sklearn/linear_model/_coordinate_descent.py:628: ConvergenceWarning: Objective did not converge. You might want to increase the number of iterations, check the scale of the features or consider increasing regularisation. Duality gap: 8.736e+02, tolerance: 1.462e+02\n",
      "  model = cd_fast.enet_coordinate_descent(\n",
      "/apps/compiler/anaconda3/lib/python3.9/site-packages/sklearn/linear_model/_coordinate_descent.py:628: ConvergenceWarning: Objective did not converge. You might want to increase the number of iterations, check the scale of the features or consider increasing regularisation. Duality gap: 6.299e+02, tolerance: 1.026e+02\n",
      "  model = cd_fast.enet_coordinate_descent(\n",
      "/apps/compiler/anaconda3/lib/python3.9/site-packages/sklearn/linear_model/_coordinate_descent.py:628: ConvergenceWarning: Objective did not converge. You might want to increase the number of iterations, check the scale of the features or consider increasing regularisation. Duality gap: 9.461e+02, tolerance: 1.505e+02\n",
      "  model = cd_fast.enet_coordinate_descent(\n",
      "/apps/compiler/anaconda3/lib/python3.9/site-packages/sklearn/linear_model/_coordinate_descent.py:628: ConvergenceWarning: Objective did not converge. You might want to increase the number of iterations, check the scale of the features or consider increasing regularisation. Duality gap: 1.078e+03, tolerance: 1.770e+02\n",
      "  model = cd_fast.enet_coordinate_descent(\n"
     ]
    },
    {
     "name": "stdout",
     "output_type": "stream",
     "text": [
      "Optimal alpha: 0.0033\n",
      "Optimal l1_ratio:  0.5\n",
      "6200 selected SNPs\n",
      "Results saved to: /home/Vaishnavi/Simulation_rep_G2P/rep_12/Elasticnet_SVR_5000\n",
      "print shape of selected snps by Elastic net (1124, 5000)\n",
      "Y.shape (1124,)\n",
      "x_train=(786, 5000), x_test=(338, 5000), Y_train= (786,), Y_test= (338,)\n",
      "r2 is  0.9183566912219969\n",
      "mean_absolute_error 9.416847628753187\n",
      "mean_squared_error  143.15367941352673\n",
      "explained_variance_score 0.9185153283510424\n",
      "Processing file: /home/Vaishnavi/Simulation_rep_G2P/rep_13/GWAStutorialldlraw_13.raw\n",
      "Shape of file (1124, 184515)\n",
      "Shape of X (1124, 184509)\n",
      "Shape of y (1124,)\n"
     ]
    },
    {
     "name": "stderr",
     "output_type": "stream",
     "text": [
      "/apps/compiler/anaconda3/lib/python3.9/site-packages/sklearn/linear_model/_coordinate_descent.py:628: ConvergenceWarning: Objective did not converge. You might want to increase the number of iterations, check the scale of the features or consider increasing regularisation. Duality gap: 1.791e+03, tolerance: 2.881e+02\n",
      "  model = cd_fast.enet_coordinate_descent(\n",
      "/apps/compiler/anaconda3/lib/python3.9/site-packages/sklearn/linear_model/_coordinate_descent.py:628: ConvergenceWarning: Objective did not converge. You might want to increase the number of iterations, check the scale of the features or consider increasing regularisation. Duality gap: 1.726e+03, tolerance: 2.841e+02\n",
      "  model = cd_fast.enet_coordinate_descent(\n",
      "/apps/compiler/anaconda3/lib/python3.9/site-packages/sklearn/linear_model/_coordinate_descent.py:628: ConvergenceWarning: Objective did not converge. You might want to increase the number of iterations, check the scale of the features or consider increasing regularisation. Duality gap: 1.720e+03, tolerance: 2.782e+02\n",
      "  model = cd_fast.enet_coordinate_descent(\n",
      "/apps/compiler/anaconda3/lib/python3.9/site-packages/sklearn/linear_model/_coordinate_descent.py:628: ConvergenceWarning: Objective did not converge. You might want to increase the number of iterations, check the scale of the features or consider increasing regularisation. Duality gap: 1.026e+03, tolerance: 1.734e+02\n",
      "  model = cd_fast.enet_coordinate_descent(\n",
      "/apps/compiler/anaconda3/lib/python3.9/site-packages/sklearn/linear_model/_coordinate_descent.py:628: ConvergenceWarning: Objective did not converge. You might want to increase the number of iterations, check the scale of the features or consider increasing regularisation. Duality gap: 1.814e+03, tolerance: 2.840e+02\n",
      "  model = cd_fast.enet_coordinate_descent(\n",
      "/apps/compiler/anaconda3/lib/python3.9/site-packages/sklearn/linear_model/_coordinate_descent.py:628: ConvergenceWarning: Objective did not converge. You might want to increase the number of iterations, check the scale of the features or consider increasing regularisation. Duality gap: 2.000e+03, tolerance: 3.281e+02\n",
      "  model = cd_fast.enet_coordinate_descent(\n"
     ]
    },
    {
     "name": "stdout",
     "output_type": "stream",
     "text": [
      "Optimal alpha: 0.0033\n",
      "Optimal l1_ratio:  0.5\n",
      "7605 selected SNPs\n",
      "Results saved to: /home/Vaishnavi/Simulation_rep_G2P/rep_13/Elasticnet_SVR_5000\n",
      "print shape of selected snps by Elastic net (1124, 5000)\n",
      "Y.shape (1124,)\n",
      "x_train=(786, 5000), x_test=(338, 5000), Y_train= (786,), Y_test= (338,)\n",
      "r2 is  0.8398561002243934\n",
      "mean_absolute_error 18.519272156069103\n",
      "mean_squared_error  539.1755207700377\n",
      "explained_variance_score 0.8401927024576026\n",
      "Processing file: /home/Vaishnavi/Simulation_rep_G2P/rep_14/GWAStutorialldlraw_14.raw\n",
      "Shape of file (1124, 184515)\n",
      "Shape of X (1124, 184509)\n",
      "Shape of y (1124,)\n"
     ]
    },
    {
     "name": "stderr",
     "output_type": "stream",
     "text": [
      "/apps/compiler/anaconda3/lib/python3.9/site-packages/sklearn/linear_model/_coordinate_descent.py:628: ConvergenceWarning: Objective did not converge. You might want to increase the number of iterations, check the scale of the features or consider increasing regularisation. Duality gap: 7.800e+02, tolerance: 1.240e+02\n",
      "  model = cd_fast.enet_coordinate_descent(\n",
      "/apps/compiler/anaconda3/lib/python3.9/site-packages/sklearn/linear_model/_coordinate_descent.py:628: ConvergenceWarning: Objective did not converge. You might want to increase the number of iterations, check the scale of the features or consider increasing regularisation. Duality gap: 8.326e+02, tolerance: 1.243e+02\n",
      "  model = cd_fast.enet_coordinate_descent(\n",
      "/apps/compiler/anaconda3/lib/python3.9/site-packages/sklearn/linear_model/_coordinate_descent.py:628: ConvergenceWarning: Objective did not converge. You might want to increase the number of iterations, check the scale of the features or consider increasing regularisation. Duality gap: 7.379e+02, tolerance: 1.195e+02\n",
      "  model = cd_fast.enet_coordinate_descent(\n",
      "/apps/compiler/anaconda3/lib/python3.9/site-packages/sklearn/linear_model/_coordinate_descent.py:628: ConvergenceWarning: Objective did not converge. You might want to increase the number of iterations, check the scale of the features or consider increasing regularisation. Duality gap: 5.325e+02, tolerance: 8.980e+01\n",
      "  model = cd_fast.enet_coordinate_descent(\n",
      "/apps/compiler/anaconda3/lib/python3.9/site-packages/sklearn/linear_model/_coordinate_descent.py:628: ConvergenceWarning: Objective did not converge. You might want to increase the number of iterations, check the scale of the features or consider increasing regularisation. Duality gap: 7.551e+02, tolerance: 1.254e+02\n",
      "  model = cd_fast.enet_coordinate_descent(\n",
      "/apps/compiler/anaconda3/lib/python3.9/site-packages/sklearn/linear_model/_coordinate_descent.py:628: ConvergenceWarning: Objective did not converge. You might want to increase the number of iterations, check the scale of the features or consider increasing regularisation. Duality gap: 9.675e+02, tolerance: 1.459e+02\n",
      "  model = cd_fast.enet_coordinate_descent(\n"
     ]
    },
    {
     "name": "stdout",
     "output_type": "stream",
     "text": [
      "Optimal alpha: 0.0033\n",
      "Optimal l1_ratio:  0.5\n",
      "6004 selected SNPs\n",
      "Results saved to: /home/Vaishnavi/Simulation_rep_G2P/rep_14/Elasticnet_SVR_5000\n",
      "print shape of selected snps by Elastic net (1124, 5000)\n",
      "Y.shape (1124,)\n",
      "x_train=(786, 5000), x_test=(338, 5000), Y_train= (786,), Y_test= (338,)\n",
      "r2 is  0.9048501344525116\n",
      "mean_absolute_error 8.545431008561517\n",
      "mean_squared_error  117.14307327697885\n",
      "explained_variance_score 0.9049685370981717\n",
      "Processing file: /home/Vaishnavi/Simulation_rep_G2P/rep_15/GWAStutorialldlraw_15.raw\n",
      "Shape of file (1124, 184515)\n",
      "Shape of X (1124, 184509)\n",
      "Shape of y (1124,)\n"
     ]
    },
    {
     "name": "stderr",
     "output_type": "stream",
     "text": [
      "/apps/compiler/anaconda3/lib/python3.9/site-packages/sklearn/linear_model/_coordinate_descent.py:628: ConvergenceWarning: Objective did not converge. You might want to increase the number of iterations, check the scale of the features or consider increasing regularisation. Duality gap: 4.713e+02, tolerance: 6.125e+01\n",
      "  model = cd_fast.enet_coordinate_descent(\n",
      "/apps/compiler/anaconda3/lib/python3.9/site-packages/sklearn/linear_model/_coordinate_descent.py:628: ConvergenceWarning: Objective did not converge. You might want to increase the number of iterations, check the scale of the features or consider increasing regularisation. Duality gap: 4.721e+02, tolerance: 5.967e+01\n",
      "  model = cd_fast.enet_coordinate_descent(\n",
      "/apps/compiler/anaconda3/lib/python3.9/site-packages/sklearn/linear_model/_coordinate_descent.py:628: ConvergenceWarning: Objective did not converge. You might want to increase the number of iterations, check the scale of the features or consider increasing regularisation. Duality gap: 4.798e+02, tolerance: 5.766e+01\n",
      "  model = cd_fast.enet_coordinate_descent(\n",
      "/apps/compiler/anaconda3/lib/python3.9/site-packages/sklearn/linear_model/_coordinate_descent.py:628: ConvergenceWarning: Objective did not converge. You might want to increase the number of iterations, check the scale of the features or consider increasing regularisation. Duality gap: 4.398e+02, tolerance: 5.475e+01\n",
      "  model = cd_fast.enet_coordinate_descent(\n",
      "/apps/compiler/anaconda3/lib/python3.9/site-packages/sklearn/linear_model/_coordinate_descent.py:628: ConvergenceWarning: Objective did not converge. You might want to increase the number of iterations, check the scale of the features or consider increasing regularisation. Duality gap: 3.891e+02, tolerance: 5.551e+01\n",
      "  model = cd_fast.enet_coordinate_descent(\n",
      "/apps/compiler/anaconda3/lib/python3.9/site-packages/sklearn/linear_model/_coordinate_descent.py:628: ConvergenceWarning: Objective did not converge. You might want to increase the number of iterations, check the scale of the features or consider increasing regularisation. Duality gap: 5.915e+02, tolerance: 7.246e+01\n",
      "  model = cd_fast.enet_coordinate_descent(\n"
     ]
    },
    {
     "name": "stdout",
     "output_type": "stream",
     "text": [
      "Optimal alpha: 0.0033\n",
      "Optimal l1_ratio:  0.5\n",
      "4470 selected SNPs\n",
      "Results saved to: /home/Vaishnavi/Simulation_rep_G2P/rep_15/Elasticnet_SVR_5000\n",
      "print shape of selected snps by Elastic net (1124, 4470)\n",
      "Y.shape (1124,)\n",
      "x_train=(786, 4470), x_test=(338, 4470), Y_train= (786,), Y_test= (338,)\n",
      "r2 is  0.9424139463825986\n",
      "mean_absolute_error 5.166094961850546\n",
      "mean_squared_error  41.81568913335869\n",
      "explained_variance_score 0.9426234704683025\n",
      "Processing file: /home/Vaishnavi/Simulation_rep_G2P/rep_16/GWAStutorialldlraw_16.raw\n",
      "Shape of file (1124, 184515)\n",
      "Shape of X (1124, 184509)\n",
      "Shape of y (1124,)\n"
     ]
    },
    {
     "name": "stderr",
     "output_type": "stream",
     "text": [
      "/apps/compiler/anaconda3/lib/python3.9/site-packages/sklearn/linear_model/_coordinate_descent.py:628: ConvergenceWarning: Objective did not converge. You might want to increase the number of iterations, check the scale of the features or consider increasing regularisation. Duality gap: 4.565e+02, tolerance: 6.963e+01\n",
      "  model = cd_fast.enet_coordinate_descent(\n",
      "/apps/compiler/anaconda3/lib/python3.9/site-packages/sklearn/linear_model/_coordinate_descent.py:628: ConvergenceWarning: Objective did not converge. You might want to increase the number of iterations, check the scale of the features or consider increasing regularisation. Duality gap: 4.741e+02, tolerance: 6.937e+01\n",
      "  model = cd_fast.enet_coordinate_descent(\n",
      "/apps/compiler/anaconda3/lib/python3.9/site-packages/sklearn/linear_model/_coordinate_descent.py:628: ConvergenceWarning: Objective did not converge. You might want to increase the number of iterations, check the scale of the features or consider increasing regularisation. Duality gap: 4.569e+02, tolerance: 6.952e+01\n",
      "  model = cd_fast.enet_coordinate_descent(\n",
      "/apps/compiler/anaconda3/lib/python3.9/site-packages/sklearn/linear_model/_coordinate_descent.py:628: ConvergenceWarning: Objective did not converge. You might want to increase the number of iterations, check the scale of the features or consider increasing regularisation. Duality gap: 3.064e+02, tolerance: 5.084e+01\n",
      "  model = cd_fast.enet_coordinate_descent(\n",
      "/apps/compiler/anaconda3/lib/python3.9/site-packages/sklearn/linear_model/_coordinate_descent.py:628: ConvergenceWarning: Objective did not converge. You might want to increase the number of iterations, check the scale of the features or consider increasing regularisation. Duality gap: 4.074e+02, tolerance: 6.607e+01\n",
      "  model = cd_fast.enet_coordinate_descent(\n",
      "/apps/compiler/anaconda3/lib/python3.9/site-packages/sklearn/linear_model/_coordinate_descent.py:628: ConvergenceWarning: Objective did not converge. You might want to increase the number of iterations, check the scale of the features or consider increasing regularisation. Duality gap: 5.761e+02, tolerance: 8.151e+01\n",
      "  model = cd_fast.enet_coordinate_descent(\n"
     ]
    },
    {
     "name": "stdout",
     "output_type": "stream",
     "text": [
      "Optimal alpha: 0.0033\n",
      "Optimal l1_ratio:  0.5\n",
      "4764 selected SNPs\n",
      "Results saved to: /home/Vaishnavi/Simulation_rep_G2P/rep_16/Elasticnet_SVR_5000\n",
      "print shape of selected snps by Elastic net (1124, 4764)\n",
      "Y.shape (1124,)\n",
      "x_train=(786, 4764), x_test=(338, 4764), Y_train= (786,), Y_test= (338,)\n",
      "r2 is  0.9427869434414508\n",
      "mean_absolute_error 5.10226656726807\n",
      "mean_squared_error  40.94067682978889\n",
      "explained_variance_score 0.9431155570478631\n",
      "Processing file: /home/Vaishnavi/Simulation_rep_G2P/rep_17/GWAStutorialldlraw_17.raw\n",
      "Shape of file (1124, 184515)\n",
      "Shape of X (1124, 184509)\n",
      "Shape of y (1124,)\n"
     ]
    },
    {
     "name": "stderr",
     "output_type": "stream",
     "text": [
      "/apps/compiler/anaconda3/lib/python3.9/site-packages/sklearn/linear_model/_coordinate_descent.py:628: ConvergenceWarning: Objective did not converge. You might want to increase the number of iterations, check the scale of the features or consider increasing regularisation. Duality gap: 8.526e+02, tolerance: 1.422e+02\n",
      "  model = cd_fast.enet_coordinate_descent(\n",
      "/apps/compiler/anaconda3/lib/python3.9/site-packages/sklearn/linear_model/_coordinate_descent.py:628: ConvergenceWarning: Objective did not converge. You might want to increase the number of iterations, check the scale of the features or consider increasing regularisation. Duality gap: 8.870e+02, tolerance: 1.457e+02\n",
      "  model = cd_fast.enet_coordinate_descent(\n",
      "/apps/compiler/anaconda3/lib/python3.9/site-packages/sklearn/linear_model/_coordinate_descent.py:628: ConvergenceWarning: Objective did not converge. You might want to increase the number of iterations, check the scale of the features or consider increasing regularisation. Duality gap: 9.692e+02, tolerance: 1.442e+02\n",
      "  model = cd_fast.enet_coordinate_descent(\n",
      "/apps/compiler/anaconda3/lib/python3.9/site-packages/sklearn/linear_model/_coordinate_descent.py:628: ConvergenceWarning: Objective did not converge. You might want to increase the number of iterations, check the scale of the features or consider increasing regularisation. Duality gap: 5.538e+02, tolerance: 9.996e+01\n",
      "  model = cd_fast.enet_coordinate_descent(\n",
      "/apps/compiler/anaconda3/lib/python3.9/site-packages/sklearn/linear_model/_coordinate_descent.py:628: ConvergenceWarning: Objective did not converge. You might want to increase the number of iterations, check the scale of the features or consider increasing regularisation. Duality gap: 9.959e+02, tolerance: 1.457e+02\n",
      "  model = cd_fast.enet_coordinate_descent(\n",
      "/apps/compiler/anaconda3/lib/python3.9/site-packages/sklearn/linear_model/_coordinate_descent.py:628: ConvergenceWarning: Objective did not converge. You might want to increase the number of iterations, check the scale of the features or consider increasing regularisation. Duality gap: 1.041e+03, tolerance: 1.700e+02\n",
      "  model = cd_fast.enet_coordinate_descent(\n"
     ]
    },
    {
     "name": "stdout",
     "output_type": "stream",
     "text": [
      "Optimal alpha: 0.0033\n",
      "Optimal l1_ratio:  0.5\n",
      "6060 selected SNPs\n",
      "Results saved to: /home/Vaishnavi/Simulation_rep_G2P/rep_17/Elasticnet_SVR_5000\n",
      "print shape of selected snps by Elastic net (1124, 5000)\n",
      "Y.shape (1124,)\n",
      "x_train=(786, 5000), x_test=(338, 5000), Y_train= (786,), Y_test= (338,)\n",
      "r2 is  0.9095016106458251\n",
      "mean_absolute_error 9.65133287224008\n",
      "mean_squared_error  145.61332507658915\n",
      "explained_variance_score 0.9095445178089284\n",
      "Processing file: /home/Vaishnavi/Simulation_rep_G2P/rep_18/GWAStutorialldlraw_18.raw\n",
      "Shape of file (1124, 184515)\n",
      "Shape of X (1124, 184509)\n",
      "Shape of y (1124,)\n"
     ]
    },
    {
     "name": "stderr",
     "output_type": "stream",
     "text": [
      "/apps/compiler/anaconda3/lib/python3.9/site-packages/sklearn/linear_model/_coordinate_descent.py:628: ConvergenceWarning: Objective did not converge. You might want to increase the number of iterations, check the scale of the features or consider increasing regularisation. Duality gap: 1.267e+03, tolerance: 1.971e+02\n",
      "  model = cd_fast.enet_coordinate_descent(\n",
      "/apps/compiler/anaconda3/lib/python3.9/site-packages/sklearn/linear_model/_coordinate_descent.py:628: ConvergenceWarning: Objective did not converge. You might want to increase the number of iterations, check the scale of the features or consider increasing regularisation. Duality gap: 1.147e+03, tolerance: 1.973e+02\n",
      "  model = cd_fast.enet_coordinate_descent(\n",
      "/apps/compiler/anaconda3/lib/python3.9/site-packages/sklearn/linear_model/_coordinate_descent.py:628: ConvergenceWarning: Objective did not converge. You might want to increase the number of iterations, check the scale of the features or consider increasing regularisation. Duality gap: 1.212e+03, tolerance: 1.971e+02\n",
      "  model = cd_fast.enet_coordinate_descent(\n",
      "/apps/compiler/anaconda3/lib/python3.9/site-packages/sklearn/linear_model/_coordinate_descent.py:628: ConvergenceWarning: Objective did not converge. You might want to increase the number of iterations, check the scale of the features or consider increasing regularisation. Duality gap: 7.264e+02, tolerance: 1.154e+02\n",
      "  model = cd_fast.enet_coordinate_descent(\n",
      "/apps/compiler/anaconda3/lib/python3.9/site-packages/sklearn/linear_model/_coordinate_descent.py:628: ConvergenceWarning: Objective did not converge. You might want to increase the number of iterations, check the scale of the features or consider increasing regularisation. Duality gap: 1.288e+03, tolerance: 1.960e+02\n",
      "  model = cd_fast.enet_coordinate_descent(\n",
      "/apps/compiler/anaconda3/lib/python3.9/site-packages/sklearn/linear_model/_coordinate_descent.py:628: ConvergenceWarning: Objective did not converge. You might want to increase the number of iterations, check the scale of the features or consider increasing regularisation. Duality gap: 1.318e+03, tolerance: 2.264e+02\n",
      "  model = cd_fast.enet_coordinate_descent(\n"
     ]
    },
    {
     "name": "stdout",
     "output_type": "stream",
     "text": [
      "Optimal alpha: 0.0033\n",
      "Optimal l1_ratio:  0.5\n",
      "6747 selected SNPs\n",
      "Results saved to: /home/Vaishnavi/Simulation_rep_G2P/rep_18/Elasticnet_SVR_5000\n",
      "print shape of selected snps by Elastic net (1124, 5000)\n",
      "Y.shape (1124,)\n",
      "x_train=(786, 5000), x_test=(338, 5000), Y_train= (786,), Y_test= (338,)\n",
      "r2 is  0.9054616730243485\n",
      "mean_absolute_error 11.877152263617434\n",
      "mean_squared_error  209.51374224967105\n",
      "explained_variance_score 0.9069351448611727\n",
      "Processing file: /home/Vaishnavi/Simulation_rep_G2P/rep_19/GWAStutorialldlraw_19.raw\n",
      "Shape of file (1124, 184515)\n",
      "Shape of X (1124, 184509)\n",
      "Shape of y (1124,)\n"
     ]
    },
    {
     "name": "stderr",
     "output_type": "stream",
     "text": [
      "/apps/compiler/anaconda3/lib/python3.9/site-packages/sklearn/linear_model/_coordinate_descent.py:628: ConvergenceWarning: Objective did not converge. You might want to increase the number of iterations, check the scale of the features or consider increasing regularisation. Duality gap: 1.010e+03, tolerance: 1.700e+02\n",
      "  model = cd_fast.enet_coordinate_descent(\n",
      "/apps/compiler/anaconda3/lib/python3.9/site-packages/sklearn/linear_model/_coordinate_descent.py:628: ConvergenceWarning: Objective did not converge. You might want to increase the number of iterations, check the scale of the features or consider increasing regularisation. Duality gap: 9.897e+02, tolerance: 1.728e+02\n",
      "  model = cd_fast.enet_coordinate_descent(\n",
      "/apps/compiler/anaconda3/lib/python3.9/site-packages/sklearn/linear_model/_coordinate_descent.py:628: ConvergenceWarning: Objective did not converge. You might want to increase the number of iterations, check the scale of the features or consider increasing regularisation. Duality gap: 1.125e+03, tolerance: 1.709e+02\n",
      "  model = cd_fast.enet_coordinate_descent(\n",
      "/apps/compiler/anaconda3/lib/python3.9/site-packages/sklearn/linear_model/_coordinate_descent.py:628: ConvergenceWarning: Objective did not converge. You might want to increase the number of iterations, check the scale of the features or consider increasing regularisation. Duality gap: 6.188e+02, tolerance: 1.054e+02\n",
      "  model = cd_fast.enet_coordinate_descent(\n",
      "/apps/compiler/anaconda3/lib/python3.9/site-packages/sklearn/linear_model/_coordinate_descent.py:628: ConvergenceWarning: Objective did not converge. You might want to increase the number of iterations, check the scale of the features or consider increasing regularisation. Duality gap: 1.061e+03, tolerance: 1.686e+02\n",
      "  model = cd_fast.enet_coordinate_descent(\n",
      "/apps/compiler/anaconda3/lib/python3.9/site-packages/sklearn/linear_model/_coordinate_descent.py:628: ConvergenceWarning: Objective did not converge. You might want to increase the number of iterations, check the scale of the features or consider increasing regularisation. Duality gap: 1.397e+03, tolerance: 1.976e+02\n",
      "  model = cd_fast.enet_coordinate_descent(\n"
     ]
    },
    {
     "name": "stdout",
     "output_type": "stream",
     "text": [
      "Optimal alpha: 0.0033\n",
      "Optimal l1_ratio:  0.5\n",
      "6275 selected SNPs\n",
      "Results saved to: /home/Vaishnavi/Simulation_rep_G2P/rep_19/Elasticnet_SVR_5000\n",
      "print shape of selected snps by Elastic net (1124, 5000)\n",
      "Y.shape (1124,)\n",
      "x_train=(786, 5000), x_test=(338, 5000), Y_train= (786,), Y_test= (338,)\n",
      "r2 is  0.9226947374087979\n",
      "mean_absolute_error 9.538370949379166\n",
      "mean_squared_error  146.27994321254067\n",
      "explained_variance_score 0.9227079018788932\n",
      "Processing file: /home/Vaishnavi/Simulation_rep_G2P/rep_20/GWAStutorialldlraw_20.raw\n",
      "Shape of file (1124, 184515)\n",
      "Shape of X (1124, 184509)\n",
      "Shape of y (1124,)\n"
     ]
    },
    {
     "name": "stderr",
     "output_type": "stream",
     "text": [
      "/apps/compiler/anaconda3/lib/python3.9/site-packages/sklearn/linear_model/_coordinate_descent.py:628: ConvergenceWarning: Objective did not converge. You might want to increase the number of iterations, check the scale of the features or consider increasing regularisation. Duality gap: 6.492e+02, tolerance: 1.097e+02\n",
      "  model = cd_fast.enet_coordinate_descent(\n",
      "/apps/compiler/anaconda3/lib/python3.9/site-packages/sklearn/linear_model/_coordinate_descent.py:628: ConvergenceWarning: Objective did not converge. You might want to increase the number of iterations, check the scale of the features or consider increasing regularisation. Duality gap: 6.686e+02, tolerance: 1.115e+02\n",
      "  model = cd_fast.enet_coordinate_descent(\n",
      "/apps/compiler/anaconda3/lib/python3.9/site-packages/sklearn/linear_model/_coordinate_descent.py:628: ConvergenceWarning: Objective did not converge. You might want to increase the number of iterations, check the scale of the features or consider increasing regularisation. Duality gap: 6.390e+02, tolerance: 1.057e+02\n",
      "  model = cd_fast.enet_coordinate_descent(\n",
      "/apps/compiler/anaconda3/lib/python3.9/site-packages/sklearn/linear_model/_coordinate_descent.py:628: ConvergenceWarning: Objective did not converge. You might want to increase the number of iterations, check the scale of the features or consider increasing regularisation. Duality gap: 6.229e+02, tolerance: 8.057e+01\n",
      "  model = cd_fast.enet_coordinate_descent(\n",
      "/apps/compiler/anaconda3/lib/python3.9/site-packages/sklearn/linear_model/_coordinate_descent.py:628: ConvergenceWarning: Objective did not converge. You might want to increase the number of iterations, check the scale of the features or consider increasing regularisation. Duality gap: 6.193e+02, tolerance: 1.030e+02\n",
      "  model = cd_fast.enet_coordinate_descent(\n",
      "/apps/compiler/anaconda3/lib/python3.9/site-packages/sklearn/linear_model/_coordinate_descent.py:628: ConvergenceWarning: Objective did not converge. You might want to increase the number of iterations, check the scale of the features or consider increasing regularisation. Duality gap: 8.336e+02, tolerance: 1.279e+02\n",
      "  model = cd_fast.enet_coordinate_descent(\n"
     ]
    },
    {
     "name": "stdout",
     "output_type": "stream",
     "text": [
      "Optimal alpha: 0.0033\n",
      "Optimal l1_ratio:  0.5\n",
      "5576 selected SNPs\n",
      "Results saved to: /home/Vaishnavi/Simulation_rep_G2P/rep_20/Elasticnet_SVR_5000\n",
      "print shape of selected snps by Elastic net (1124, 5000)\n",
      "Y.shape (1124,)\n",
      "x_train=(786, 5000), x_test=(338, 5000), Y_train= (786,), Y_test= (338,)\n",
      "r2 is  0.9177200448213443\n",
      "mean_absolute_error 7.55813834171887\n",
      "mean_squared_error  92.7477162586203\n",
      "explained_variance_score 0.9177200528671674\n",
      "Processing file: /home/Vaishnavi/Simulation_rep_G2P/rep_21/GWAStutorialldlraw_21.raw\n",
      "Shape of file (1124, 184515)\n",
      "Shape of X (1124, 184509)\n",
      "Shape of y (1124,)\n"
     ]
    },
    {
     "name": "stderr",
     "output_type": "stream",
     "text": [
      "/apps/compiler/anaconda3/lib/python3.9/site-packages/sklearn/linear_model/_coordinate_descent.py:628: ConvergenceWarning: Objective did not converge. You might want to increase the number of iterations, check the scale of the features or consider increasing regularisation. Duality gap: 1.059e+03, tolerance: 1.745e+02\n",
      "  model = cd_fast.enet_coordinate_descent(\n",
      "/apps/compiler/anaconda3/lib/python3.9/site-packages/sklearn/linear_model/_coordinate_descent.py:628: ConvergenceWarning: Objective did not converge. You might want to increase the number of iterations, check the scale of the features or consider increasing regularisation. Duality gap: 1.033e+03, tolerance: 1.784e+02\n",
      "  model = cd_fast.enet_coordinate_descent(\n",
      "/apps/compiler/anaconda3/lib/python3.9/site-packages/sklearn/linear_model/_coordinate_descent.py:628: ConvergenceWarning: Objective did not converge. You might want to increase the number of iterations, check the scale of the features or consider increasing regularisation. Duality gap: 1.031e+03, tolerance: 1.744e+02\n",
      "  model = cd_fast.enet_coordinate_descent(\n",
      "/apps/compiler/anaconda3/lib/python3.9/site-packages/sklearn/linear_model/_coordinate_descent.py:628: ConvergenceWarning: Objective did not converge. You might want to increase the number of iterations, check the scale of the features or consider increasing regularisation. Duality gap: 7.903e+02, tolerance: 1.205e+02\n",
      "  model = cd_fast.enet_coordinate_descent(\n",
      "/apps/compiler/anaconda3/lib/python3.9/site-packages/sklearn/linear_model/_coordinate_descent.py:628: ConvergenceWarning: Objective did not converge. You might want to increase the number of iterations, check the scale of the features or consider increasing regularisation. Duality gap: 1.041e+03, tolerance: 1.725e+02\n",
      "  model = cd_fast.enet_coordinate_descent(\n",
      "/apps/compiler/anaconda3/lib/python3.9/site-packages/sklearn/linear_model/_coordinate_descent.py:628: ConvergenceWarning: Objective did not converge. You might want to increase the number of iterations, check the scale of the features or consider increasing regularisation. Duality gap: 1.298e+03, tolerance: 2.058e+02\n",
      "  model = cd_fast.enet_coordinate_descent(\n"
     ]
    },
    {
     "name": "stdout",
     "output_type": "stream",
     "text": [
      "Optimal alpha: 0.0033\n",
      "Optimal l1_ratio:  0.5\n",
      "6346 selected SNPs\n",
      "Results saved to: /home/Vaishnavi/Simulation_rep_G2P/rep_21/Elasticnet_SVR_5000\n",
      "print shape of selected snps by Elastic net (1124, 5000)\n",
      "Y.shape (1124,)\n",
      "x_train=(786, 5000), x_test=(338, 5000), Y_train= (786,), Y_test= (338,)\n",
      "r2 is  0.9039280071233531\n",
      "mean_absolute_error 10.761120030940285\n",
      "mean_squared_error  181.5978623621526\n",
      "explained_variance_score 0.9042972685957942\n",
      "Processing file: /home/Vaishnavi/Simulation_rep_G2P/rep_22/GWAStutorialldlraw_22.raw\n",
      "Shape of file (1124, 184515)\n",
      "Shape of X (1124, 184509)\n",
      "Shape of y (1124,)\n"
     ]
    },
    {
     "name": "stderr",
     "output_type": "stream",
     "text": [
      "/apps/compiler/anaconda3/lib/python3.9/site-packages/sklearn/linear_model/_coordinate_descent.py:628: ConvergenceWarning: Objective did not converge. You might want to increase the number of iterations, check the scale of the features or consider increasing regularisation. Duality gap: 1.156e+03, tolerance: 1.632e+02\n",
      "  model = cd_fast.enet_coordinate_descent(\n",
      "/apps/compiler/anaconda3/lib/python3.9/site-packages/sklearn/linear_model/_coordinate_descent.py:628: ConvergenceWarning: Objective did not converge. You might want to increase the number of iterations, check the scale of the features or consider increasing regularisation. Duality gap: 1.178e+03, tolerance: 1.670e+02\n",
      "  model = cd_fast.enet_coordinate_descent(\n",
      "/apps/compiler/anaconda3/lib/python3.9/site-packages/sklearn/linear_model/_coordinate_descent.py:628: ConvergenceWarning: Objective did not converge. You might want to increase the number of iterations, check the scale of the features or consider increasing regularisation. Duality gap: 1.148e+03, tolerance: 1.615e+02\n",
      "  model = cd_fast.enet_coordinate_descent(\n",
      "/apps/compiler/anaconda3/lib/python3.9/site-packages/sklearn/linear_model/_coordinate_descent.py:628: ConvergenceWarning: Objective did not converge. You might want to increase the number of iterations, check the scale of the features or consider increasing regularisation. Duality gap: 7.361e+02, tolerance: 1.160e+02\n",
      "  model = cd_fast.enet_coordinate_descent(\n",
      "/apps/compiler/anaconda3/lib/python3.9/site-packages/sklearn/linear_model/_coordinate_descent.py:628: ConvergenceWarning: Objective did not converge. You might want to increase the number of iterations, check the scale of the features or consider increasing regularisation. Duality gap: 1.224e+03, tolerance: 1.634e+02\n",
      "  model = cd_fast.enet_coordinate_descent(\n",
      "/apps/compiler/anaconda3/lib/python3.9/site-packages/sklearn/linear_model/_coordinate_descent.py:628: ConvergenceWarning: Objective did not converge. You might want to increase the number of iterations, check the scale of the features or consider increasing regularisation. Duality gap: 1.481e+03, tolerance: 1.935e+02\n",
      "  model = cd_fast.enet_coordinate_descent(\n"
     ]
    },
    {
     "name": "stdout",
     "output_type": "stream",
     "text": [
      "Optimal alpha: 0.0033\n",
      "Optimal l1_ratio:  0.5\n",
      "6333 selected SNPs\n",
      "Results saved to: /home/Vaishnavi/Simulation_rep_G2P/rep_22/Elasticnet_SVR_5000\n",
      "print shape of selected snps by Elastic net (1124, 5000)\n",
      "Y.shape (1124,)\n",
      "x_train=(786, 5000), x_test=(338, 5000), Y_train= (786,), Y_test= (338,)\n",
      "r2 is  0.9080091400542902\n",
      "mean_absolute_error 10.535373426388622\n",
      "mean_squared_error  173.35762020328127\n",
      "explained_variance_score 0.9086066023030116\n",
      "Processing file: /home/Vaishnavi/Simulation_rep_G2P/rep_23/GWAStutorialldlraw_23.raw\n",
      "Shape of file (1124, 184515)\n",
      "Shape of X (1124, 184509)\n",
      "Shape of y (1124,)\n"
     ]
    },
    {
     "name": "stderr",
     "output_type": "stream",
     "text": [
      "/apps/compiler/anaconda3/lib/python3.9/site-packages/sklearn/linear_model/_coordinate_descent.py:628: ConvergenceWarning: Objective did not converge. You might want to increase the number of iterations, check the scale of the features or consider increasing regularisation. Duality gap: 8.663e+02, tolerance: 1.466e+02\n",
      "  model = cd_fast.enet_coordinate_descent(\n",
      "/apps/compiler/anaconda3/lib/python3.9/site-packages/sklearn/linear_model/_coordinate_descent.py:628: ConvergenceWarning: Objective did not converge. You might want to increase the number of iterations, check the scale of the features or consider increasing regularisation. Duality gap: 8.518e+02, tolerance: 1.483e+02\n",
      "  model = cd_fast.enet_coordinate_descent(\n",
      "/apps/compiler/anaconda3/lib/python3.9/site-packages/sklearn/linear_model/_coordinate_descent.py:628: ConvergenceWarning: Objective did not converge. You might want to increase the number of iterations, check the scale of the features or consider increasing regularisation. Duality gap: 9.046e+02, tolerance: 1.415e+02\n",
      "  model = cd_fast.enet_coordinate_descent(\n",
      "/apps/compiler/anaconda3/lib/python3.9/site-packages/sklearn/linear_model/_coordinate_descent.py:628: ConvergenceWarning: Objective did not converge. You might want to increase the number of iterations, check the scale of the features or consider increasing regularisation. Duality gap: 5.560e+02, tolerance: 9.581e+01\n",
      "  model = cd_fast.enet_coordinate_descent(\n",
      "/apps/compiler/anaconda3/lib/python3.9/site-packages/sklearn/linear_model/_coordinate_descent.py:628: ConvergenceWarning: Objective did not converge. You might want to increase the number of iterations, check the scale of the features or consider increasing regularisation. Duality gap: 8.044e+02, tolerance: 1.409e+02\n",
      "  model = cd_fast.enet_coordinate_descent(\n",
      "/apps/compiler/anaconda3/lib/python3.9/site-packages/sklearn/linear_model/_coordinate_descent.py:628: ConvergenceWarning: Objective did not converge. You might want to increase the number of iterations, check the scale of the features or consider increasing regularisation. Duality gap: 1.056e+03, tolerance: 1.686e+02\n",
      "  model = cd_fast.enet_coordinate_descent(\n"
     ]
    },
    {
     "name": "stdout",
     "output_type": "stream",
     "text": [
      "Optimal alpha: 0.0033\n",
      "Optimal l1_ratio:  0.5\n",
      "6166 selected SNPs\n",
      "Results saved to: /home/Vaishnavi/Simulation_rep_G2P/rep_23/Elasticnet_SVR_5000\n",
      "print shape of selected snps by Elastic net (1124, 5000)\n",
      "Y.shape (1124,)\n",
      "x_train=(786, 5000), x_test=(338, 5000), Y_train= (786,), Y_test= (338,)\n",
      "r2 is  0.9104535030267985\n",
      "mean_absolute_error 9.446290828965674\n",
      "mean_squared_error  141.53313382406805\n",
      "explained_variance_score 0.9107758125285818\n",
      "Processing file: /home/Vaishnavi/Simulation_rep_G2P/rep_24/GWAStutorialldlraw_24.raw\n",
      "Shape of file (1124, 184515)\n",
      "Shape of X (1124, 184509)\n",
      "Shape of y (1124,)\n"
     ]
    },
    {
     "name": "stderr",
     "output_type": "stream",
     "text": [
      "/apps/compiler/anaconda3/lib/python3.9/site-packages/sklearn/linear_model/_coordinate_descent.py:628: ConvergenceWarning: Objective did not converge. You might want to increase the number of iterations, check the scale of the features or consider increasing regularisation. Duality gap: 1.536e+03, tolerance: 2.441e+02\n",
      "  model = cd_fast.enet_coordinate_descent(\n",
      "/apps/compiler/anaconda3/lib/python3.9/site-packages/sklearn/linear_model/_coordinate_descent.py:628: ConvergenceWarning: Objective did not converge. You might want to increase the number of iterations, check the scale of the features or consider increasing regularisation. Duality gap: 1.574e+03, tolerance: 2.434e+02\n",
      "  model = cd_fast.enet_coordinate_descent(\n",
      "/apps/compiler/anaconda3/lib/python3.9/site-packages/sklearn/linear_model/_coordinate_descent.py:628: ConvergenceWarning: Objective did not converge. You might want to increase the number of iterations, check the scale of the features or consider increasing regularisation. Duality gap: 1.583e+03, tolerance: 2.489e+02\n",
      "  model = cd_fast.enet_coordinate_descent(\n",
      "/apps/compiler/anaconda3/lib/python3.9/site-packages/sklearn/linear_model/_coordinate_descent.py:628: ConvergenceWarning: Objective did not converge. You might want to increase the number of iterations, check the scale of the features or consider increasing regularisation. Duality gap: 7.965e+02, tolerance: 1.380e+02\n",
      "  model = cd_fast.enet_coordinate_descent(\n",
      "/apps/compiler/anaconda3/lib/python3.9/site-packages/sklearn/linear_model/_coordinate_descent.py:628: ConvergenceWarning: Objective did not converge. You might want to increase the number of iterations, check the scale of the features or consider increasing regularisation. Duality gap: 1.461e+03, tolerance: 2.366e+02\n",
      "  model = cd_fast.enet_coordinate_descent(\n",
      "/apps/compiler/anaconda3/lib/python3.9/site-packages/sklearn/linear_model/_coordinate_descent.py:628: ConvergenceWarning: Objective did not converge. You might want to increase the number of iterations, check the scale of the features or consider increasing regularisation. Duality gap: 1.696e+03, tolerance: 2.787e+02\n",
      "  model = cd_fast.enet_coordinate_descent(\n"
     ]
    },
    {
     "name": "stdout",
     "output_type": "stream",
     "text": [
      "Optimal alpha: 0.0033\n",
      "Optimal l1_ratio:  0.5\n",
      "7316 selected SNPs\n",
      "Results saved to: /home/Vaishnavi/Simulation_rep_G2P/rep_24/Elasticnet_SVR_5000\n",
      "print shape of selected snps by Elastic net (1124, 5000)\n",
      "Y.shape (1124,)\n",
      "x_train=(786, 5000), x_test=(338, 5000), Y_train= (786,), Y_test= (338,)\n",
      "r2 is  0.872192627914717\n",
      "mean_absolute_error 13.63065048545411\n",
      "mean_squared_error  293.82064311351314\n",
      "explained_variance_score 0.8722195353772207\n",
      "Processing file: /home/Vaishnavi/Simulation_rep_G2P/rep_25/GWAStutorialldlraw_25.raw\n",
      "Shape of file (1124, 184515)\n",
      "Shape of X (1124, 184509)\n",
      "Shape of y (1124,)\n"
     ]
    },
    {
     "name": "stderr",
     "output_type": "stream",
     "text": [
      "/apps/compiler/anaconda3/lib/python3.9/site-packages/sklearn/linear_model/_coordinate_descent.py:628: ConvergenceWarning: Objective did not converge. You might want to increase the number of iterations, check the scale of the features or consider increasing regularisation. Duality gap: 6.441e+02, tolerance: 1.072e+02\n",
      "  model = cd_fast.enet_coordinate_descent(\n",
      "/apps/compiler/anaconda3/lib/python3.9/site-packages/sklearn/linear_model/_coordinate_descent.py:628: ConvergenceWarning: Objective did not converge. You might want to increase the number of iterations, check the scale of the features or consider increasing regularisation. Duality gap: 6.257e+02, tolerance: 1.041e+02\n",
      "  model = cd_fast.enet_coordinate_descent(\n",
      "/apps/compiler/anaconda3/lib/python3.9/site-packages/sklearn/linear_model/_coordinate_descent.py:628: ConvergenceWarning: Objective did not converge. You might want to increase the number of iterations, check the scale of the features or consider increasing regularisation. Duality gap: 6.742e+02, tolerance: 1.062e+02\n",
      "  model = cd_fast.enet_coordinate_descent(\n",
      "/apps/compiler/anaconda3/lib/python3.9/site-packages/sklearn/linear_model/_coordinate_descent.py:628: ConvergenceWarning: Objective did not converge. You might want to increase the number of iterations, check the scale of the features or consider increasing regularisation. Duality gap: 4.576e+02, tolerance: 8.006e+01\n",
      "  model = cd_fast.enet_coordinate_descent(\n",
      "/apps/compiler/anaconda3/lib/python3.9/site-packages/sklearn/linear_model/_coordinate_descent.py:628: ConvergenceWarning: Objective did not converge. You might want to increase the number of iterations, check the scale of the features or consider increasing regularisation. Duality gap: 6.087e+02, tolerance: 1.054e+02\n",
      "  model = cd_fast.enet_coordinate_descent(\n",
      "/apps/compiler/anaconda3/lib/python3.9/site-packages/sklearn/linear_model/_coordinate_descent.py:628: ConvergenceWarning: Objective did not converge. You might want to increase the number of iterations, check the scale of the features or consider increasing regularisation. Duality gap: 8.046e+02, tolerance: 1.260e+02\n",
      "  model = cd_fast.enet_coordinate_descent(\n"
     ]
    },
    {
     "name": "stdout",
     "output_type": "stream",
     "text": [
      "Optimal alpha: 0.0033\n",
      "Optimal l1_ratio:  0.5\n",
      "5513 selected SNPs\n",
      "Results saved to: /home/Vaishnavi/Simulation_rep_G2P/rep_25/Elasticnet_SVR_5000\n",
      "print shape of selected snps by Elastic net (1124, 5000)\n",
      "Y.shape (1124,)\n",
      "x_train=(786, 5000), x_test=(338, 5000), Y_train= (786,), Y_test= (338,)\n",
      "r2 is  0.9316963100573618\n",
      "mean_absolute_error 7.144710737656088\n",
      "mean_squared_error  77.61567120448288\n",
      "explained_variance_score 0.9318061809890856\n",
      "Processing file: /home/Vaishnavi/Simulation_rep_G2P/rep_26/GWAStutorialldlraw_26.raw\n",
      "Shape of file (1124, 184515)\n",
      "Shape of X (1124, 184509)\n",
      "Shape of y (1124,)\n"
     ]
    },
    {
     "name": "stderr",
     "output_type": "stream",
     "text": [
      "/apps/compiler/anaconda3/lib/python3.9/site-packages/sklearn/linear_model/_coordinate_descent.py:628: ConvergenceWarning: Objective did not converge. You might want to increase the number of iterations, check the scale of the features or consider increasing regularisation. Duality gap: 9.705e+02, tolerance: 1.645e+02\n",
      "  model = cd_fast.enet_coordinate_descent(\n",
      "/apps/compiler/anaconda3/lib/python3.9/site-packages/sklearn/linear_model/_coordinate_descent.py:628: ConvergenceWarning: Objective did not converge. You might want to increase the number of iterations, check the scale of the features or consider increasing regularisation. Duality gap: 9.530e+02, tolerance: 1.608e+02\n",
      "  model = cd_fast.enet_coordinate_descent(\n",
      "/apps/compiler/anaconda3/lib/python3.9/site-packages/sklearn/linear_model/_coordinate_descent.py:628: ConvergenceWarning: Objective did not converge. You might want to increase the number of iterations, check the scale of the features or consider increasing regularisation. Duality gap: 1.039e+03, tolerance: 1.687e+02\n",
      "  model = cd_fast.enet_coordinate_descent(\n",
      "/apps/compiler/anaconda3/lib/python3.9/site-packages/sklearn/linear_model/_coordinate_descent.py:628: ConvergenceWarning: Objective did not converge. You might want to increase the number of iterations, check the scale of the features or consider increasing regularisation. Duality gap: 6.878e+02, tolerance: 1.114e+02\n",
      "  model = cd_fast.enet_coordinate_descent(\n",
      "/apps/compiler/anaconda3/lib/python3.9/site-packages/sklearn/linear_model/_coordinate_descent.py:628: ConvergenceWarning: Objective did not converge. You might want to increase the number of iterations, check the scale of the features or consider increasing regularisation. Duality gap: 9.715e+02, tolerance: 1.575e+02\n",
      "  model = cd_fast.enet_coordinate_descent(\n",
      "/apps/compiler/anaconda3/lib/python3.9/site-packages/sklearn/linear_model/_coordinate_descent.py:628: ConvergenceWarning: Objective did not converge. You might want to increase the number of iterations, check the scale of the features or consider increasing regularisation. Duality gap: 1.154e+03, tolerance: 1.912e+02\n",
      "  model = cd_fast.enet_coordinate_descent(\n"
     ]
    },
    {
     "name": "stdout",
     "output_type": "stream",
     "text": [
      "Optimal alpha: 0.0033\n",
      "Optimal l1_ratio:  0.5\n",
      "6398 selected SNPs\n",
      "Results saved to: /home/Vaishnavi/Simulation_rep_G2P/rep_26/Elasticnet_SVR_5000\n",
      "print shape of selected snps by Elastic net (1124, 5000)\n",
      "Y.shape (1124,)\n",
      "x_train=(786, 5000), x_test=(338, 5000), Y_train= (786,), Y_test= (338,)\n",
      "r2 is  0.9042444432934815\n",
      "mean_absolute_error 10.549739957923546\n",
      "mean_squared_error  178.0541653186787\n",
      "explained_variance_score 0.9053494814645805\n",
      "Processing file: /home/Vaishnavi/Simulation_rep_G2P/rep_27/GWAStutorialldlraw_27.raw\n",
      "Shape of file (1124, 184515)\n",
      "Shape of X (1124, 184509)\n",
      "Shape of y (1124,)\n"
     ]
    },
    {
     "name": "stderr",
     "output_type": "stream",
     "text": [
      "/apps/compiler/anaconda3/lib/python3.9/site-packages/sklearn/linear_model/_coordinate_descent.py:628: ConvergenceWarning: Objective did not converge. You might want to increase the number of iterations, check the scale of the features or consider increasing regularisation. Duality gap: 1.210e+03, tolerance: 2.021e+02\n",
      "  model = cd_fast.enet_coordinate_descent(\n",
      "/apps/compiler/anaconda3/lib/python3.9/site-packages/sklearn/linear_model/_coordinate_descent.py:628: ConvergenceWarning: Objective did not converge. You might want to increase the number of iterations, check the scale of the features or consider increasing regularisation. Duality gap: 1.215e+03, tolerance: 1.983e+02\n",
      "  model = cd_fast.enet_coordinate_descent(\n",
      "/apps/compiler/anaconda3/lib/python3.9/site-packages/sklearn/linear_model/_coordinate_descent.py:628: ConvergenceWarning: Objective did not converge. You might want to increase the number of iterations, check the scale of the features or consider increasing regularisation. Duality gap: 1.223e+03, tolerance: 1.931e+02\n",
      "  model = cd_fast.enet_coordinate_descent(\n",
      "/apps/compiler/anaconda3/lib/python3.9/site-packages/sklearn/linear_model/_coordinate_descent.py:628: ConvergenceWarning: Objective did not converge. You might want to increase the number of iterations, check the scale of the features or consider increasing regularisation. Duality gap: 7.406e+02, tolerance: 1.251e+02\n",
      "  model = cd_fast.enet_coordinate_descent(\n",
      "/apps/compiler/anaconda3/lib/python3.9/site-packages/sklearn/linear_model/_coordinate_descent.py:628: ConvergenceWarning: Objective did not converge. You might want to increase the number of iterations, check the scale of the features or consider increasing regularisation. Duality gap: 1.306e+03, tolerance: 1.942e+02\n",
      "  model = cd_fast.enet_coordinate_descent(\n",
      "/apps/compiler/anaconda3/lib/python3.9/site-packages/sklearn/linear_model/_coordinate_descent.py:628: ConvergenceWarning: Objective did not converge. You might want to increase the number of iterations, check the scale of the features or consider increasing regularisation. Duality gap: 1.353e+03, tolerance: 2.291e+02\n",
      "  model = cd_fast.enet_coordinate_descent(\n"
     ]
    },
    {
     "name": "stdout",
     "output_type": "stream",
     "text": [
      "Optimal alpha: 0.0033\n",
      "Optimal l1_ratio:  0.5\n",
      "6884 selected SNPs\n",
      "Results saved to: /home/Vaishnavi/Simulation_rep_G2P/rep_27/Elasticnet_SVR_5000\n",
      "print shape of selected snps by Elastic net (1124, 5000)\n",
      "Y.shape (1124,)\n",
      "x_train=(786, 5000), x_test=(338, 5000), Y_train= (786,), Y_test= (338,)\n",
      "r2 is  0.874360724909298\n",
      "mean_absolute_error 14.085515967550968\n",
      "mean_squared_error  305.97574856065444\n",
      "explained_variance_score 0.874412853979804\n",
      "Processing file: /home/Vaishnavi/Simulation_rep_G2P/rep_28/GWAStutorialldlraw_28.raw\n",
      "Shape of file (1124, 184515)\n",
      "Shape of X (1124, 184509)\n",
      "Shape of y (1124,)\n"
     ]
    },
    {
     "name": "stderr",
     "output_type": "stream",
     "text": [
      "/apps/compiler/anaconda3/lib/python3.9/site-packages/sklearn/linear_model/_coordinate_descent.py:628: ConvergenceWarning: Objective did not converge. You might want to increase the number of iterations, check the scale of the features or consider increasing regularisation. Duality gap: 1.297e+03, tolerance: 2.130e+02\n",
      "  model = cd_fast.enet_coordinate_descent(\n",
      "/apps/compiler/anaconda3/lib/python3.9/site-packages/sklearn/linear_model/_coordinate_descent.py:628: ConvergenceWarning: Objective did not converge. You might want to increase the number of iterations, check the scale of the features or consider increasing regularisation. Duality gap: 1.352e+03, tolerance: 2.170e+02\n",
      "  model = cd_fast.enet_coordinate_descent(\n",
      "/apps/compiler/anaconda3/lib/python3.9/site-packages/sklearn/linear_model/_coordinate_descent.py:628: ConvergenceWarning: Objective did not converge. You might want to increase the number of iterations, check the scale of the features or consider increasing regularisation. Duality gap: 1.332e+03, tolerance: 2.126e+02\n",
      "  model = cd_fast.enet_coordinate_descent(\n",
      "/apps/compiler/anaconda3/lib/python3.9/site-packages/sklearn/linear_model/_coordinate_descent.py:628: ConvergenceWarning: Objective did not converge. You might want to increase the number of iterations, check the scale of the features or consider increasing regularisation. Duality gap: 7.402e+02, tolerance: 1.334e+02\n",
      "  model = cd_fast.enet_coordinate_descent(\n",
      "/apps/compiler/anaconda3/lib/python3.9/site-packages/sklearn/linear_model/_coordinate_descent.py:628: ConvergenceWarning: Objective did not converge. You might want to increase the number of iterations, check the scale of the features or consider increasing regularisation. Duality gap: 1.296e+03, tolerance: 2.075e+02\n",
      "  model = cd_fast.enet_coordinate_descent(\n",
      "/apps/compiler/anaconda3/lib/python3.9/site-packages/sklearn/linear_model/_coordinate_descent.py:628: ConvergenceWarning: Objective did not converge. You might want to increase the number of iterations, check the scale of the features or consider increasing regularisation. Duality gap: 1.569e+03, tolerance: 2.468e+02\n",
      "  model = cd_fast.enet_coordinate_descent(\n"
     ]
    },
    {
     "name": "stdout",
     "output_type": "stream",
     "text": [
      "Optimal alpha: 0.0033\n",
      "Optimal l1_ratio:  0.5\n",
      "7003 selected SNPs\n",
      "Results saved to: /home/Vaishnavi/Simulation_rep_G2P/rep_28/Elasticnet_SVR_5000\n",
      "print shape of selected snps by Elastic net (1124, 5000)\n",
      "Y.shape (1124,)\n",
      "x_train=(786, 5000), x_test=(338, 5000), Y_train= (786,), Y_test= (338,)\n",
      "r2 is  0.8840180870224063\n",
      "mean_absolute_error 12.94333574768759\n",
      "mean_squared_error  278.64349046413486\n",
      "explained_variance_score 0.8858263989466858\n",
      "Processing file: /home/Vaishnavi/Simulation_rep_G2P/rep_33/GWAStutorialldlraw_33.raw\n",
      "Shape of file (1124, 184515)\n",
      "Shape of X (1124, 184509)\n",
      "Shape of y (1124,)\n"
     ]
    },
    {
     "name": "stderr",
     "output_type": "stream",
     "text": [
      "/apps/compiler/anaconda3/lib/python3.9/site-packages/sklearn/linear_model/_coordinate_descent.py:628: ConvergenceWarning: Objective did not converge. You might want to increase the number of iterations, check the scale of the features or consider increasing regularisation. Duality gap: 8.258e+02, tolerance: 1.413e+02\n",
      "  model = cd_fast.enet_coordinate_descent(\n",
      "/apps/compiler/anaconda3/lib/python3.9/site-packages/sklearn/linear_model/_coordinate_descent.py:628: ConvergenceWarning: Objective did not converge. You might want to increase the number of iterations, check the scale of the features or consider increasing regularisation. Duality gap: 8.400e+02, tolerance: 1.426e+02\n",
      "  model = cd_fast.enet_coordinate_descent(\n",
      "/apps/compiler/anaconda3/lib/python3.9/site-packages/sklearn/linear_model/_coordinate_descent.py:628: ConvergenceWarning: Objective did not converge. You might want to increase the number of iterations, check the scale of the features or consider increasing regularisation. Duality gap: 8.238e+02, tolerance: 1.380e+02\n",
      "  model = cd_fast.enet_coordinate_descent(\n",
      "/apps/compiler/anaconda3/lib/python3.9/site-packages/sklearn/linear_model/_coordinate_descent.py:628: ConvergenceWarning: Objective did not converge. You might want to increase the number of iterations, check the scale of the features or consider increasing regularisation. Duality gap: 5.544e+02, tolerance: 9.385e+01\n",
      "  model = cd_fast.enet_coordinate_descent(\n",
      "/apps/compiler/anaconda3/lib/python3.9/site-packages/sklearn/linear_model/_coordinate_descent.py:628: ConvergenceWarning: Objective did not converge. You might want to increase the number of iterations, check the scale of the features or consider increasing regularisation. Duality gap: 8.577e+02, tolerance: 1.402e+02\n",
      "  model = cd_fast.enet_coordinate_descent(\n",
      "/apps/compiler/anaconda3/lib/python3.9/site-packages/sklearn/linear_model/_coordinate_descent.py:628: ConvergenceWarning: Objective did not converge. You might want to increase the number of iterations, check the scale of the features or consider increasing regularisation. Duality gap: 1.036e+03, tolerance: 1.645e+02\n",
      "  model = cd_fast.enet_coordinate_descent(\n"
     ]
    },
    {
     "name": "stdout",
     "output_type": "stream",
     "text": [
      "Optimal alpha: 0.0033\n",
      "Optimal l1_ratio:  0.5\n",
      "6137 selected SNPs\n",
      "Results saved to: /home/Vaishnavi/Simulation_rep_G2P/rep_33/Elasticnet_SVR_5000\n",
      "print shape of selected snps by Elastic net (1124, 5000)\n",
      "Y.shape (1124,)\n",
      "x_train=(786, 5000), x_test=(338, 5000), Y_train= (786,), Y_test= (338,)\n",
      "r2 is  0.9097189600491777\n",
      "mean_absolute_error 9.092927803352081\n",
      "mean_squared_error  130.37955678557628\n",
      "explained_variance_score 0.9097193402760708\n",
      "Processing file: /home/Vaishnavi/Simulation_rep_G2P/rep_34/GWAStutorialldlraw_34.raw\n",
      "Shape of file (1124, 184515)\n",
      "Shape of X (1124, 184509)\n",
      "Shape of y (1124,)\n"
     ]
    },
    {
     "name": "stderr",
     "output_type": "stream",
     "text": [
      "/apps/compiler/anaconda3/lib/python3.9/site-packages/sklearn/linear_model/_coordinate_descent.py:628: ConvergenceWarning: Objective did not converge. You might want to increase the number of iterations, check the scale of the features or consider increasing regularisation. Duality gap: 7.556e+02, tolerance: 1.281e+02\n",
      "  model = cd_fast.enet_coordinate_descent(\n",
      "/apps/compiler/anaconda3/lib/python3.9/site-packages/sklearn/linear_model/_coordinate_descent.py:628: ConvergenceWarning: Objective did not converge. You might want to increase the number of iterations, check the scale of the features or consider increasing regularisation. Duality gap: 7.701e+02, tolerance: 1.278e+02\n",
      "  model = cd_fast.enet_coordinate_descent(\n",
      "/apps/compiler/anaconda3/lib/python3.9/site-packages/sklearn/linear_model/_coordinate_descent.py:628: ConvergenceWarning: Objective did not converge. You might want to increase the number of iterations, check the scale of the features or consider increasing regularisation. Duality gap: 7.614e+02, tolerance: 1.234e+02\n",
      "  model = cd_fast.enet_coordinate_descent(\n",
      "/apps/compiler/anaconda3/lib/python3.9/site-packages/sklearn/linear_model/_coordinate_descent.py:628: ConvergenceWarning: Objective did not converge. You might want to increase the number of iterations, check the scale of the features or consider increasing regularisation. Duality gap: 4.890e+02, tolerance: 8.597e+01\n",
      "  model = cd_fast.enet_coordinate_descent(\n",
      "/apps/compiler/anaconda3/lib/python3.9/site-packages/sklearn/linear_model/_coordinate_descent.py:628: ConvergenceWarning: Objective did not converge. You might want to increase the number of iterations, check the scale of the features or consider increasing regularisation. Duality gap: 7.915e+02, tolerance: 1.307e+02\n",
      "  model = cd_fast.enet_coordinate_descent(\n",
      "/apps/compiler/anaconda3/lib/python3.9/site-packages/sklearn/linear_model/_coordinate_descent.py:628: ConvergenceWarning: Objective did not converge. You might want to increase the number of iterations, check the scale of the features or consider increasing regularisation. Duality gap: 9.015e+02, tolerance: 1.494e+02\n",
      "  model = cd_fast.enet_coordinate_descent(\n"
     ]
    },
    {
     "name": "stdout",
     "output_type": "stream",
     "text": [
      "Optimal alpha: 0.0033\n",
      "Optimal l1_ratio:  0.5\n",
      "5859 selected SNPs\n",
      "Results saved to: /home/Vaishnavi/Simulation_rep_G2P/rep_34/Elasticnet_SVR_5000\n",
      "print shape of selected snps by Elastic net (1124, 5000)\n",
      "Y.shape (1124,)\n",
      "x_train=(786, 5000), x_test=(338, 5000), Y_train= (786,), Y_test= (338,)\n",
      "r2 is  0.9216568957925517\n",
      "mean_absolute_error 9.077294682603771\n",
      "mean_squared_error  130.13720560648838\n",
      "explained_variance_score 0.9217630957936493\n",
      "Processing file: /home/Vaishnavi/Simulation_rep_G2P/rep_35/GWAStutorialldlraw_35.raw\n",
      "Shape of file (1124, 184515)\n",
      "Shape of X (1124, 184509)\n",
      "Shape of y (1124,)\n"
     ]
    },
    {
     "name": "stderr",
     "output_type": "stream",
     "text": [
      "/apps/compiler/anaconda3/lib/python3.9/site-packages/sklearn/linear_model/_coordinate_descent.py:628: ConvergenceWarning: Objective did not converge. You might want to increase the number of iterations, check the scale of the features or consider increasing regularisation. Duality gap: 8.497e+02, tolerance: 1.398e+02\n",
      "  model = cd_fast.enet_coordinate_descent(\n",
      "/apps/compiler/anaconda3/lib/python3.9/site-packages/sklearn/linear_model/_coordinate_descent.py:628: ConvergenceWarning: Objective did not converge. You might want to increase the number of iterations, check the scale of the features or consider increasing regularisation. Duality gap: 8.457e+02, tolerance: 1.389e+02\n",
      "  model = cd_fast.enet_coordinate_descent(\n",
      "/apps/compiler/anaconda3/lib/python3.9/site-packages/sklearn/linear_model/_coordinate_descent.py:628: ConvergenceWarning: Objective did not converge. You might want to increase the number of iterations, check the scale of the features or consider increasing regularisation. Duality gap: 8.060e+02, tolerance: 1.360e+02\n",
      "  model = cd_fast.enet_coordinate_descent(\n",
      "/apps/compiler/anaconda3/lib/python3.9/site-packages/sklearn/linear_model/_coordinate_descent.py:628: ConvergenceWarning: Objective did not converge. You might want to increase the number of iterations, check the scale of the features or consider increasing regularisation. Duality gap: 5.504e+02, tolerance: 9.473e+01\n",
      "  model = cd_fast.enet_coordinate_descent(\n",
      "/apps/compiler/anaconda3/lib/python3.9/site-packages/sklearn/linear_model/_coordinate_descent.py:628: ConvergenceWarning: Objective did not converge. You might want to increase the number of iterations, check the scale of the features or consider increasing regularisation. Duality gap: 8.219e+02, tolerance: 1.369e+02\n",
      "  model = cd_fast.enet_coordinate_descent(\n",
      "/apps/compiler/anaconda3/lib/python3.9/site-packages/sklearn/linear_model/_coordinate_descent.py:628: ConvergenceWarning: Objective did not converge. You might want to increase the number of iterations, check the scale of the features or consider increasing regularisation. Duality gap: 1.006e+03, tolerance: 1.621e+02\n",
      "  model = cd_fast.enet_coordinate_descent(\n"
     ]
    },
    {
     "name": "stdout",
     "output_type": "stream",
     "text": [
      "Optimal alpha: 0.0033\n",
      "Optimal l1_ratio:  0.5\n",
      "6113 selected SNPs\n",
      "Results saved to: /home/Vaishnavi/Simulation_rep_G2P/rep_35/Elasticnet_SVR_5000\n",
      "print shape of selected snps by Elastic net (1124, 5000)\n",
      "Y.shape (1124,)\n",
      "x_train=(786, 5000), x_test=(338, 5000), Y_train= (786,), Y_test= (338,)\n",
      "r2 is  0.9018894919268294\n",
      "mean_absolute_error 9.527681481559059\n",
      "mean_squared_error  146.11132511357368\n",
      "explained_variance_score 0.9026777838150991\n",
      "Processing file: /home/Vaishnavi/Simulation_rep_G2P/rep_36/GWAStutorialldlraw_36.raw\n",
      "Shape of file (1124, 184515)\n",
      "Shape of X (1124, 184509)\n",
      "Shape of y (1124,)\n"
     ]
    },
    {
     "name": "stderr",
     "output_type": "stream",
     "text": [
      "/apps/compiler/anaconda3/lib/python3.9/site-packages/sklearn/linear_model/_coordinate_descent.py:628: ConvergenceWarning: Objective did not converge. You might want to increase the number of iterations, check the scale of the features or consider increasing regularisation. Duality gap: 1.114e+03, tolerance: 1.796e+02\n",
      "  model = cd_fast.enet_coordinate_descent(\n",
      "/apps/compiler/anaconda3/lib/python3.9/site-packages/sklearn/linear_model/_coordinate_descent.py:628: ConvergenceWarning: Objective did not converge. You might want to increase the number of iterations, check the scale of the features or consider increasing regularisation. Duality gap: 1.157e+03, tolerance: 1.824e+02\n",
      "  model = cd_fast.enet_coordinate_descent(\n",
      "/apps/compiler/anaconda3/lib/python3.9/site-packages/sklearn/linear_model/_coordinate_descent.py:628: ConvergenceWarning: Objective did not converge. You might want to increase the number of iterations, check the scale of the features or consider increasing regularisation. Duality gap: 1.123e+03, tolerance: 1.795e+02\n",
      "  model = cd_fast.enet_coordinate_descent(\n",
      "/apps/compiler/anaconda3/lib/python3.9/site-packages/sklearn/linear_model/_coordinate_descent.py:628: ConvergenceWarning: Objective did not converge. You might want to increase the number of iterations, check the scale of the features or consider increasing regularisation. Duality gap: 9.417e+02, tolerance: 1.236e+02\n",
      "  model = cd_fast.enet_coordinate_descent(\n",
      "/apps/compiler/anaconda3/lib/python3.9/site-packages/sklearn/linear_model/_coordinate_descent.py:628: ConvergenceWarning: Objective did not converge. You might want to increase the number of iterations, check the scale of the features or consider increasing regularisation. Duality gap: 1.020e+03, tolerance: 1.683e+02\n",
      "  model = cd_fast.enet_coordinate_descent(\n",
      "/apps/compiler/anaconda3/lib/python3.9/site-packages/sklearn/linear_model/_coordinate_descent.py:628: ConvergenceWarning: Objective did not converge. You might want to increase the number of iterations, check the scale of the features or consider increasing regularisation. Duality gap: 1.378e+03, tolerance: 2.091e+02\n",
      "  model = cd_fast.enet_coordinate_descent(\n"
     ]
    },
    {
     "name": "stdout",
     "output_type": "stream",
     "text": [
      "Optimal alpha: 0.0033\n",
      "Optimal l1_ratio:  0.5\n",
      "6401 selected SNPs\n",
      "Results saved to: /home/Vaishnavi/Simulation_rep_G2P/rep_36/Elasticnet_SVR_5000\n",
      "print shape of selected snps by Elastic net (1124, 5000)\n",
      "Y.shape (1124,)\n",
      "x_train=(786, 5000), x_test=(338, 5000), Y_train= (786,), Y_test= (338,)\n",
      "r2 is  0.908154817225945\n",
      "mean_absolute_error 10.778384562036932\n",
      "mean_squared_error  181.70225991456314\n",
      "explained_variance_score 0.9083798490159607\n",
      "Processing file: /home/Vaishnavi/Simulation_rep_G2P/rep_38/GWAStutorialldlraw_38.raw\n",
      "Shape of file (1124, 184515)\n",
      "Shape of X (1124, 184509)\n",
      "Shape of y (1124,)\n"
     ]
    },
    {
     "name": "stderr",
     "output_type": "stream",
     "text": [
      "/apps/compiler/anaconda3/lib/python3.9/site-packages/sklearn/linear_model/_coordinate_descent.py:628: ConvergenceWarning: Objective did not converge. You might want to increase the number of iterations, check the scale of the features or consider increasing regularisation. Duality gap: 5.158e+02, tolerance: 8.569e+01\n",
      "  model = cd_fast.enet_coordinate_descent(\n",
      "/apps/compiler/anaconda3/lib/python3.9/site-packages/sklearn/linear_model/_coordinate_descent.py:628: ConvergenceWarning: Objective did not converge. You might want to increase the number of iterations, check the scale of the features or consider increasing regularisation. Duality gap: 5.205e+02, tolerance: 8.424e+01\n",
      "  model = cd_fast.enet_coordinate_descent(\n",
      "/apps/compiler/anaconda3/lib/python3.9/site-packages/sklearn/linear_model/_coordinate_descent.py:628: ConvergenceWarning: Objective did not converge. You might want to increase the number of iterations, check the scale of the features or consider increasing regularisation. Duality gap: 5.369e+02, tolerance: 8.318e+01\n",
      "  model = cd_fast.enet_coordinate_descent(\n",
      "/apps/compiler/anaconda3/lib/python3.9/site-packages/sklearn/linear_model/_coordinate_descent.py:628: ConvergenceWarning: Objective did not converge. You might want to increase the number of iterations, check the scale of the features or consider increasing regularisation. Duality gap: 3.964e+02, tolerance: 6.586e+01\n",
      "  model = cd_fast.enet_coordinate_descent(\n",
      "/apps/compiler/anaconda3/lib/python3.9/site-packages/sklearn/linear_model/_coordinate_descent.py:628: ConvergenceWarning: Objective did not converge. You might want to increase the number of iterations, check the scale of the features or consider increasing regularisation. Duality gap: 4.881e+02, tolerance: 8.312e+01\n",
      "  model = cd_fast.enet_coordinate_descent(\n",
      "/apps/compiler/anaconda3/lib/python3.9/site-packages/sklearn/linear_model/_coordinate_descent.py:628: ConvergenceWarning: Objective did not converge. You might want to increase the number of iterations, check the scale of the features or consider increasing regularisation. Duality gap: 6.425e+02, tolerance: 1.006e+02\n",
      "  model = cd_fast.enet_coordinate_descent(\n"
     ]
    },
    {
     "name": "stdout",
     "output_type": "stream",
     "text": [
      "Optimal alpha: 0.0033\n",
      "Optimal l1_ratio:  0.5\n",
      "5053 selected SNPs\n",
      "Results saved to: /home/Vaishnavi/Simulation_rep_G2P/rep_38/Elasticnet_SVR_5000\n",
      "print shape of selected snps by Elastic net (1124, 5000)\n",
      "Y.shape (1124,)\n",
      "x_train=(786, 5000), x_test=(338, 5000), Y_train= (786,), Y_test= (338,)\n",
      "r2 is  0.9382974386231757\n",
      "mean_absolute_error 6.215818804849319\n",
      "mean_squared_error  61.495989646955145\n",
      "explained_variance_score 0.9386810481946198\n",
      "Processing file: /home/Vaishnavi/Simulation_rep_G2P/rep_39/GWAStutorialldlraw_39.raw\n",
      "Shape of file (1124, 184515)\n",
      "Shape of X (1124, 184509)\n",
      "Shape of y (1124,)\n"
     ]
    },
    {
     "name": "stderr",
     "output_type": "stream",
     "text": [
      "/apps/compiler/anaconda3/lib/python3.9/site-packages/sklearn/linear_model/_coordinate_descent.py:628: ConvergenceWarning: Objective did not converge. You might want to increase the number of iterations, check the scale of the features or consider increasing regularisation. Duality gap: 6.797e+02, tolerance: 1.181e+02\n",
      "  model = cd_fast.enet_coordinate_descent(\n",
      "/apps/compiler/anaconda3/lib/python3.9/site-packages/sklearn/linear_model/_coordinate_descent.py:628: ConvergenceWarning: Objective did not converge. You might want to increase the number of iterations, check the scale of the features or consider increasing regularisation. Duality gap: 6.776e+02, tolerance: 1.145e+02\n",
      "  model = cd_fast.enet_coordinate_descent(\n",
      "/apps/compiler/anaconda3/lib/python3.9/site-packages/sklearn/linear_model/_coordinate_descent.py:628: ConvergenceWarning: Objective did not converge. You might want to increase the number of iterations, check the scale of the features or consider increasing regularisation. Duality gap: 6.740e+02, tolerance: 1.163e+02\n",
      "  model = cd_fast.enet_coordinate_descent(\n",
      "/apps/compiler/anaconda3/lib/python3.9/site-packages/sklearn/linear_model/_coordinate_descent.py:628: ConvergenceWarning: Objective did not converge. You might want to increase the number of iterations, check the scale of the features or consider increasing regularisation. Duality gap: 4.350e+02, tolerance: 7.697e+01\n",
      "  model = cd_fast.enet_coordinate_descent(\n",
      "/apps/compiler/anaconda3/lib/python3.9/site-packages/sklearn/linear_model/_coordinate_descent.py:628: ConvergenceWarning: Objective did not converge. You might want to increase the number of iterations, check the scale of the features or consider increasing regularisation. Duality gap: 7.204e+02, tolerance: 1.158e+02\n",
      "  model = cd_fast.enet_coordinate_descent(\n",
      "/apps/compiler/anaconda3/lib/python3.9/site-packages/sklearn/linear_model/_coordinate_descent.py:628: ConvergenceWarning: Objective did not converge. You might want to increase the number of iterations, check the scale of the features or consider increasing regularisation. Duality gap: 8.763e+02, tolerance: 1.357e+02\n",
      "  model = cd_fast.enet_coordinate_descent(\n"
     ]
    },
    {
     "name": "stdout",
     "output_type": "stream",
     "text": [
      "Optimal alpha: 0.0033\n",
      "Optimal l1_ratio:  0.5\n",
      "5611 selected SNPs\n",
      "Results saved to: /home/Vaishnavi/Simulation_rep_G2P/rep_39/Elasticnet_SVR_5000\n",
      "print shape of selected snps by Elastic net (1124, 5000)\n",
      "Y.shape (1124,)\n",
      "x_train=(786, 5000), x_test=(338, 5000), Y_train= (786,), Y_test= (338,)\n",
      "r2 is  0.9236974906624004\n",
      "mean_absolute_error 7.827605085995307\n",
      "mean_squared_error  98.31770301486958\n",
      "explained_variance_score 0.9240426473318414\n",
      "Processing file: /home/Vaishnavi/Simulation_rep_G2P/rep_40/GWAStutorialldlraw_40.raw\n",
      "Shape of file (1124, 184515)\n",
      "Shape of X (1124, 184509)\n",
      "Shape of y (1124,)\n"
     ]
    },
    {
     "name": "stderr",
     "output_type": "stream",
     "text": [
      "/apps/compiler/anaconda3/lib/python3.9/site-packages/sklearn/linear_model/_coordinate_descent.py:628: ConvergenceWarning: Objective did not converge. You might want to increase the number of iterations, check the scale of the features or consider increasing regularisation. Duality gap: 7.054e+02, tolerance: 1.199e+02\n",
      "  model = cd_fast.enet_coordinate_descent(\n",
      "/apps/compiler/anaconda3/lib/python3.9/site-packages/sklearn/linear_model/_coordinate_descent.py:628: ConvergenceWarning: Objective did not converge. You might want to increase the number of iterations, check the scale of the features or consider increasing regularisation. Duality gap: 7.800e+02, tolerance: 1.164e+02\n",
      "  model = cd_fast.enet_coordinate_descent(\n",
      "/apps/compiler/anaconda3/lib/python3.9/site-packages/sklearn/linear_model/_coordinate_descent.py:628: ConvergenceWarning: Objective did not converge. You might want to increase the number of iterations, check the scale of the features or consider increasing regularisation. Duality gap: 7.143e+02, tolerance: 1.153e+02\n",
      "  model = cd_fast.enet_coordinate_descent(\n",
      "/apps/compiler/anaconda3/lib/python3.9/site-packages/sklearn/linear_model/_coordinate_descent.py:628: ConvergenceWarning: Objective did not converge. You might want to increase the number of iterations, check the scale of the features or consider increasing regularisation. Duality gap: 5.231e+02, tolerance: 8.295e+01\n",
      "  model = cd_fast.enet_coordinate_descent(\n",
      "/apps/compiler/anaconda3/lib/python3.9/site-packages/sklearn/linear_model/_coordinate_descent.py:628: ConvergenceWarning: Objective did not converge. You might want to increase the number of iterations, check the scale of the features or consider increasing regularisation. Duality gap: 6.700e+02, tolerance: 1.175e+02\n",
      "  model = cd_fast.enet_coordinate_descent(\n",
      "/apps/compiler/anaconda3/lib/python3.9/site-packages/sklearn/linear_model/_coordinate_descent.py:628: ConvergenceWarning: Objective did not converge. You might want to increase the number of iterations, check the scale of the features or consider increasing regularisation. Duality gap: 8.110e+02, tolerance: 1.383e+02\n",
      "  model = cd_fast.enet_coordinate_descent(\n"
     ]
    },
    {
     "name": "stdout",
     "output_type": "stream",
     "text": [
      "Optimal alpha: 0.0033\n",
      "Optimal l1_ratio:  0.5\n",
      "5823 selected SNPs\n",
      "Results saved to: /home/Vaishnavi/Simulation_rep_G2P/rep_40/Elasticnet_SVR_5000\n",
      "print shape of selected snps by Elastic net (1124, 5000)\n",
      "Y.shape (1124,)\n",
      "x_train=(786, 5000), x_test=(338, 5000), Y_train= (786,), Y_test= (338,)\n",
      "r2 is  0.9279738314500846\n",
      "mean_absolute_error 7.752781979030801\n",
      "mean_squared_error  96.67430671694484\n",
      "explained_variance_score 0.9282407000955825\n",
      "Processing file: /home/Vaishnavi/Simulation_rep_G2P/rep_41/GWAStutorialldlraw.raw\n",
      "Shape of file (1124, 184515)\n",
      "Shape of X (1124, 184509)\n",
      "Shape of y (1124,)\n"
     ]
    },
    {
     "name": "stderr",
     "output_type": "stream",
     "text": [
      "/apps/compiler/anaconda3/lib/python3.9/site-packages/sklearn/linear_model/_coordinate_descent.py:628: ConvergenceWarning: Objective did not converge. You might want to increase the number of iterations, check the scale of the features or consider increasing regularisation. Duality gap: 7.162e+02, tolerance: 1.244e+02\n",
      "  model = cd_fast.enet_coordinate_descent(\n",
      "/apps/compiler/anaconda3/lib/python3.9/site-packages/sklearn/linear_model/_coordinate_descent.py:628: ConvergenceWarning: Objective did not converge. You might want to increase the number of iterations, check the scale of the features or consider increasing regularisation. Duality gap: 7.572e+02, tolerance: 1.241e+02\n",
      "  model = cd_fast.enet_coordinate_descent(\n",
      "/apps/compiler/anaconda3/lib/python3.9/site-packages/sklearn/linear_model/_coordinate_descent.py:628: ConvergenceWarning: Objective did not converge. You might want to increase the number of iterations, check the scale of the features or consider increasing regularisation. Duality gap: 7.135e+02, tolerance: 1.231e+02\n",
      "  model = cd_fast.enet_coordinate_descent(\n",
      "/apps/compiler/anaconda3/lib/python3.9/site-packages/sklearn/linear_model/_coordinate_descent.py:628: ConvergenceWarning: Objective did not converge. You might want to increase the number of iterations, check the scale of the features or consider increasing regularisation. Duality gap: 5.156e+02, tolerance: 9.381e+01\n",
      "  model = cd_fast.enet_coordinate_descent(\n",
      "/apps/compiler/anaconda3/lib/python3.9/site-packages/sklearn/linear_model/_coordinate_descent.py:628: ConvergenceWarning: Objective did not converge. You might want to increase the number of iterations, check the scale of the features or consider increasing regularisation. Duality gap: 6.661e+02, tolerance: 1.185e+02\n",
      "  model = cd_fast.enet_coordinate_descent(\n",
      "/apps/compiler/anaconda3/lib/python3.9/site-packages/sklearn/linear_model/_coordinate_descent.py:628: ConvergenceWarning: Objective did not converge. You might want to increase the number of iterations, check the scale of the features or consider increasing regularisation. Duality gap: 9.102e+02, tolerance: 1.463e+02\n",
      "  model = cd_fast.enet_coordinate_descent(\n"
     ]
    },
    {
     "name": "stdout",
     "output_type": "stream",
     "text": [
      "Optimal alpha: 0.0033\n",
      "Optimal l1_ratio:  0.5\n",
      "5732 selected SNPs\n",
      "Results saved to: /home/Vaishnavi/Simulation_rep_G2P/rep_41/Elasticnet_SVR_5000\n",
      "print shape of selected snps by Elastic net (1124, 5000)\n",
      "Y.shape (1124,)\n",
      "x_train=(786, 5000), x_test=(338, 5000), Y_train= (786,), Y_test= (338,)\n",
      "r2 is  0.9143581681099152\n",
      "mean_absolute_error 8.691669992133365\n",
      "mean_squared_error  116.18006969284879\n",
      "explained_variance_score 0.9151196154638661\n",
      "Processing file: /home/Vaishnavi/Simulation_rep_G2P/rep1-run-try/GWAStutorialldlraw.raw\n",
      "Shape of file (1124, 184515)\n",
      "Shape of X (1124, 184509)\n",
      "Shape of y (1124,)\n"
     ]
    },
    {
     "name": "stderr",
     "output_type": "stream",
     "text": [
      "/apps/compiler/anaconda3/lib/python3.9/site-packages/sklearn/linear_model/_coordinate_descent.py:628: ConvergenceWarning: Objective did not converge. You might want to increase the number of iterations, check the scale of the features or consider increasing regularisation. Duality gap: 1.233e+03, tolerance: 2.087e+02\n",
      "  model = cd_fast.enet_coordinate_descent(\n",
      "/apps/compiler/anaconda3/lib/python3.9/site-packages/sklearn/linear_model/_coordinate_descent.py:628: ConvergenceWarning: Objective did not converge. You might want to increase the number of iterations, check the scale of the features or consider increasing regularisation. Duality gap: 1.265e+03, tolerance: 2.157e+02\n",
      "  model = cd_fast.enet_coordinate_descent(\n",
      "/apps/compiler/anaconda3/lib/python3.9/site-packages/sklearn/linear_model/_coordinate_descent.py:628: ConvergenceWarning: Objective did not converge. You might want to increase the number of iterations, check the scale of the features or consider increasing regularisation. Duality gap: 1.211e+03, tolerance: 2.046e+02\n",
      "  model = cd_fast.enet_coordinate_descent(\n",
      "/apps/compiler/anaconda3/lib/python3.9/site-packages/sklearn/linear_model/_coordinate_descent.py:628: ConvergenceWarning: Objective did not converge. You might want to increase the number of iterations, check the scale of the features or consider increasing regularisation. Duality gap: 9.080e+02, tolerance: 1.355e+02\n",
      "  model = cd_fast.enet_coordinate_descent(\n",
      "/apps/compiler/anaconda3/lib/python3.9/site-packages/sklearn/linear_model/_coordinate_descent.py:628: ConvergenceWarning: Objective did not converge. You might want to increase the number of iterations, check the scale of the features or consider increasing regularisation. Duality gap: 1.247e+03, tolerance: 2.109e+02\n",
      "  model = cd_fast.enet_coordinate_descent(\n",
      "/apps/compiler/anaconda3/lib/python3.9/site-packages/sklearn/linear_model/_coordinate_descent.py:628: ConvergenceWarning: Objective did not converge. You might want to increase the number of iterations, check the scale of the features or consider increasing regularisation. Duality gap: 1.475e+03, tolerance: 2.444e+02\n",
      "  model = cd_fast.enet_coordinate_descent(\n"
     ]
    },
    {
     "name": "stdout",
     "output_type": "stream",
     "text": [
      "Optimal alpha: 0.0033\n",
      "Optimal l1_ratio:  0.5\n",
      "6882 selected SNPs\n",
      "Results saved to: /home/Vaishnavi/Simulation_rep_G2P/rep1-run-try/Elasticnet_SVR_5000\n",
      "print shape of selected snps by Elastic net (1124, 5000)\n",
      "Y.shape (1124,)\n",
      "x_train=(786, 5000), x_test=(338, 5000), Y_train= (786,), Y_test= (338,)\n",
      "r2 is  0.8821323668374238\n",
      "mean_absolute_error 12.79903698921781\n",
      "mean_squared_error  273.5286007826961\n",
      "explained_variance_score 0.8826350694200411\n"
     ]
    }
   ],
   "source": [
    "# Define the root directory containing the subdirectories\n",
    "root_dir = \"/home/Vaishnavi/Simulation_rep_G2P\"\n",
    "\n",
    "# Initialize a list to store results\n",
    "results = []\n",
    "\n",
    "# Walk through subdirectories to find .raw files\n",
    "for subdir, dirs, files in os.walk(root_dir):\n",
    "    for file in files:\n",
    "        if file.endswith(\".raw\"):\n",
    "            file_path = os.path.join(subdir, file)\n",
    "            print(f\"Processing file: {file_path}\")\n",
    "            \n",
    "            # Process the file and calculate metrics \n",
    "            try:\n",
    "                r2, mae, variance = process_file(file_path)\n",
    "                results.append({\n",
    "                    \"file\": file,\n",
    "                    \"directory\": subdir,\n",
    "                    \"r2_score\": r2,\n",
    "                    \"mae\": mae,\n",
    "                    \"explained_variance\": variance\n",
    "                })\n",
    "            except Exception as e:\n",
    "                print(f\"Error processing {file_path}: {e}\")\n"
   ]
  },
  {
   "cell_type": "code",
   "execution_count": 50,
   "metadata": {},
   "outputs": [
    {
     "name": "stdout",
     "output_type": "stream",
     "text": [
      "Processing completed. R-square scores saved to r2_scores.csv.\n"
     ]
    }
   ],
   "source": [
    "# Save results to a CSV file\n",
    "results_df = pd.DataFrame(results)\n",
    "results_df.to_csv(\"r2_scores.csv\", index=False)\n",
    "\n",
    "print(\"Processing completed. R-square scores saved to r2_scores.csv.\")"
   ]
  },
  {
   "cell_type": "code",
   "execution_count": null,
   "metadata": {},
   "outputs": [],
   "source": []
  },
  {
   "cell_type": "code",
   "execution_count": null,
   "metadata": {},
   "outputs": [],
   "source": []
  },
  {
   "cell_type": "code",
   "execution_count": null,
   "metadata": {},
   "outputs": [],
   "source": [
    "# TRY"
   ]
  },
  {
   "cell_type": "code",
   "execution_count": null,
   "metadata": {},
   "outputs": [],
   "source": []
  },
  {
   "cell_type": "code",
   "execution_count": 18,
   "metadata": {},
   "outputs": [
    {
     "name": "stdout",
     "output_type": "stream",
     "text": [
      "Processing file: /home/Vaishnavi/Simulation_rep_G2P/rep_1/GWAStutorialldlraw_1.raw\n",
      "Processing file: /home/Vaishnavi/Simulation_rep_G2P/rep_2/GWAStutorialldlraw_2.raw\n",
      "Processing file: /home/Vaishnavi/Simulation_rep_G2P/rep_3/GWAStutorialldlraw_3.raw\n",
      "Processing file: /home/Vaishnavi/Simulation_rep_G2P/rep_4/GWAStutorialldlraw_4.raw\n",
      "Processing file: /home/Vaishnavi/Simulation_rep_G2P/rep_5/GWAStutorialldlraw_5.raw\n",
      "Processing file: /home/Vaishnavi/Simulation_rep_G2P/rep_6/GWAStutorialldlraw_6.raw\n",
      "Processing file: /home/Vaishnavi/Simulation_rep_G2P/rep_7/GWAStutorialldlraw_7.raw\n",
      "Processing file: /home/Vaishnavi/Simulation_rep_G2P/rep_8/GWAStutorialldlraw_8.raw\n",
      "Processing file: /home/Vaishnavi/Simulation_rep_G2P/rep_9/GWAStutorialldlraw_9.raw\n",
      "Processing file: /home/Vaishnavi/Simulation_rep_G2P/rep_10/GWAStutorialldlraw_10.raw\n",
      "Processing file: /home/Vaishnavi/Simulation_rep_G2P/rep_11/GWAStutorialldlraw_11.raw\n",
      "Processing file: /home/Vaishnavi/Simulation_rep_G2P/rep_12/GWAStutorialldlraw_12.raw\n",
      "Processing file: /home/Vaishnavi/Simulation_rep_G2P/rep_13/GWAStutorialldlraw_13.raw\n",
      "Processing file: /home/Vaishnavi/Simulation_rep_G2P/rep_14/GWAStutorialldlraw_14.raw\n",
      "Processing file: /home/Vaishnavi/Simulation_rep_G2P/rep_15/GWAStutorialldlraw_15.raw\n",
      "Processing file: /home/Vaishnavi/Simulation_rep_G2P/rep_16/GWAStutorialldlraw_16.raw\n",
      "Processing file: /home/Vaishnavi/Simulation_rep_G2P/rep_17/GWAStutorialldlraw_17.raw\n",
      "Processing file: /home/Vaishnavi/Simulation_rep_G2P/rep_18/GWAStutorialldlraw_18.raw\n",
      "Processing file: /home/Vaishnavi/Simulation_rep_G2P/rep_19/GWAStutorialldlraw_19.raw\n",
      "Processing file: /home/Vaishnavi/Simulation_rep_G2P/rep_20/GWAStutorialldlraw_20.raw\n",
      "Processing file: /home/Vaishnavi/Simulation_rep_G2P/rep_21/GWAStutorialldlraw_21.raw\n",
      "Processing file: /home/Vaishnavi/Simulation_rep_G2P/rep_22/GWAStutorialldlraw_22.raw\n",
      "Processing file: /home/Vaishnavi/Simulation_rep_G2P/rep_23/GWAStutorialldlraw_23.raw\n",
      "Processing file: /home/Vaishnavi/Simulation_rep_G2P/rep_24/GWAStutorialldlraw_24.raw\n",
      "Processing file: /home/Vaishnavi/Simulation_rep_G2P/rep_25/GWAStutorialldlraw_25.raw\n",
      "Processing file: /home/Vaishnavi/Simulation_rep_G2P/rep_26/GWAStutorialldlraw_26.raw\n",
      "Processing file: /home/Vaishnavi/Simulation_rep_G2P/rep_27/GWAStutorialldlraw_27.raw\n",
      "Processing file: /home/Vaishnavi/Simulation_rep_G2P/direct_rep1/GWAStutorialldlraw_1.raw\n",
      "Processing file: /home/Vaishnavi/Simulation_rep_G2P/direct_rep2/GWAStutorialldlraw_2.raw\n",
      "Processing file: /home/Vaishnavi/Simulation_rep_G2P/direct_rep3/GWAStutorialldlraw_3.raw\n",
      "Processing file: /home/Vaishnavi/Simulation_rep_G2P/direct_rep4/GWAStutorialldlraw_4.raw\n",
      "Processing file: /home/Vaishnavi/Simulation_rep_G2P/rep_28/GWAStutorialldlraw_28.raw\n",
      "Processing file: /home/Vaishnavi/Simulation_rep_G2P/direct_rep5/GWAStutorialldlraw_5.raw\n",
      "Processing file: /home/Vaishnavi/Simulation_rep_G2P/direct_rep7/GWAStutorialldlraw_7.raw\n",
      "Processing file: /home/Vaishnavi/Simulation_rep_G2P/direct_rep8/GWAStutorialldlraw_8.raw\n",
      "Processing file: /home/Vaishnavi/Simulation_rep_G2P/rep_29/GWAStutorialldlraw.raw\n",
      "Processing file: /home/Vaishnavi/Simulation_rep_G2P/direct_rep9/GWAStutorialldlraw_9.raw\n",
      "Processing file: /home/Vaishnavi/Simulation_rep_G2P/direct_rep10/GWAStutorialldlraw_10.raw\n",
      "Processing file: /home/Vaishnavi/Simulation_rep_G2P/rep_30/GWAStutorialldlraw.raw\n",
      "Processing file: /home/Vaishnavi/Simulation_rep_G2P/direct_rep11/GWAStutorialldlraw_11.raw\n",
      "Processing file: /home/Vaishnavi/Simulation_rep_G2P/direct_rep12/GWAStutorialldlraw_12.raw\n",
      "Processing file: /home/Vaishnavi/Simulation_rep_G2P/rep_31/GWAStutorialldlraw.raw\n",
      "Processing file: /home/Vaishnavi/Simulation_rep_G2P/direct_rep13/GWAStutorialldlraw_13.raw\n",
      "Processing file: /home/Vaishnavi/Simulation_rep_G2P/rep_32/GWAStutorialldlraw.raw\n",
      "Processing file: /home/Vaishnavi/Simulation_rep_G2P/direct_rep15/GWAStutorialldlraw_15.raw\n",
      "Processing file: /home/Vaishnavi/Simulation_rep_G2P/direct_rep16/GWAStutorialldlraw_16.raw\n",
      "Processing file: /home/Vaishnavi/Simulation_rep_G2P/rep_33/GWAStutorialldlraw_33.raw\n",
      "Processing file: /home/Vaishnavi/Simulation_rep_G2P/rep_34/GWAStutorialldlraw_34.raw\n",
      "Processing file: /home/Vaishnavi/Simulation_rep_G2P/rep_35/GWAStutorialldlraw_35.raw\n",
      "Processing file: /home/Vaishnavi/Simulation_rep_G2P/rep_36/GWAStutorialldlraw_36.raw\n",
      "Processing file: /home/Vaishnavi/Simulation_rep_G2P/rep_37/GWAStutorialldlraw.raw\n",
      "Processing file: /home/Vaishnavi/Simulation_rep_G2P/direct_rep17/GWAStutorialldlraw_17.raw\n",
      "Processing file: /home/Vaishnavi/Simulation_rep_G2P/direct_rep18/GWAStutorialldlraw_18.raw\n",
      "Processing file: /home/Vaishnavi/Simulation_rep_G2P/rep_38/GWAStutorialldlraw_38.raw\n",
      "Processing file: /home/Vaishnavi/Simulation_rep_G2P/rep_39/GWAStutorialldlraw_39.raw\n",
      "Processing file: /home/Vaishnavi/Simulation_rep_G2P/rep_40/GWAStutorialldlraw_40.raw\n",
      "Processing file: /home/Vaishnavi/Simulation_rep_G2P/direct_rep20/GWAStutorialldlraw_20.raw\n",
      "Processing file: /home/Vaishnavi/Simulation_rep_G2P/rep_41/GWAStutorialldlraw.raw\n",
      "Processing file: /home/Vaishnavi/Simulation_rep_G2P/rep1-run-try/GWAStutorialldlraw.raw\n",
      "Processing file: /home/Vaishnavi/Simulation_rep_G2P/system_replicates/rep_1/GWAStutorialldlraw_1.raw\n",
      "Processing file: /home/Vaishnavi/Simulation_rep_G2P/system_replicates/rep_2/GWAStutorialldlraw_2.raw\n",
      "Processing file: /home/Vaishnavi/Simulation_rep_G2P/system_replicates/rep_3/GWAStutorialldlraw_3.raw\n",
      "Processing file: /home/Vaishnavi/Simulation_rep_G2P/system_replicates/rep_4/GWAStutorialldlraw_4.raw\n",
      "Processing file: /home/Vaishnavi/Simulation_rep_G2P/system_replicates/rep_5/GWAStutorialldlraw_5.raw\n",
      "Processing file: /home/Vaishnavi/Simulation_rep_G2P/system_replicates/rep_6/GWAStutorialldlraw_6.raw\n",
      "Processing file: /home/Vaishnavi/Simulation_rep_G2P/system_replicates/rep_7/GWAStutorialldlraw_7.raw\n",
      "Processing file: /home/Vaishnavi/Simulation_rep_G2P/system_replicates/rep_8/GWAStutorialldlraw_8.raw\n",
      "Processing file: /home/Vaishnavi/Simulation_rep_G2P/system_replicates/rep_9/GWAStutorialldlraw_9.raw\n",
      "Processing file: /home/Vaishnavi/Simulation_rep_G2P/system_replicates/rep_10/GWAStutorialldlraw_10.raw\n",
      "Processing file: /home/Vaishnavi/Simulation_rep_G2P/system_replicates/rep_11/GWAStutorialldlraw_11.raw\n",
      "Processing file: /home/Vaishnavi/Simulation_rep_G2P/system_replicates/rep_12/GWAStutorialldlraw_12.raw\n",
      "Processing file: /home/Vaishnavi/Simulation_rep_G2P/system_replicates/rep_13/GWAStutorialldlraw_13.raw\n",
      "Processing file: /home/Vaishnavi/Simulation_rep_G2P/system_replicates/rep_14/GWAStutorialldlraw_14.raw\n",
      "Processing file: /home/Vaishnavi/Simulation_rep_G2P/system_replicates/rep_15/GWAStutorialldlraw_15.raw\n",
      "Processing file: /home/Vaishnavi/Simulation_rep_G2P/system_replicates/rep_16/GWAStutorialldlraw_16.raw\n",
      "Processing file: /home/Vaishnavi/Simulation_rep_G2P/system_replicates/rep_17/GWAStutorialldlraw_17.raw\n",
      "Processing file: /home/Vaishnavi/Simulation_rep_G2P/system_replicates/rep_18/GWAStutorialldlraw_18.raw\n",
      "Processing file: /home/Vaishnavi/Simulation_rep_G2P/system_replicates/rep_19/GWAStutorialldlraw_19.raw\n",
      "Processing file: /home/Vaishnavi/Simulation_rep_G2P/system_replicates/rep_20/GWAStutorialldlraw_20.raw\n",
      "Processing file: /home/Vaishnavi/Simulation_rep_G2P/system_replicates/rep_21/GWAStutorialldlraw_21.raw\n",
      "Processing file: /home/Vaishnavi/Simulation_rep_G2P/system_replicates/rep_22/GWAStutorialldlraw_22.raw\n",
      "Processing file: /home/Vaishnavi/Simulation_rep_G2P/system_replicates/rep_23/GWAStutorialldlraw_23.raw\n",
      "Processing file: /home/Vaishnavi/Simulation_rep_G2P/system_replicates/rep_24/GWAStutorialldlraw_24.raw\n",
      "Processing file: /home/Vaishnavi/Simulation_rep_G2P/system_replicates/rep_25/GWAStutorialldlraw_25.raw\n",
      "Processing file: /home/Vaishnavi/Simulation_rep_G2P/system_replicates/rep_26/GWAStutorialldlraw_26.raw\n",
      "Processing file: /home/Vaishnavi/Simulation_rep_G2P/system_replicates/rep_27/GWAStutorialldlraw_27.raw\n",
      "Processing file: /home/Vaishnavi/Simulation_rep_G2P/system_replicates/rep_28/GWAStutorialldlraw_28.raw\n",
      "Processing file: /home/Vaishnavi/Simulation_rep_G2P/system_replicates/rep_29/GWAStutorialldlraw_29.raw\n",
      "Processing file: /home/Vaishnavi/Simulation_rep_G2P/system_replicates/rep_30/GWAStutorialldlraw_30.raw\n",
      "Processing file: /home/Vaishnavi/Simulation_rep_G2P/system_replicates/rep_31/GWAStutorialldlraw_31.raw\n",
      "Processing file: /home/Vaishnavi/Simulation_rep_G2P/system_replicates/rep_32/GWAStutorialldlraw_32.raw\n",
      "Processing file: /home/Vaishnavi/Simulation_rep_G2P/system_replicates/rep_33/GWAStutorialldlraw_33.raw\n",
      "Processing file: /home/Vaishnavi/Simulation_rep_G2P/system_replicates/rep_34/GWAStutorialldlraw_34.raw\n",
      "Processing file: /home/Vaishnavi/Simulation_rep_G2P/system_replicates/rep_35/GWAStutorialldlraw_35.raw\n",
      "Processing file: /home/Vaishnavi/Simulation_rep_G2P/system_replicates/rep_36/GWAStutorialldlraw_36.raw\n",
      "Processing file: /home/Vaishnavi/Simulation_rep_G2P/system_replicates/rep_37/GWAStutorialldlraw_37.raw\n",
      "Processing file: /home/Vaishnavi/Simulation_rep_G2P/system_replicates/rep_38/GWAStutorialldlraw_38.raw\n",
      "Processing file: /home/Vaishnavi/Simulation_rep_G2P/system_replicates/rep_39/GWAStutorialldlraw_39.raw\n",
      "Processing file: /home/Vaishnavi/Simulation_rep_G2P/system_replicates/rep_40/GWAStutorialldlraw_40.raw\n",
      "Processing file: /home/Vaishnavi/Simulation_rep_G2P/system_replicates/rep_41/GWAStutorialldlraw_41.raw\n"
     ]
    }
   ],
   "source": [
    "# Define the root directory containing the subdirectories\n",
    "root_dir = \"/home/Vaishnavi/Simulation_rep_G2P\"\n",
    "\n",
    "# Initialize a list to store results\n",
    "results = []\n",
    "\n",
    "# Walk through subdirectories to find .raw files\n",
    "for subdir, dirs, files in os.walk(root_dir):\n",
    "    for file in files:\n",
    "        if file.endswith(\".raw\"):\n",
    "            file_path = os.path.join(subdir, file)\n",
    "            print(f\"Processing file: {file_path}\")\n",
    "            \n"
   ]
  },
  {
   "cell_type": "code",
   "execution_count": null,
   "metadata": {},
   "outputs": [],
   "source": []
  },
  {
   "cell_type": "code",
   "execution_count": null,
   "metadata": {},
   "outputs": [],
   "source": []
  }
 ],
 "metadata": {
  "kernelspec": {
   "display_name": "Python 3 (ipykernel)",
   "language": "python",
   "name": "python3"
  },
  "language_info": {
   "codemirror_mode": {
    "name": "ipython",
    "version": 3
   },
   "file_extension": ".py",
   "mimetype": "text/x-python",
   "name": "python",
   "nbconvert_exporter": "python",
   "pygments_lexer": "ipython3",
   "version": "3.9.13"
  }
 },
 "nbformat": 4,
 "nbformat_minor": 4
}
